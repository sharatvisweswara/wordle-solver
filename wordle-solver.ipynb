{
 "cells": [
  {
   "cell_type": "markdown",
   "source": [
    "# Wordle Solver\n",
    "\n",
    "We'll start with a dumb solver and work out way up to something nicer.\n",
    "\n",
    "Let's start with some dependencies we need to make this work."
   ],
   "metadata": {
    "collapsed": false
   }
  },
  {
   "cell_type": "code",
   "execution_count": 1,
   "outputs": [
    {
     "data": {
      "text/plain": ""
     },
     "metadata": {},
     "output_type": "display_data"
    },
    {
     "data": {
      "text/html": "            <div id=\"kotlin_out_0\"/>\n            <script type=\"text/javascript\">\n                            if(!window.kotlinQueues) {\n                window.kotlinQueues = {};\n            }\n            if(!window.kotlinQueues[\"kandyLetsPlot\"]) {\n                var resQueue = [];\n                window.kotlinQueues[\"kandyLetsPlot\"] = resQueue;\n                window[\"call_kandyLetsPlot\"] = function(f) {\n                    resQueue.push(f);\n                }\n            }\n            (function (){\n                var modifiers = [(function(script) {\n    script.src = \"https://cdn.jsdelivr.net/gh/JetBrains/lets-plot@v3.1.0/js-package/distr/lets-plot.min.js\"\n    script.type = \"text/javascript\";\n})];\n                var e = document.getElementById(\"kotlin_out_0\");\n                modifiers.forEach(function (gen) {\n                    var script = document.createElement(\"script\");\n                    gen(script)\n                    script.addEventListener(\"load\", function() {\n                        window[\"call_kandyLetsPlot\"] = function(f) {f();};\n                        window.kotlinQueues[\"kandyLetsPlot\"].forEach(function(f) {f();});\n                        window.kotlinQueues[\"kandyLetsPlot\"] = [];\n                    }, false);\n                    script.addEventListener(\"error\", function() {\n                        window[\"call_kandyLetsPlot\"] = function(f) {};\n                        window.kotlinQueues[\"kandyLetsPlot\"] = [];\n                        var div = document.createElement(\"div\");\n                        div.style.color = 'darkred';\n                        div.textContent = 'Error loading resource kandyLetsPlot';\n                        document.getElementById(\"kotlin_out_0\").appendChild(div);\n                    }, false);\n                    \n                    e.appendChild(script);\n                });\n            })();\n            </script>"
     },
     "metadata": {},
     "output_type": "display_data"
    }
   ],
   "source": [
    "%use kandy(0.4.4)"
   ],
   "metadata": {
    "collapsed": false,
    "ExecuteTime": {
     "end_time": "2023-10-22T07:27:30.651414Z",
     "start_time": "2023-10-22T07:27:27.451450Z"
    }
   }
  },
  {
   "cell_type": "markdown",
   "source": [
    "First we need to \"model\" the game. The game state is a list of guesses, where each guess is a five-letter word and each letter is colored yellow, green or red depending on whether the letter is in the word, in the right place, or not in the word at all. We'll represent this as a list of tuples, where each tuple is a letter and a color.\n",
    "\n",
    "Sealed classes seem like a nice way to model colored letters, let's also write some `toString` implementations so we can print them out nicely."
   ],
   "metadata": {
    "collapsed": false
   }
  },
  {
   "cell_type": "code",
   "execution_count": 2,
   "metadata": {
    "collapsed": true,
    "ExecuteTime": {
     "end_time": "2023-10-22T07:27:30.930919Z",
     "start_time": "2023-10-22T07:27:30.636994Z"
    }
   },
   "outputs": [],
   "source": [
    "sealed class Letter {\n",
    "    abstract val char: Char\n",
    "\n",
    "    protected fun toString(color: String) = \"<td style=\\\"background-color: $color\\\">$char</td>\"\n",
    "\n",
    "    data class Yellow(override val char: Char) : Letter() {\n",
    "        override fun toString() = toString(\"yellow\")\n",
    "    }\n",
    "\n",
    "    data class Green(override val char: Char) : Letter() {\n",
    "        override fun toString() = toString(\"green\")\n",
    "    }\n",
    "\n",
    "    data class Red(override val char: Char) : Letter() {\n",
    "        override fun toString() = toString(\"red\")\n",
    "    }\n",
    "}"
   ]
  },
  {
   "cell_type": "markdown",
   "source": [
    "Let's test it out"
   ],
   "metadata": {
    "collapsed": false
   }
  },
  {
   "cell_type": "code",
   "execution_count": 3,
   "outputs": [
    {
     "data": {
      "text/html": "<table><tr><td style=\"background-color: green\">a</td><td style=\"background-color: yellow\">b</td><td style=\"background-color: red\">c</td></tr></table>"
     },
     "execution_count": 3,
     "metadata": {},
     "output_type": "execute_result"
    }
   ],
   "source": [
    "HTML(\"<table><tr>${listOf(Letter.Green('a'), Letter.Yellow('b'), Letter.Red('c')).joinToString(\"\")}</tr></table>\")"
   ],
   "metadata": {
    "collapsed": false,
    "ExecuteTime": {
     "end_time": "2023-10-22T07:27:31.082182Z",
     "start_time": "2023-10-22T07:27:30.926739Z"
    }
   }
  },
  {
   "cell_type": "markdown",
   "source": [
    "Excellent, now let's model the game state\n"
   ],
   "metadata": {
    "collapsed": false
   }
  },
  {
   "cell_type": "code",
   "execution_count": 4,
   "outputs": [],
   "source": [
    "data class Game(val guesses: List<List<Letter>>) {\n",
    "    init {\n",
    "        require(guesses.size <= 5) { \"Game must have 5 guesses at most\" }\n",
    "        require(guesses.all { it.size == 5 }) { \"Each guess must have 5 letters\" }\n",
    "    }\n",
    "\n",
    "    override fun toString() = \"<table>${guesses.joinToString(\"\") { \"<tr>${it.joinToString(\"\")}</tr>\" }}</table>\"\n",
    "}"
   ],
   "metadata": {
    "collapsed": false,
    "ExecuteTime": {
     "end_time": "2023-10-22T07:27:31.443237Z",
     "start_time": "2023-10-22T07:27:31.079954Z"
    }
   }
  },
  {
   "cell_type": "markdown",
   "source": [
    "Let's test it out"
   ],
   "metadata": {
    "collapsed": false
   }
  },
  {
   "cell_type": "code",
   "execution_count": 5,
   "outputs": [
    {
     "data": {
      "text/html": "<table><tr><td style=\"background-color: green\">a</td><td style=\"background-color: yellow\">b</td><td style=\"background-color: red\">c</td><td style=\"background-color: green\">d</td><td style=\"background-color: yellow\">e</td></tr><tr><td style=\"background-color: green\">v</td><td style=\"background-color: yellow\">w</td><td style=\"background-color: red\">x</td><td style=\"background-color: green\">y</td><td style=\"background-color: yellow\">z</td></tr></table>"
     },
     "execution_count": 5,
     "metadata": {},
     "output_type": "execute_result"
    }
   ],
   "source": [
    "HTML(\n",
    "    Game(\n",
    "        listOf(\n",
    "            listOf(Letter.Green('a'), Letter.Yellow('b'), Letter.Red('c'), Letter.Green('d'), Letter.Yellow('e')),\n",
    "            listOf(Letter.Green('v'), Letter.Yellow('w'), Letter.Red('x'), Letter.Green('y'), Letter.Yellow('z'))\n",
    "        )\n",
    "    ).toString()\n",
    ")"
   ],
   "metadata": {
    "collapsed": false,
    "ExecuteTime": {
     "end_time": "2023-10-22T07:27:31.543123Z",
     "start_time": "2023-10-22T07:27:31.432618Z"
    }
   }
  },
  {
   "cell_type": "markdown",
   "source": [
    "Let's define a \"guesser\" abstraction and a dummy implementation so we can write a game driver around it."
   ],
   "metadata": {
    "collapsed": false
   }
  },
  {
   "cell_type": "code",
   "execution_count": 6,
   "outputs": [],
   "source": [
    "typealias Guesser = (Game) -> String\n",
    "\n",
    "val staticGuesser: Guesser = { \"abcde\" }"
   ],
   "metadata": {
    "collapsed": false,
    "ExecuteTime": {
     "end_time": "2023-10-22T07:27:31.615758Z",
     "start_time": "2023-10-22T07:27:31.540806Z"
    }
   }
  },
  {
   "cell_type": "markdown",
   "source": [
    "Let's write a game driver that takes a guesser and runs a game until it's over."
   ],
   "metadata": {
    "collapsed": false
   }
  },
  {
   "cell_type": "code",
   "execution_count": 7,
   "outputs": [],
   "source": [
    "fun playGame(actualWord: String, guesser: Guesser): Game {\n",
    "    var game = Game(emptyList())\n",
    "    var solved = false\n",
    "    while (game.guesses.size < 5 && !solved) {\n",
    "        val guess = guesser(game)\n",
    "        check(guess.length == 5) { \"Guess must be 5 letters\" }\n",
    "\n",
    "        val letters = guess.mapIndexed { index, char ->\n",
    "            when {\n",
    "                char == actualWord[index] -> Letter.Green(char)\n",
    "                char in actualWord -> Letter.Yellow(char)\n",
    "                else -> Letter.Red(char)\n",
    "            }\n",
    "        }\n",
    "\n",
    "        game = game.copy(guesses = game.guesses + listOf(letters))\n",
    "        solved = letters.all { it is Letter.Green }\n",
    "    }\n",
    "\n",
    "    return game\n",
    "}"
   ],
   "metadata": {
    "collapsed": false,
    "ExecuteTime": {
     "end_time": "2023-10-22T07:27:31.972733Z",
     "start_time": "2023-10-22T07:27:31.615535Z"
    }
   }
  },
  {
   "cell_type": "markdown",
   "source": [
    "Let's play a game with our dummy guesser and make it win"
   ],
   "metadata": {
    "collapsed": false
   }
  },
  {
   "cell_type": "code",
   "execution_count": 8,
   "outputs": [
    {
     "data": {
      "text/html": "<table><tr><td style=\"background-color: green\">a</td><td style=\"background-color: green\">b</td><td style=\"background-color: green\">c</td><td style=\"background-color: green\">d</td><td style=\"background-color: green\">e</td></tr></table>"
     },
     "execution_count": 8,
     "metadata": {},
     "output_type": "execute_result"
    }
   ],
   "source": [
    "HTML(playGame(\"abcde\", staticGuesser).toString())"
   ],
   "metadata": {
    "collapsed": false,
    "ExecuteTime": {
     "end_time": "2023-10-22T07:27:32.028988Z",
     "start_time": "2023-10-22T07:27:31.972250Z"
    }
   }
  },
  {
   "cell_type": "markdown",
   "source": [
    "Now make it lose"
   ],
   "metadata": {
    "collapsed": false
   }
  },
  {
   "cell_type": "code",
   "execution_count": 9,
   "outputs": [
    {
     "data": {
      "text/html": "<table><tr><td style=\"background-color: green\">a</td><td style=\"background-color: red\">b</td><td style=\"background-color: green\">c</td><td style=\"background-color: red\">d</td><td style=\"background-color: green\">e</td></tr><tr><td style=\"background-color: green\">a</td><td style=\"background-color: red\">b</td><td style=\"background-color: green\">c</td><td style=\"background-color: red\">d</td><td style=\"background-color: green\">e</td></tr><tr><td style=\"background-color: green\">a</td><td style=\"background-color: red\">b</td><td style=\"background-color: green\">c</td><td style=\"background-color: red\">d</td><td style=\"background-color: green\">e</td></tr><tr><td style=\"background-color: green\">a</td><td style=\"background-color: red\">b</td><td style=\"background-color: green\">c</td><td style=\"background-color: red\">d</td><td style=\"background-color: green\">e</td></tr><tr><td style=\"background-color: green\">a</td><td style=\"background-color: red\">b</td><td style=\"background-color: green\">c</td><td style=\"background-color: red\">d</td><td style=\"background-color: green\">e</td></tr></table>"
     },
     "execution_count": 9,
     "metadata": {},
     "output_type": "execute_result"
    }
   ],
   "source": [
    "HTML(playGame(\"awcye\", staticGuesser).toString())"
   ],
   "metadata": {
    "collapsed": false,
    "ExecuteTime": {
     "end_time": "2023-10-22T07:27:32.080369Z",
     "start_time": "2023-10-22T07:27:32.025524Z"
    }
   }
  },
  {
   "cell_type": "markdown",
   "source": [
    "To write better guessers we need to know the dictionary of valid words. Let's load that up."
   ],
   "metadata": {
    "collapsed": false
   }
  },
  {
   "cell_type": "code",
   "execution_count": 10,
   "outputs": [
    {
     "name": "stdout",
     "output_type": "stream",
     "text": [
      "loaded 5497 words\n"
     ]
    }
   ],
   "source": [
    "val dictionary = java.io.File(\"/usr/share/dict/words\")\n",
    "    .readLines()\n",
    "    .filter { it.length == 5 }\n",
    "    .filter { it.all { char -> char in 'a'..'z' } }\n",
    "    .filter { it.toSet().size == 5 }\n",
    "\n",
    "println(\"loaded ${dictionary.size} words\")\n"
   ],
   "metadata": {
    "collapsed": false,
    "ExecuteTime": {
     "end_time": "2023-10-22T07:27:32.324664Z",
     "start_time": "2023-10-22T07:27:32.073942Z"
    }
   }
  },
  {
   "cell_type": "markdown",
   "source": [
    "We also need to get more useful information out of the game state, it's not easy to work with nested lists all the time, so let's write some helper functions to make it easier to work with.\n"
   ],
   "metadata": {
    "collapsed": false
   }
  },
  {
   "cell_type": "code",
   "execution_count": 11,
   "outputs": [
    {
     "name": "stdout",
     "output_type": "stream",
     "text": [
      "red: [c, f]\n",
      "green: {a=0, d=3, e=1}\n",
      "yellow: {b=[1, 2]}\n"
     ]
    }
   ],
   "source": [
    "// just the words\n",
    "fun Game.words() = guesses.map { it.joinToString(\"\") { letter -> letter.char.toString() } }\n",
    "\n",
    "// all red letters\n",
    "fun Game.redLetters() = guesses.flatMap { it.filterIsInstance<Letter.Red>() }\n",
    "    .map { it.char }\n",
    "    .toSet()\n",
    "\n",
    "// all green letters but we need to know the positions too\n",
    "fun Game.greenLetters() = guesses\n",
    "    .map { it.withIndex() }\n",
    "    .flatMap { it.filter { (_, letter) -> letter is Letter.Green } }\n",
    "    .distinctBy { it.value.char }\n",
    "    .associate { it.value.char to it.index }\n",
    "\n",
    "// all yellow letters, except those that turned out green later.\n",
    "// we also need positions for these but remember that a yellow letter can be in multiple positions\n",
    "fun Game.yellowLetters(): Map<Char, Set<Int>> = guesses\n",
    "    .map { it.withIndex() }\n",
    "    .flatMap { it.filter { (_, letter) -> letter is Letter.Yellow } }\n",
    "    .groupBy { it.value.char }\n",
    "    .mapValues { it.value.map { it.index }.toSet() }\n",
    "    .minus(greenLetters().keys)\n",
    "\n",
    "// let's see if it works\n",
    "fun gameFunctionsTest() {\n",
    "    val game = Game(\n",
    "        listOf(\n",
    "            listOf(Letter.Green('a'), Letter.Yellow('b'), Letter.Red('c'), Letter.Green('d'), Letter.Yellow('e')),\n",
    "            listOf(Letter.Green('a'), Letter.Green('e'), Letter.Yellow('b'), Letter.Green('d'), Letter.Red('f'))\n",
    "        )\n",
    "    )\n",
    "    println(\"red: ${game.redLetters()}\")\n",
    "    println(\"green: ${game.greenLetters()}\")\n",
    "    println(\"yellow: ${game.yellowLetters()}\")\n",
    "}\n",
    "\n",
    "gameFunctionsTest()"
   ],
   "metadata": {
    "collapsed": false,
    "ExecuteTime": {
     "end_time": "2023-10-22T07:27:45.163239Z",
     "start_time": "2023-10-22T07:27:44.597372Z"
    }
   }
  },
  {
   "cell_type": "markdown",
   "source": [
    "With that we can now write a better guesser that finds the first word in the dictionary that has none of the red letters, all the green letters at the same positions, and all the yellow letters in any position. For this iteration we will not take into account the positions of the yellow letters.\n"
   ],
   "metadata": {
    "collapsed": false
   }
  },
  {
   "cell_type": "code",
   "execution_count": 12,
   "outputs": [
    {
     "name": "stdout",
     "output_type": "stream",
     "text": [
      "? used: abcde -> true\n",
      "? red([]): abcde -> true\n",
      "? green({}): abcde -> true\n",
      "? yellow({}): abcde -> true\n",
      "> first guess: abcde\n",
      "? used: abcde -> false\n",
      "? used: xxxxx -> true\n",
      "? red([b, d]): xxxxx -> true\n",
      "? green({a=0, c=2, e=4}): xxxxx -> false\n",
      "? used: afcge -> true\n",
      "? red([b, d]): afcge -> true\n",
      "? green({a=0, c=2, e=4}): afcge -> true\n",
      "? yellow({}): afcge -> true\n",
      "> second guess: afcge\n",
      "? used: abcde -> false\n",
      "? used: xxxxx -> true\n",
      "? red([b, d]): xxxxx -> true\n",
      "? green({a=0, c=2, e=4}): xxxxx -> false\n",
      "? used: afcge -> false\n",
      "? used: yyyyy -> true\n",
      "? red([b, d]): yyyyy -> true\n",
      "? green({a=0, c=2, e=4}): yyyyy -> false\n",
      "? used: agcfe -> true\n",
      "? red([b, d]): agcfe -> true\n",
      "? green({a=0, c=2, e=4}): agcfe -> true\n",
      "? yellow({f=[1], g=[3]}): agcfe -> true\n",
      "> third guess: agcfe\n"
     ]
    }
   ],
   "source": [
    "fun simpleFirstMatchGuesser(dictionary: List<String>, debug: Boolean = false): Guesser = { game ->\n",
    "    val redLetters = game.redLetters()\n",
    "    val greenLetters = game.greenLetters()\n",
    "    val yellowLetters = game.yellowLetters()\n",
    "    val usedWords = game.words()\n",
    "\n",
    "    fun Sequence<String>.f(name: String, fn: (String) -> Boolean) = filter {\n",
    "        val result = fn(it)\n",
    "        if (debug) {\n",
    "            println(\"? $name: $it -> $result\")\n",
    "        }\n",
    "        result\n",
    "    }\n",
    "\n",
    "    dictionary\n",
    "        .asSequence()\n",
    "        .f(\"used\") { word -> word !in usedWords }\n",
    "        .f(\"red($redLetters)\") { word -> word.none { it in redLetters } }\n",
    "        .f(\"green($greenLetters)\") { word -> greenLetters.all { (char, index) -> word[index] == char } }\n",
    "        .f(\"yellow($yellowLetters)\") { word -> yellowLetters.all { (char, _) -> char in word } }\n",
    "        .first()\n",
    "}\n",
    "\n",
    "// let's test it out\n",
    "fun testSimpleFirstMatchGuesser() {\n",
    "    val simpleDict = listOf(\"abcde\", \"xxxxx\", \"afcge\", \"yyyyy\", \"agcfe\", \"zzzzz\")\n",
    "    val guesser = simpleFirstMatchGuesser(simpleDict, debug = true)\n",
    "\n",
    "    // shortcuts!\n",
    "    fun g(char: Char) = Letter.Green(char)\n",
    "    fun y(char: Char) = Letter.Yellow(char)\n",
    "    fun r(char: Char) = Letter.Red(char)\n",
    "    val (a, b, c, d, e) = ('a'..'e').toList()\n",
    "    val (f, g) = ('f'..'g').toList()\n",
    "\n",
    "    fun game(vararg letters: Letter) = Game(letters.toList().chunked(5))\n",
    "\n",
    "    val firstGuess = guesser(game())\n",
    "    println(\"> first guess: $firstGuess\")\n",
    "    check(firstGuess == \"abcde\") { \"first guess should be abcde, was $firstGuess\" }\n",
    "\n",
    "    val secondGuess = guesser(\n",
    "        game(\n",
    "            g(a), r(b), g(c), r(d), g(e)\n",
    "        )\n",
    "    )\n",
    "    println(\"> second guess: $secondGuess\")\n",
    "    check(secondGuess == \"afcge\") { \"second guess should be afcge, was $secondGuess\" }\n",
    "\n",
    "    val thirdGuess = guesser(\n",
    "        game(\n",
    "            g(a), r(b), g(c), r(d), y(e),\n",
    "            g(a), y(f), g(c), y(g), g(e)\n",
    "        )\n",
    "    )\n",
    "\n",
    "    println(\"> third guess: $thirdGuess\")\n",
    "    check(thirdGuess == \"agcfe\") { \"third guess should be agcfe, was $thirdGuess\" }\n",
    "}\n",
    "\n",
    "testSimpleFirstMatchGuesser()\n"
   ],
   "metadata": {
    "collapsed": false,
    "ExecuteTime": {
     "end_time": "2023-10-22T07:27:51.090869Z",
     "start_time": "2023-10-22T07:27:50.598105Z"
    }
   }
  },
  {
   "cell_type": "markdown",
   "source": [
    "Now let's play a real game with our guesser. Here's a word it should be able to guess:"
   ],
   "metadata": {
    "collapsed": false
   }
  },
  {
   "cell_type": "code",
   "execution_count": 13,
   "outputs": [
    {
     "data": {
      "text/html": "<table><tr><td style=\"background-color: yellow\">a</td><td style=\"background-color: red\">b</td><td style=\"background-color: red\">h</td><td style=\"background-color: red\">o</td><td style=\"background-color: red\">r</td></tr><tr><td style=\"background-color: yellow\">a</td><td style=\"background-color: yellow\">c</td><td style=\"background-color: yellow\">e</td><td style=\"background-color: red\">d</td><td style=\"background-color: red\">y</td></tr><tr><td style=\"background-color: yellow\">a</td><td style=\"background-color: yellow\">c</td><td style=\"background-color: green\">u</td><td style=\"background-color: red\">t</td><td style=\"background-color: green\">e</td></tr><tr><td style=\"background-color: yellow\">c</td><td style=\"background-color: green\">a</td><td style=\"background-color: green\">u</td><td style=\"background-color: yellow\">s</td><td style=\"background-color: green\">e</td></tr><tr><td style=\"background-color: green\">s</td><td style=\"background-color: green\">a</td><td style=\"background-color: green\">u</td><td style=\"background-color: green\">c</td><td style=\"background-color: green\">e</td></tr></table>"
     },
     "execution_count": 13,
     "metadata": {},
     "output_type": "execute_result"
    }
   ],
   "source": [
    "HTML(playGame(\"sauce\", simpleFirstMatchGuesser(dictionary)).toString())"
   ],
   "metadata": {
    "collapsed": false,
    "ExecuteTime": {
     "end_time": "2023-10-22T07:27:53.569882Z",
     "start_time": "2023-10-22T07:27:53.514224Z"
    }
   }
  },
  {
   "cell_type": "markdown",
   "source": [
    "Sweet, so now we have a guesser that at least makes an attempt to win the game, but we don't know _how_ good it is. Let's write a benchmark function that plays a game a bunch of times and collects statistics about the number of guesses it took to win. In order to make comparisons between guessers easier we will also make sure that the same words are used in each benchmark run.\n"
   ],
   "metadata": {
    "collapsed": false
   }
  },
  {
   "cell_type": "code",
   "execution_count": 16,
   "outputs": [],
   "source": [
    "import java.math.BigDecimal\n",
    "import java.math.RoundingMode\n",
    "import kotlin.random.Random\n",
    "\n",
    "val random = Random(0)\n",
    "val benchmarkWords = dictionary.shuffled(random).take(100)\n",
    "\n",
    "sealed class Outcome {\n",
    "    object Lost : Outcome()\n",
    "    data class Won(val guesses: Int) : Outcome()\n",
    "}\n",
    "\n",
    "fun Game.outcome() = if (guesses.last().all { it is Letter.Green }) {\n",
    "    Outcome.Won(guesses.size)\n",
    "} else {\n",
    "    Outcome.Lost\n",
    "}\n",
    "\n",
    "data class Statistics(\n",
    "    val percentWon: BigDecimal,\n",
    "    val guessFrequency: Map<Int, BigDecimal>\n",
    ")\n",
    "\n",
    "fun benchmark(guesser: Guesser, words: List<String> = benchmarkWords, log: Boolean = false): Statistics {\n",
    "    val outcomes = words.map { word ->\n",
    "        val outcome = playGame(word, guesser).outcome()\n",
    "        if (log) {\n",
    "            if (outcome is Outcome.Won) {\n",
    "                println(\"$word: won in ${outcome.guesses} guesses\")\n",
    "            } else {\n",
    "                println(\"$word: lost\")\n",
    "            }\n",
    "        }\n",
    "        outcome\n",
    "    }\n",
    "\n",
    "    val total = outcomes.size\n",
    "    val numWon = outcomes.count { it is Outcome.Won }\n",
    "    val percentWon = numWon.toDouble() / total * 100\n",
    "\n",
    "    val guessFrequency = outcomes.filterIsInstance<Outcome.Won>()\n",
    "        .map { it.guesses }\n",
    "        .groupingBy { it }\n",
    "        .eachCount()\n",
    "        .mapValues { it.value.toDouble() / total * 100 }\n",
    "        .toSortedMap()\n",
    "\n",
    "    fun Double.round() = BigDecimal(this).setScale(2, RoundingMode.HALF_EVEN)\n",
    "\n",
    "    return Statistics(percentWon.round(), guessFrequency.mapValues { it.value.round() })\n",
    "}"
   ],
   "metadata": {
    "collapsed": false,
    "ExecuteTime": {
     "end_time": "2023-10-22T07:28:35.505865Z",
     "start_time": "2023-10-22T07:28:35.193455Z"
    }
   }
  },
  {
   "cell_type": "markdown",
   "source": [
    "Right, now let's benchmark the simple guesser.\n"
   ],
   "metadata": {
    "collapsed": false
   }
  },
  {
   "cell_type": "code",
   "execution_count": 17,
   "outputs": [],
   "source": [
    "val simpleGuesserStats = benchmark(simpleFirstMatchGuesser(dictionary))"
   ],
   "metadata": {
    "collapsed": false,
    "ExecuteTime": {
     "end_time": "2023-10-22T07:28:38.866341Z",
     "start_time": "2023-10-22T07:28:38.700119Z"
    }
   }
  },
  {
   "cell_type": "code",
   "execution_count": 18,
   "outputs": [
    {
     "name": "stdout",
     "output_type": "stream",
     "text": [
      "Simple Guesser won 55.00% of games!\n",
      "Guess frequency:\n",
      "2: 1.00%\n",
      "3: 9.00%\n",
      "4: 17.00%\n",
      "5: 28.00%\n"
     ]
    }
   ],
   "source": [
    "println(\"Simple Guesser won ${simpleGuesserStats.percentWon}% of games!\")\n",
    "println(\"Guess frequency:\")\n",
    "simpleGuesserStats.guessFrequency.forEach { (guesses, percent) ->\n",
    "    println(\"$guesses: $percent%\")\n",
    "}"
   ],
   "metadata": {
    "collapsed": false,
    "ExecuteTime": {
     "end_time": "2023-10-22T07:28:41.636023Z",
     "start_time": "2023-10-22T07:28:41.532239Z"
    }
   }
  },
  {
   "cell_type": "code",
   "execution_count": 19,
   "outputs": [
    {
     "data": {
      "text/html": "            <script type=\"text/javascript\" data-lets-plot-script=\"library\" src=\"https://cdn.jsdelivr.net/gh/JetBrains/lets-plot@v3.1.0/js-package/distr/lets-plot.min.js\"></script>    \n               <div id=\"dmr8xF\"></div>\n   <script type=\"text/javascript\" data-lets-plot-script=\"plot\">\n       var plotSpec={\n\"mapping\":{\n},\n\"data\":{\n},\n\"kind\":\"plot\",\n\"scales\":[{\n\"aesthetic\":\"x\",\n\"limits\":[null,null]\n},{\n\"aesthetic\":\"y\",\n\"limits\":[null,null]\n}],\n\"layers\":[{\n\"mapping\":{\n\"x\":\"x\",\n\"y\":\"y\"\n},\n\"stat\":\"identity\",\n\"data\":{\n\"x\":[2.0,3.0,4.0,5.0],\n\"y\":[1.0,9.0,17.0,28.0]\n},\n\"sampling\":\"none\",\n\"position\":\"dodge\",\n\"geom\":\"bar\"\n}]\n};\n       var plotContainer = document.getElementById(\"dmr8xF\");\n       LetsPlot.buildPlotFromProcessedSpecs(plotSpec, -1, -1, plotContainer);\n   </script>            \n        <svg id=1adbd3ca-3d90-4a19-8ea3-6bfe73350b83 xmlns=\"http://www.w3.org/2000/svg\" xmlns:xlink=\"http://www.w3.org/1999/xlink\" class=\"plt-container\" width=\"600.0\" height=\"400.0\">\n  <style type=\"text/css\">\n  .plt-container {\n   font-family: Lucida Grande, sans-serif;\n   user-select: none;\n   -webkit-user-select: none;\n   -moz-user-select: none;\n   -ms-user-select: none;\n}\ntext {\n   text-rendering: optimizeLegibility;\n}\n#pCAd43k .plot-title {\n   fill: #474747;\n   font-family: Lucida Grande, sans-serif;\n   font-size: 16.0px;\n   font-weight: normal;\n   font-style: normal;   \n}\n#pCAd43k .plot-subtitle {\n   fill: #474747;\n   font-family: Lucida Grande, sans-serif;\n   font-size: 15.0px;\n   font-weight: normal;\n   font-style: normal;   \n}\n#pCAd43k .plot-caption {\n   fill: #474747;\n   font-family: Lucida Grande, sans-serif;\n   font-size: 13.0px;\n   font-weight: normal;\n   font-style: normal;   \n}\n#pCAd43k .legend-title {\n   fill: #474747;\n   font-family: Lucida Grande, sans-serif;\n   font-size: 15.0px;\n   font-weight: normal;\n   font-style: normal;   \n}\n#pCAd43k .legend-item {\n   fill: #474747;\n   font-family: Lucida Grande, sans-serif;\n   font-size: 13.0px;\n   font-weight: normal;\n   font-style: normal;   \n}\n#pCAd43k .axis-title-x {\n   fill: #474747;\n   font-family: Lucida Grande, sans-serif;\n   font-size: 15.0px;\n   font-weight: normal;\n   font-style: normal;   \n}\n#pCAd43k .axis-text-x {\n   fill: #474747;\n   font-family: Lucida Grande, sans-serif;\n   font-size: 13.0px;\n   font-weight: normal;\n   font-style: normal;   \n}\n#dNUelC4 .axis-tooltip-text-x {\n   fill: #ffffff;\n   font-family: Lucida Grande, sans-serif;\n   font-size: 13.0px;\n   font-weight: normal;\n   font-style: normal;   \n}\n#pCAd43k .axis-title-y {\n   fill: #474747;\n   font-family: Lucida Grande, sans-serif;\n   font-size: 15.0px;\n   font-weight: normal;\n   font-style: normal;   \n}\n#pCAd43k .axis-text-y {\n   fill: #474747;\n   font-family: Lucida Grande, sans-serif;\n   font-size: 13.0px;\n   font-weight: normal;\n   font-style: normal;   \n}\n#dNUelC4 .axis-tooltip-text-y {\n   fill: #ffffff;\n   font-family: Lucida Grande, sans-serif;\n   font-size: 13.0px;\n   font-weight: normal;\n   font-style: normal;   \n}\n#pCAd43k .facet-strip-text-x {\n   fill: #474747;\n   font-family: Lucida Grande, sans-serif;\n   font-size: 13.0px;\n   font-weight: normal;\n   font-style: normal;   \n}\n#pCAd43k .facet-strip-text-y {\n   fill: #474747;\n   font-family: Lucida Grande, sans-serif;\n   font-size: 13.0px;\n   font-weight: normal;\n   font-style: normal;   \n}\n#dNUelC4 .tooltip-text {\n   fill: #474747;\n   font-family: Lucida Grande, sans-serif;\n   font-size: 13.0px;\n   font-weight: normal;\n   font-style: normal;   \n}\n#dNUelC4 .tooltip-title {\n   fill: #474747;\n   font-family: Lucida Grande, sans-serif;\n   font-size: 13.0px;\n   font-weight: bold;\n   font-style: normal;   \n}\n#dNUelC4 .tooltip-label {\n   fill: #474747;\n   font-family: Lucida Grande, sans-serif;\n   font-size: 13.0px;\n   font-weight: bold;\n   font-style: normal;   \n}\n\n  </style>\n  <g id=\"pCAd43k\">\n    <rect x=\"0.0\" y=\"0.0\" height=\"400.0\" width=\"600.0\" stroke=\"rgb(71,71,71)\" stroke-opacity=\"1.0\" stroke-width=\"0.0\" fill=\"rgb(255,255,255)\" fill-opacity=\"1.0\">\n    </rect>\n    <g transform=\"translate(23.0 10.0 ) \">\n      <g transform=\"translate(21.961210910936405 344.0 ) \">\n        <line x1=\"18.42205697387277\" y1=\"-0.0\" x2=\"18.42205697387277\" y2=\"-344.0\" stroke=\"rgb(233,233,233)\" stroke-opacity=\"1.0\" stroke-width=\"1.0\">\n        </line>\n        <line x1=\"81.94639136653751\" y1=\"-0.0\" x2=\"81.94639136653751\" y2=\"-344.0\" stroke=\"rgb(233,233,233)\" stroke-opacity=\"1.0\" stroke-width=\"1.0\">\n        </line>\n        <line x1=\"145.47072575920225\" y1=\"-0.0\" x2=\"145.47072575920225\" y2=\"-344.0\" stroke=\"rgb(233,233,233)\" stroke-opacity=\"1.0\" stroke-width=\"1.0\">\n        </line>\n        <line x1=\"208.995060151867\" y1=\"-0.0\" x2=\"208.995060151867\" y2=\"-344.0\" stroke=\"rgb(233,233,233)\" stroke-opacity=\"1.0\" stroke-width=\"1.0\">\n        </line>\n        <line x1=\"272.51939454453174\" y1=\"-0.0\" x2=\"272.51939454453174\" y2=\"-344.0\" stroke=\"rgb(233,233,233)\" stroke-opacity=\"1.0\" stroke-width=\"1.0\">\n        </line>\n        <line x1=\"336.0437289371965\" y1=\"-0.0\" x2=\"336.0437289371965\" y2=\"-344.0\" stroke=\"rgb(233,233,233)\" stroke-opacity=\"1.0\" stroke-width=\"1.0\">\n        </line>\n        <line x1=\"399.5680633298612\" y1=\"-0.0\" x2=\"399.5680633298612\" y2=\"-344.0\" stroke=\"rgb(233,233,233)\" stroke-opacity=\"1.0\" stroke-width=\"1.0\">\n        </line>\n        <line x1=\"463.09239772252596\" y1=\"-0.0\" x2=\"463.09239772252596\" y2=\"-344.0\" stroke=\"rgb(233,233,233)\" stroke-opacity=\"1.0\" stroke-width=\"1.0\">\n        </line>\n        <line x1=\"526.6167321151906\" y1=\"-0.0\" x2=\"526.6167321151906\" y2=\"-344.0\" stroke=\"rgb(233,233,233)\" stroke-opacity=\"1.0\" stroke-width=\"1.0\">\n        </line>\n        <g transform=\"translate(18.42205697387277 0.0 ) \">\n          <line stroke-width=\"1.0\" stroke=\"rgb(71,71,71)\" stroke-opacity=\"1.0\" x2=\"0.0\" y2=\"4.0\">\n          </line>\n          <g transform=\"translate(0.0 7.0 ) \">\n            <text class=\"axis-text-x\" text-anchor=\"middle\" dy=\"0.7em\">\n            1.5\n            </text>\n          </g>\n        </g>\n        <g transform=\"translate(81.94639136653751 0.0 ) \">\n          <line stroke-width=\"1.0\" stroke=\"rgb(71,71,71)\" stroke-opacity=\"1.0\" x2=\"0.0\" y2=\"4.0\">\n          </line>\n          <g transform=\"translate(0.0 7.0 ) \">\n            <text class=\"axis-text-x\" text-anchor=\"middle\" dy=\"0.7em\">\n            2.0\n            </text>\n          </g>\n        </g>\n        <g transform=\"translate(145.47072575920225 0.0 ) \">\n          <line stroke-width=\"1.0\" stroke=\"rgb(71,71,71)\" stroke-opacity=\"1.0\" x2=\"0.0\" y2=\"4.0\">\n          </line>\n          <g transform=\"translate(0.0 7.0 ) \">\n            <text class=\"axis-text-x\" text-anchor=\"middle\" dy=\"0.7em\">\n            2.5\n            </text>\n          </g>\n        </g>\n        <g transform=\"translate(208.995060151867 0.0 ) \">\n          <line stroke-width=\"1.0\" stroke=\"rgb(71,71,71)\" stroke-opacity=\"1.0\" x2=\"0.0\" y2=\"4.0\">\n          </line>\n          <g transform=\"translate(0.0 7.0 ) \">\n            <text class=\"axis-text-x\" text-anchor=\"middle\" dy=\"0.7em\">\n            3.0\n            </text>\n          </g>\n        </g>\n        <g transform=\"translate(272.51939454453174 0.0 ) \">\n          <line stroke-width=\"1.0\" stroke=\"rgb(71,71,71)\" stroke-opacity=\"1.0\" x2=\"0.0\" y2=\"4.0\">\n          </line>\n          <g transform=\"translate(0.0 7.0 ) \">\n            <text class=\"axis-text-x\" text-anchor=\"middle\" dy=\"0.7em\">\n            3.5\n            </text>\n          </g>\n        </g>\n        <g transform=\"translate(336.0437289371965 0.0 ) \">\n          <line stroke-width=\"1.0\" stroke=\"rgb(71,71,71)\" stroke-opacity=\"1.0\" x2=\"0.0\" y2=\"4.0\">\n          </line>\n          <g transform=\"translate(0.0 7.0 ) \">\n            <text class=\"axis-text-x\" text-anchor=\"middle\" dy=\"0.7em\">\n            4.0\n            </text>\n          </g>\n        </g>\n        <g transform=\"translate(399.5680633298612 0.0 ) \">\n          <line stroke-width=\"1.0\" stroke=\"rgb(71,71,71)\" stroke-opacity=\"1.0\" x2=\"0.0\" y2=\"4.0\">\n          </line>\n          <g transform=\"translate(0.0 7.0 ) \">\n            <text class=\"axis-text-x\" text-anchor=\"middle\" dy=\"0.7em\">\n            4.5\n            </text>\n          </g>\n        </g>\n        <g transform=\"translate(463.09239772252596 0.0 ) \">\n          <line stroke-width=\"1.0\" stroke=\"rgb(71,71,71)\" stroke-opacity=\"1.0\" x2=\"0.0\" y2=\"4.0\">\n          </line>\n          <g transform=\"translate(0.0 7.0 ) \">\n            <text class=\"axis-text-x\" text-anchor=\"middle\" dy=\"0.7em\">\n            5.0\n            </text>\n          </g>\n        </g>\n        <g transform=\"translate(526.6167321151906 0.0 ) \">\n          <line stroke-width=\"1.0\" stroke=\"rgb(71,71,71)\" stroke-opacity=\"1.0\" x2=\"0.0\" y2=\"4.0\">\n          </line>\n          <g transform=\"translate(0.0 7.0 ) \">\n            <text class=\"axis-text-x\" text-anchor=\"middle\" dy=\"0.7em\">\n            5.5\n            </text>\n          </g>\n        </g>\n        <line x1=\"0.0\" y1=\"0.0\" x2=\"545.0387890890636\" y2=\"0.0\" stroke-width=\"1.0\" stroke=\"rgb(71,71,71)\" stroke-opacity=\"1.0\">\n        </line>\n      </g>\n      <g transform=\"translate(21.961210910936405 0.0 ) \">\n        <line x1=\"0.0\" y1=\"285.4965986394558\" x2=\"545.0387890890636\" y2=\"285.4965986394558\" stroke=\"rgb(233,233,233)\" stroke-opacity=\"1.0\" stroke-width=\"1.0\">\n        </line>\n        <line x1=\"0.0\" y1=\"226.99319727891157\" x2=\"545.0387890890636\" y2=\"226.99319727891157\" stroke=\"rgb(233,233,233)\" stroke-opacity=\"1.0\" stroke-width=\"1.0\">\n        </line>\n        <line x1=\"0.0\" y1=\"168.48979591836735\" x2=\"545.0387890890636\" y2=\"168.48979591836735\" stroke=\"rgb(233,233,233)\" stroke-opacity=\"1.0\" stroke-width=\"1.0\">\n        </line>\n        <line x1=\"0.0\" y1=\"109.98639455782313\" x2=\"545.0387890890636\" y2=\"109.98639455782313\" stroke=\"rgb(233,233,233)\" stroke-opacity=\"1.0\" stroke-width=\"1.0\">\n        </line>\n        <line x1=\"0.0\" y1=\"51.482993197278915\" x2=\"545.0387890890636\" y2=\"51.482993197278915\" stroke=\"rgb(233,233,233)\" stroke-opacity=\"1.0\" stroke-width=\"1.0\">\n        </line>\n        <g transform=\"translate(0.0 344.0 ) \">\n          <g transform=\"translate(-3.0 0.0 ) \">\n            <text class=\"axis-text-y\" text-anchor=\"end\" dy=\"0.35em\">\n            0\n            </text>\n          </g>\n        </g>\n        <g transform=\"translate(0.0 285.4965986394558 ) \">\n          <g transform=\"translate(-3.0 0.0 ) \">\n            <text class=\"axis-text-y\" text-anchor=\"end\" dy=\"0.35em\">\n            5\n            </text>\n          </g>\n        </g>\n        <g transform=\"translate(0.0 226.99319727891157 ) \">\n          <g transform=\"translate(-3.0 0.0 ) \">\n            <text class=\"axis-text-y\" text-anchor=\"end\" dy=\"0.35em\">\n            10\n            </text>\n          </g>\n        </g>\n        <g transform=\"translate(0.0 168.48979591836735 ) \">\n          <g transform=\"translate(-3.0 0.0 ) \">\n            <text class=\"axis-text-y\" text-anchor=\"end\" dy=\"0.35em\">\n            15\n            </text>\n          </g>\n        </g>\n        <g transform=\"translate(0.0 109.98639455782313 ) \">\n          <g transform=\"translate(-3.0 0.0 ) \">\n            <text class=\"axis-text-y\" text-anchor=\"end\" dy=\"0.35em\">\n            20\n            </text>\n          </g>\n        </g>\n        <g transform=\"translate(0.0 51.482993197278915 ) \">\n          <g transform=\"translate(-3.0 0.0 ) \">\n            <text class=\"axis-text-y\" text-anchor=\"end\" dy=\"0.35em\">\n            25\n            </text>\n          </g>\n        </g>\n      </g>\n      <g transform=\"translate(21.961210910936405 0.0 ) \" clip-path=\"url(#cMYoGE8)\" clip-bounds-jfx=\"[rect (0.0, 0.0), (545.0387890890636, 344.0)]\">\n        <defs>\n          <clipPath id=\"cMYoGE8\">\n            <rect x=\"0.0\" y=\"0.0\" width=\"545.0387890890636\" height=\"344.0\">\n            </rect>\n          </clipPath>\n        </defs>\n        <rect x=\"405.9204967691276\" y=\"16.38095238095235\" height=\"327.61904761904765\" width=\"114.34380190679661\" stroke=\"rgb(0,0,0)\" stroke-opacity=\"0.0\" fill=\"rgb(17,142,216)\" fill-opacity=\"1.0\" stroke-width=\"1.0\">\n        </rect>\n        <rect x=\"278.8718279837982\" y=\"145.08843537414964\" height=\"198.91156462585036\" width=\"114.34380190679661\" stroke=\"rgb(0,0,0)\" stroke-opacity=\"0.0\" fill=\"rgb(17,142,216)\" fill-opacity=\"1.0\" stroke-width=\"1.0\">\n        </rect>\n        <rect x=\"151.82315919846872\" y=\"238.69387755102042\" height=\"105.30612244897958\" width=\"114.3438019067965\" stroke=\"rgb(0,0,0)\" stroke-opacity=\"0.0\" fill=\"rgb(17,142,216)\" fill-opacity=\"1.0\" stroke-width=\"1.0\">\n        </rect>\n        <rect x=\"24.77449041313926\" y=\"332.29931972789115\" height=\"11.700680272108855\" width=\"114.34380190679653\" stroke=\"rgb(0,0,0)\" stroke-opacity=\"0.0\" fill=\"rgb(17,142,216)\" fill-opacity=\"1.0\" stroke-width=\"1.0\">\n        </rect>\n      </g>\n    </g>\n    <g transform=\"translate(14.5 182.0 ) rotate(-90.0 ) \">\n      <text class=\"axis-title-y\" y=\"0.0\" text-anchor=\"middle\">\n      y\n      </text>\n    </g>\n    <g transform=\"translate(317.4806054554682 391.5 ) \">\n      <text class=\"axis-title-x\" y=\"0.0\" text-anchor=\"middle\">\n      x\n      </text>\n    </g>\n  </g>\n  <g id=\"dNUelC4\">\n  </g>\n</svg>\n        <script>document.getElementById(\"1adbd3ca-3d90-4a19-8ea3-6bfe73350b83\").style.display = \"none\";</script>",
      "application/plot+json": {
       "output_type": "lets_plot_spec",
       "output": {
        "mapping": {},
        "data": {},
        "kind": "plot",
        "scales": [
         {
          "aesthetic": "x",
          "limits": [
           null,
           null
          ]
         },
         {
          "aesthetic": "y",
          "limits": [
           null,
           null
          ]
         }
        ],
        "layers": [
         {
          "mapping": {
           "x": "x",
           "y": "y"
          },
          "stat": "identity",
          "data": {
           "x": [
            2.0,
            3.0,
            4.0,
            5.0
           ],
           "y": [
            1.0,
            9.0,
            17.0,
            28.0
           ]
          },
          "sampling": "none",
          "position": "dodge",
          "geom": "bar"
         }
        ]
       },
       "apply_color_scheme": true,
       "swing_enabled": true
      }
     },
     "execution_count": 19,
     "metadata": {},
     "output_type": "execute_result"
    }
   ],
   "source": [
    "plot {\n",
    "    bars {\n",
    "        x(simpleGuesserStats.guessFrequency.keys)\n",
    "        y(simpleGuesserStats.guessFrequency.values)\n",
    "    }\n",
    "}"
   ],
   "metadata": {
    "collapsed": false,
    "ExecuteTime": {
     "end_time": "2023-10-22T07:28:48.181189Z",
     "start_time": "2023-10-22T07:28:47.593722Z"
    }
   }
  },
  {
   "cell_type": "markdown",
   "source": [
    "That's pretty cool! The simple guesser won over half the games and has a nice linear trend line on the guess frequency.\n",
    "\n",
    "We can however, do better. Note that the simple guesser does not take into account the positions of the yellow letters. Let's write a guesser that does and benchmark it.\n"
   ],
   "metadata": {
    "collapsed": false
   }
  },
  {
   "cell_type": "code",
   "execution_count": 20,
   "outputs": [],
   "source": [
    "fun yellowPostionAwareGuesser(dictionary: List<String>, debug: Boolean = false): Guesser = { game ->\n",
    "    val redLetters = game.redLetters()\n",
    "    val greenLetters = game.greenLetters()\n",
    "    val yellowLetters = game.yellowLetters()\n",
    "    val usedWords = game.words()\n",
    "\n",
    "    fun Sequence<String>.f(name: String, fn: (String) -> Boolean) = filter {\n",
    "        val result = fn(it)\n",
    "        if (debug) {\n",
    "            println(\"? $name: $it -> $result\")\n",
    "        }\n",
    "        result\n",
    "    }\n",
    "\n",
    "    dictionary\n",
    "        .asSequence()\n",
    "        .f(\"used\") { word -> word !in usedWords }\n",
    "        .f(\"red($redLetters)\") { word -> word.none { it in redLetters } }\n",
    "        .f(\"green($greenLetters)\") { word -> greenLetters.all { (char, index) -> word[index] == char } }\n",
    "        .f(\"yellow($yellowLetters)\") { word ->\n",
    "            yellowLetters.all { (char, indexes) ->\n",
    "                char in word && indexes.all { index -> word[index] != char }\n",
    "            }\n",
    "        }\n",
    "        .first()\n",
    "}"
   ],
   "metadata": {
    "collapsed": false,
    "ExecuteTime": {
     "end_time": "2023-10-22T07:28:54.807098Z",
     "start_time": "2023-10-22T07:28:54.612568Z"
    }
   }
  },
  {
   "cell_type": "markdown",
   "source": [
    "Let's check if it can guess the same word as before:"
   ],
   "metadata": {
    "collapsed": false
   }
  },
  {
   "cell_type": "code",
   "execution_count": 21,
   "outputs": [
    {
     "data": {
      "text/html": "<table><tr><td style=\"background-color: yellow\">a</td><td style=\"background-color: red\">b</td><td style=\"background-color: red\">h</td><td style=\"background-color: red\">o</td><td style=\"background-color: red\">r</td></tr><tr><td style=\"background-color: yellow\">c</td><td style=\"background-color: green\">a</td><td style=\"background-color: red\">d</td><td style=\"background-color: yellow\">e</td><td style=\"background-color: red\">t</td></tr><tr><td style=\"background-color: red\">l</td><td style=\"background-color: green\">a</td><td style=\"background-color: red\">n</td><td style=\"background-color: green\">c</td><td style=\"background-color: green\">e</td></tr><tr><td style=\"background-color: green\">s</td><td style=\"background-color: green\">a</td><td style=\"background-color: green\">u</td><td style=\"background-color: green\">c</td><td style=\"background-color: green\">e</td></tr></table>"
     },
     "execution_count": 21,
     "metadata": {},
     "output_type": "execute_result"
    }
   ],
   "source": [
    "HTML(playGame(\"sauce\", yellowPostionAwareGuesser(dictionary)).toString())"
   ],
   "metadata": {
    "collapsed": false,
    "ExecuteTime": {
     "end_time": "2023-10-22T07:28:56.418541Z",
     "start_time": "2023-10-22T07:28:56.365438Z"
    }
   }
  },
  {
   "cell_type": "markdown",
   "source": [
    "Sweet, it can! Now let's benchmark it."
   ],
   "metadata": {
    "collapsed": false
   }
  },
  {
   "cell_type": "code",
   "execution_count": 22,
   "outputs": [],
   "source": [
    "val yellowPositionAwareGuesserStats = benchmark(yellowPostionAwareGuesser(dictionary))"
   ],
   "metadata": {
    "collapsed": false,
    "ExecuteTime": {
     "end_time": "2023-10-22T07:28:59.480888Z",
     "start_time": "2023-10-22T07:28:59.309276Z"
    }
   }
  },
  {
   "cell_type": "code",
   "execution_count": 23,
   "outputs": [
    {
     "name": "stdout",
     "output_type": "stream",
     "text": [
      "Yellow Position Aware Guesser won 82.00% of games!\n",
      "Guess Frequency\n",
      "2: 2.00%\n",
      "3: 10.00%\n",
      "4: 42.00%\n",
      "5: 28.00%\n"
     ]
    }
   ],
   "source": [
    "println(\"Yellow Position Aware Guesser won ${yellowPositionAwareGuesserStats.percentWon}% of games!\")\n",
    "println(\"Guess Frequency\")\n",
    "yellowPositionAwareGuesserStats.guessFrequency.forEach { (guess, frequency) ->\n",
    "    println(\"$guess: $frequency%\")\n",
    "}"
   ],
   "metadata": {
    "collapsed": false,
    "ExecuteTime": {
     "end_time": "2023-10-22T07:29:01.771364Z",
     "start_time": "2023-10-22T07:29:01.678362Z"
    }
   }
  },
  {
   "cell_type": "code",
   "execution_count": 24,
   "outputs": [
    {
     "data": {
      "text/html": "            <script type=\"text/javascript\" data-lets-plot-script=\"library\" src=\"https://cdn.jsdelivr.net/gh/JetBrains/lets-plot@v3.1.0/js-package/distr/lets-plot.min.js\"></script>    \n               <div id=\"ycTwAC\"></div>\n   <script type=\"text/javascript\" data-lets-plot-script=\"plot\">\n       var plotSpec={\n\"mapping\":{\n},\n\"data\":{\n},\n\"kind\":\"plot\",\n\"scales\":[{\n\"aesthetic\":\"x\",\n\"limits\":[null,null]\n},{\n\"aesthetic\":\"y\",\n\"limits\":[null,null]\n}],\n\"layers\":[{\n\"mapping\":{\n\"x\":\"x\",\n\"y\":\"y\"\n},\n\"stat\":\"identity\",\n\"data\":{\n\"x\":[2.0,3.0,4.0,5.0],\n\"y\":[2.0,10.0,42.0,28.0]\n},\n\"sampling\":\"none\",\n\"position\":\"dodge\",\n\"geom\":\"bar\"\n}]\n};\n       var plotContainer = document.getElementById(\"ycTwAC\");\n       LetsPlot.buildPlotFromProcessedSpecs(plotSpec, -1, -1, plotContainer);\n   </script>            \n        <svg id=ff8bc93f-5d4b-491b-9cba-17436cab6dba xmlns=\"http://www.w3.org/2000/svg\" xmlns:xlink=\"http://www.w3.org/1999/xlink\" class=\"plt-container\" width=\"600.0\" height=\"400.0\">\n  <style type=\"text/css\">\n  .plt-container {\n   font-family: Lucida Grande, sans-serif;\n   user-select: none;\n   -webkit-user-select: none;\n   -moz-user-select: none;\n   -ms-user-select: none;\n}\ntext {\n   text-rendering: optimizeLegibility;\n}\n#p7ButYM .plot-title {\n   fill: #474747;\n   font-family: Lucida Grande, sans-serif;\n   font-size: 16.0px;\n   font-weight: normal;\n   font-style: normal;   \n}\n#p7ButYM .plot-subtitle {\n   fill: #474747;\n   font-family: Lucida Grande, sans-serif;\n   font-size: 15.0px;\n   font-weight: normal;\n   font-style: normal;   \n}\n#p7ButYM .plot-caption {\n   fill: #474747;\n   font-family: Lucida Grande, sans-serif;\n   font-size: 13.0px;\n   font-weight: normal;\n   font-style: normal;   \n}\n#p7ButYM .legend-title {\n   fill: #474747;\n   font-family: Lucida Grande, sans-serif;\n   font-size: 15.0px;\n   font-weight: normal;\n   font-style: normal;   \n}\n#p7ButYM .legend-item {\n   fill: #474747;\n   font-family: Lucida Grande, sans-serif;\n   font-size: 13.0px;\n   font-weight: normal;\n   font-style: normal;   \n}\n#p7ButYM .axis-title-x {\n   fill: #474747;\n   font-family: Lucida Grande, sans-serif;\n   font-size: 15.0px;\n   font-weight: normal;\n   font-style: normal;   \n}\n#p7ButYM .axis-text-x {\n   fill: #474747;\n   font-family: Lucida Grande, sans-serif;\n   font-size: 13.0px;\n   font-weight: normal;\n   font-style: normal;   \n}\n#duiFqGv .axis-tooltip-text-x {\n   fill: #ffffff;\n   font-family: Lucida Grande, sans-serif;\n   font-size: 13.0px;\n   font-weight: normal;\n   font-style: normal;   \n}\n#p7ButYM .axis-title-y {\n   fill: #474747;\n   font-family: Lucida Grande, sans-serif;\n   font-size: 15.0px;\n   font-weight: normal;\n   font-style: normal;   \n}\n#p7ButYM .axis-text-y {\n   fill: #474747;\n   font-family: Lucida Grande, sans-serif;\n   font-size: 13.0px;\n   font-weight: normal;\n   font-style: normal;   \n}\n#duiFqGv .axis-tooltip-text-y {\n   fill: #ffffff;\n   font-family: Lucida Grande, sans-serif;\n   font-size: 13.0px;\n   font-weight: normal;\n   font-style: normal;   \n}\n#p7ButYM .facet-strip-text-x {\n   fill: #474747;\n   font-family: Lucida Grande, sans-serif;\n   font-size: 13.0px;\n   font-weight: normal;\n   font-style: normal;   \n}\n#p7ButYM .facet-strip-text-y {\n   fill: #474747;\n   font-family: Lucida Grande, sans-serif;\n   font-size: 13.0px;\n   font-weight: normal;\n   font-style: normal;   \n}\n#duiFqGv .tooltip-text {\n   fill: #474747;\n   font-family: Lucida Grande, sans-serif;\n   font-size: 13.0px;\n   font-weight: normal;\n   font-style: normal;   \n}\n#duiFqGv .tooltip-title {\n   fill: #474747;\n   font-family: Lucida Grande, sans-serif;\n   font-size: 13.0px;\n   font-weight: bold;\n   font-style: normal;   \n}\n#duiFqGv .tooltip-label {\n   fill: #474747;\n   font-family: Lucida Grande, sans-serif;\n   font-size: 13.0px;\n   font-weight: bold;\n   font-style: normal;   \n}\n\n  </style>\n  <g id=\"p7ButYM\">\n    <rect x=\"0.0\" y=\"0.0\" height=\"400.0\" width=\"600.0\" stroke=\"rgb(71,71,71)\" stroke-opacity=\"1.0\" stroke-width=\"0.0\" fill=\"rgb(255,255,255)\" fill-opacity=\"1.0\">\n    </rect>\n    <g transform=\"translate(23.0 10.0 ) \">\n      <g transform=\"translate(21.961210910936405 344.0 ) \">\n        <line x1=\"18.42205697387277\" y1=\"-0.0\" x2=\"18.42205697387277\" y2=\"-344.0\" stroke=\"rgb(233,233,233)\" stroke-opacity=\"1.0\" stroke-width=\"1.0\">\n        </line>\n        <line x1=\"81.94639136653751\" y1=\"-0.0\" x2=\"81.94639136653751\" y2=\"-344.0\" stroke=\"rgb(233,233,233)\" stroke-opacity=\"1.0\" stroke-width=\"1.0\">\n        </line>\n        <line x1=\"145.47072575920225\" y1=\"-0.0\" x2=\"145.47072575920225\" y2=\"-344.0\" stroke=\"rgb(233,233,233)\" stroke-opacity=\"1.0\" stroke-width=\"1.0\">\n        </line>\n        <line x1=\"208.995060151867\" y1=\"-0.0\" x2=\"208.995060151867\" y2=\"-344.0\" stroke=\"rgb(233,233,233)\" stroke-opacity=\"1.0\" stroke-width=\"1.0\">\n        </line>\n        <line x1=\"272.51939454453174\" y1=\"-0.0\" x2=\"272.51939454453174\" y2=\"-344.0\" stroke=\"rgb(233,233,233)\" stroke-opacity=\"1.0\" stroke-width=\"1.0\">\n        </line>\n        <line x1=\"336.0437289371965\" y1=\"-0.0\" x2=\"336.0437289371965\" y2=\"-344.0\" stroke=\"rgb(233,233,233)\" stroke-opacity=\"1.0\" stroke-width=\"1.0\">\n        </line>\n        <line x1=\"399.5680633298612\" y1=\"-0.0\" x2=\"399.5680633298612\" y2=\"-344.0\" stroke=\"rgb(233,233,233)\" stroke-opacity=\"1.0\" stroke-width=\"1.0\">\n        </line>\n        <line x1=\"463.09239772252596\" y1=\"-0.0\" x2=\"463.09239772252596\" y2=\"-344.0\" stroke=\"rgb(233,233,233)\" stroke-opacity=\"1.0\" stroke-width=\"1.0\">\n        </line>\n        <line x1=\"526.6167321151906\" y1=\"-0.0\" x2=\"526.6167321151906\" y2=\"-344.0\" stroke=\"rgb(233,233,233)\" stroke-opacity=\"1.0\" stroke-width=\"1.0\">\n        </line>\n        <g transform=\"translate(18.42205697387277 0.0 ) \">\n          <line stroke-width=\"1.0\" stroke=\"rgb(71,71,71)\" stroke-opacity=\"1.0\" x2=\"0.0\" y2=\"4.0\">\n          </line>\n          <g transform=\"translate(0.0 7.0 ) \">\n            <text class=\"axis-text-x\" text-anchor=\"middle\" dy=\"0.7em\">\n            1.5\n            </text>\n          </g>\n        </g>\n        <g transform=\"translate(81.94639136653751 0.0 ) \">\n          <line stroke-width=\"1.0\" stroke=\"rgb(71,71,71)\" stroke-opacity=\"1.0\" x2=\"0.0\" y2=\"4.0\">\n          </line>\n          <g transform=\"translate(0.0 7.0 ) \">\n            <text class=\"axis-text-x\" text-anchor=\"middle\" dy=\"0.7em\">\n            2.0\n            </text>\n          </g>\n        </g>\n        <g transform=\"translate(145.47072575920225 0.0 ) \">\n          <line stroke-width=\"1.0\" stroke=\"rgb(71,71,71)\" stroke-opacity=\"1.0\" x2=\"0.0\" y2=\"4.0\">\n          </line>\n          <g transform=\"translate(0.0 7.0 ) \">\n            <text class=\"axis-text-x\" text-anchor=\"middle\" dy=\"0.7em\">\n            2.5\n            </text>\n          </g>\n        </g>\n        <g transform=\"translate(208.995060151867 0.0 ) \">\n          <line stroke-width=\"1.0\" stroke=\"rgb(71,71,71)\" stroke-opacity=\"1.0\" x2=\"0.0\" y2=\"4.0\">\n          </line>\n          <g transform=\"translate(0.0 7.0 ) \">\n            <text class=\"axis-text-x\" text-anchor=\"middle\" dy=\"0.7em\">\n            3.0\n            </text>\n          </g>\n        </g>\n        <g transform=\"translate(272.51939454453174 0.0 ) \">\n          <line stroke-width=\"1.0\" stroke=\"rgb(71,71,71)\" stroke-opacity=\"1.0\" x2=\"0.0\" y2=\"4.0\">\n          </line>\n          <g transform=\"translate(0.0 7.0 ) \">\n            <text class=\"axis-text-x\" text-anchor=\"middle\" dy=\"0.7em\">\n            3.5\n            </text>\n          </g>\n        </g>\n        <g transform=\"translate(336.0437289371965 0.0 ) \">\n          <line stroke-width=\"1.0\" stroke=\"rgb(71,71,71)\" stroke-opacity=\"1.0\" x2=\"0.0\" y2=\"4.0\">\n          </line>\n          <g transform=\"translate(0.0 7.0 ) \">\n            <text class=\"axis-text-x\" text-anchor=\"middle\" dy=\"0.7em\">\n            4.0\n            </text>\n          </g>\n        </g>\n        <g transform=\"translate(399.5680633298612 0.0 ) \">\n          <line stroke-width=\"1.0\" stroke=\"rgb(71,71,71)\" stroke-opacity=\"1.0\" x2=\"0.0\" y2=\"4.0\">\n          </line>\n          <g transform=\"translate(0.0 7.0 ) \">\n            <text class=\"axis-text-x\" text-anchor=\"middle\" dy=\"0.7em\">\n            4.5\n            </text>\n          </g>\n        </g>\n        <g transform=\"translate(463.09239772252596 0.0 ) \">\n          <line stroke-width=\"1.0\" stroke=\"rgb(71,71,71)\" stroke-opacity=\"1.0\" x2=\"0.0\" y2=\"4.0\">\n          </line>\n          <g transform=\"translate(0.0 7.0 ) \">\n            <text class=\"axis-text-x\" text-anchor=\"middle\" dy=\"0.7em\">\n            5.0\n            </text>\n          </g>\n        </g>\n        <g transform=\"translate(526.6167321151906 0.0 ) \">\n          <line stroke-width=\"1.0\" stroke=\"rgb(71,71,71)\" stroke-opacity=\"1.0\" x2=\"0.0\" y2=\"4.0\">\n          </line>\n          <g transform=\"translate(0.0 7.0 ) \">\n            <text class=\"axis-text-x\" text-anchor=\"middle\" dy=\"0.7em\">\n            5.5\n            </text>\n          </g>\n        </g>\n        <line x1=\"0.0\" y1=\"0.0\" x2=\"545.0387890890636\" y2=\"0.0\" stroke-width=\"1.0\" stroke=\"rgb(71,71,71)\" stroke-opacity=\"1.0\">\n        </line>\n      </g>\n      <g transform=\"translate(21.961210910936405 0.0 ) \">\n        <line x1=\"0.0\" y1=\"304.99773242630386\" x2=\"545.0387890890636\" y2=\"304.99773242630386\" stroke=\"rgb(233,233,233)\" stroke-opacity=\"1.0\" stroke-width=\"1.0\">\n        </line>\n        <line x1=\"0.0\" y1=\"265.9954648526077\" x2=\"545.0387890890636\" y2=\"265.9954648526077\" stroke=\"rgb(233,233,233)\" stroke-opacity=\"1.0\" stroke-width=\"1.0\">\n        </line>\n        <line x1=\"0.0\" y1=\"226.99319727891157\" x2=\"545.0387890890636\" y2=\"226.99319727891157\" stroke=\"rgb(233,233,233)\" stroke-opacity=\"1.0\" stroke-width=\"1.0\">\n        </line>\n        <line x1=\"0.0\" y1=\"187.99092970521542\" x2=\"545.0387890890636\" y2=\"187.99092970521542\" stroke=\"rgb(233,233,233)\" stroke-opacity=\"1.0\" stroke-width=\"1.0\">\n        </line>\n        <line x1=\"0.0\" y1=\"148.98866213151928\" x2=\"545.0387890890636\" y2=\"148.98866213151928\" stroke=\"rgb(233,233,233)\" stroke-opacity=\"1.0\" stroke-width=\"1.0\">\n        </line>\n        <line x1=\"0.0\" y1=\"109.98639455782313\" x2=\"545.0387890890636\" y2=\"109.98639455782313\" stroke=\"rgb(233,233,233)\" stroke-opacity=\"1.0\" stroke-width=\"1.0\">\n        </line>\n        <line x1=\"0.0\" y1=\"70.98412698412699\" x2=\"545.0387890890636\" y2=\"70.98412698412699\" stroke=\"rgb(233,233,233)\" stroke-opacity=\"1.0\" stroke-width=\"1.0\">\n        </line>\n        <line x1=\"0.0\" y1=\"31.981859410430843\" x2=\"545.0387890890636\" y2=\"31.981859410430843\" stroke=\"rgb(233,233,233)\" stroke-opacity=\"1.0\" stroke-width=\"1.0\">\n        </line>\n        <g transform=\"translate(0.0 344.0 ) \">\n          <g transform=\"translate(-3.0 0.0 ) \">\n            <text class=\"axis-text-y\" text-anchor=\"end\" dy=\"0.35em\">\n            0\n            </text>\n          </g>\n        </g>\n        <g transform=\"translate(0.0 304.99773242630386 ) \">\n          <g transform=\"translate(-3.0 0.0 ) \">\n            <text class=\"axis-text-y\" text-anchor=\"end\" dy=\"0.35em\">\n            5\n            </text>\n          </g>\n        </g>\n        <g transform=\"translate(0.0 265.9954648526077 ) \">\n          <g transform=\"translate(-3.0 0.0 ) \">\n            <text class=\"axis-text-y\" text-anchor=\"end\" dy=\"0.35em\">\n            10\n            </text>\n          </g>\n        </g>\n        <g transform=\"translate(0.0 226.99319727891157 ) \">\n          <g transform=\"translate(-3.0 0.0 ) \">\n            <text class=\"axis-text-y\" text-anchor=\"end\" dy=\"0.35em\">\n            15\n            </text>\n          </g>\n        </g>\n        <g transform=\"translate(0.0 187.99092970521542 ) \">\n          <g transform=\"translate(-3.0 0.0 ) \">\n            <text class=\"axis-text-y\" text-anchor=\"end\" dy=\"0.35em\">\n            20\n            </text>\n          </g>\n        </g>\n        <g transform=\"translate(0.0 148.98866213151928 ) \">\n          <g transform=\"translate(-3.0 0.0 ) \">\n            <text class=\"axis-text-y\" text-anchor=\"end\" dy=\"0.35em\">\n            25\n            </text>\n          </g>\n        </g>\n        <g transform=\"translate(0.0 109.98639455782313 ) \">\n          <g transform=\"translate(-3.0 0.0 ) \">\n            <text class=\"axis-text-y\" text-anchor=\"end\" dy=\"0.35em\">\n            30\n            </text>\n          </g>\n        </g>\n        <g transform=\"translate(0.0 70.98412698412699 ) \">\n          <g transform=\"translate(-3.0 0.0 ) \">\n            <text class=\"axis-text-y\" text-anchor=\"end\" dy=\"0.35em\">\n            35\n            </text>\n          </g>\n        </g>\n        <g transform=\"translate(0.0 31.981859410430843 ) \">\n          <g transform=\"translate(-3.0 0.0 ) \">\n            <text class=\"axis-text-y\" text-anchor=\"end\" dy=\"0.35em\">\n            40\n            </text>\n          </g>\n        </g>\n      </g>\n      <g transform=\"translate(21.961210910936405 0.0 ) \" clip-path=\"url(#c3RuqNa)\" clip-bounds-jfx=\"[rect (0.0, 0.0), (545.0387890890636, 344.0)]\">\n        <defs>\n          <clipPath id=\"c3RuqNa\">\n            <rect x=\"0.0\" y=\"0.0\" width=\"545.0387890890636\" height=\"344.0\">\n            </rect>\n          </clipPath>\n        </defs>\n        <rect x=\"405.9204967691276\" y=\"125.5873015873016\" height=\"218.4126984126984\" width=\"114.34380190679661\" stroke=\"rgb(0,0,0)\" stroke-opacity=\"0.0\" fill=\"rgb(17,142,216)\" fill-opacity=\"1.0\" stroke-width=\"1.0\">\n        </rect>\n        <rect x=\"278.8718279837982\" y=\"16.38095238095235\" height=\"327.61904761904765\" width=\"114.34380190679661\" stroke=\"rgb(0,0,0)\" stroke-opacity=\"0.0\" fill=\"rgb(17,142,216)\" fill-opacity=\"1.0\" stroke-width=\"1.0\">\n        </rect>\n        <rect x=\"151.82315919846872\" y=\"265.9954648526077\" height=\"78.00453514739229\" width=\"114.3438019067965\" stroke=\"rgb(0,0,0)\" stroke-opacity=\"0.0\" fill=\"rgb(17,142,216)\" fill-opacity=\"1.0\" stroke-width=\"1.0\">\n        </rect>\n        <rect x=\"24.77449041313926\" y=\"328.39909297052156\" height=\"15.600907029478435\" width=\"114.34380190679653\" stroke=\"rgb(0,0,0)\" stroke-opacity=\"0.0\" fill=\"rgb(17,142,216)\" fill-opacity=\"1.0\" stroke-width=\"1.0\">\n        </rect>\n      </g>\n    </g>\n    <g transform=\"translate(14.5 182.0 ) rotate(-90.0 ) \">\n      <text class=\"axis-title-y\" y=\"0.0\" text-anchor=\"middle\">\n      y\n      </text>\n    </g>\n    <g transform=\"translate(317.4806054554682 391.5 ) \">\n      <text class=\"axis-title-x\" y=\"0.0\" text-anchor=\"middle\">\n      x\n      </text>\n    </g>\n  </g>\n  <g id=\"duiFqGv\">\n  </g>\n</svg>\n        <script>document.getElementById(\"ff8bc93f-5d4b-491b-9cba-17436cab6dba\").style.display = \"none\";</script>",
      "application/plot+json": {
       "output_type": "lets_plot_spec",
       "output": {
        "mapping": {},
        "data": {},
        "kind": "plot",
        "scales": [
         {
          "aesthetic": "x",
          "limits": [
           null,
           null
          ]
         },
         {
          "aesthetic": "y",
          "limits": [
           null,
           null
          ]
         }
        ],
        "layers": [
         {
          "mapping": {
           "x": "x",
           "y": "y"
          },
          "stat": "identity",
          "data": {
           "x": [
            2.0,
            3.0,
            4.0,
            5.0
           ],
           "y": [
            2.0,
            10.0,
            42.0,
            28.0
           ]
          },
          "sampling": "none",
          "position": "dodge",
          "geom": "bar"
         }
        ]
       },
       "apply_color_scheme": true,
       "swing_enabled": true
      }
     },
     "execution_count": 24,
     "metadata": {},
     "output_type": "execute_result"
    }
   ],
   "source": [
    "plot {\n",
    "    bars {\n",
    "        x(yellowPositionAwareGuesserStats.guessFrequency.keys)\n",
    "        y(yellowPositionAwareGuesserStats.guessFrequency.values)\n",
    "    }\n",
    "}"
   ],
   "metadata": {
    "collapsed": false,
    "ExecuteTime": {
     "end_time": "2023-10-22T07:29:03.278840Z",
     "start_time": "2023-10-22T07:29:03.184464Z"
    }
   }
  },
  {
   "cell_type": "markdown",
   "source": [
    "That is a significant improvement! The yellow position aware guesser wins over 80% of games and has a much nicer guess frequency distribution: in fact it wins most games on or before the 4th guess.\n",
    "\n",
    "That said, we can still do better. You'll notice that both guessers start with the same first word, which happens to be the first word in the dictionary. We also know that some letter occur more frequently than others in the English language. Let'Surely if we prioritized words that contain the most common letters we would be able to guess the word faster. Let's write a guesser that does that and benchmark it. First let's examine the frequency of letters in the dictionary.\n"
   ],
   "metadata": {
    "collapsed": false
   }
  },
  {
   "cell_type": "code",
   "execution_count": 25,
   "outputs": [
    {
     "data": {
      "text/html": "            <script type=\"text/javascript\" data-lets-plot-script=\"library\" src=\"https://cdn.jsdelivr.net/gh/JetBrains/lets-plot@v3.1.0/js-package/distr/lets-plot.min.js\"></script>    \n               <div id=\"V8W8ae\"></div>\n   <script type=\"text/javascript\" data-lets-plot-script=\"plot\">\n       var plotSpec={\n\"mapping\":{\n},\n\"data\":{\n},\n\"kind\":\"plot\",\n\"scales\":[{\n\"aesthetic\":\"x\",\n\"discrete\":true\n},{\n\"aesthetic\":\"y\",\n\"limits\":[null,null]\n}],\n\"layers\":[{\n\"mapping\":{\n\"x\":\"x\",\n\"y\":\"y\"\n},\n\"stat\":\"identity\",\n\"data\":{\n\"x\":[\"a\",\"b\",\"c\",\"d\",\"e\",\"f\",\"g\",\"h\",\"i\",\"j\",\"k\",\"l\",\"m\",\"n\",\"o\",\"p\",\"q\",\"r\",\"s\",\"t\",\"u\",\"v\",\"w\",\"x\",\"y\",\"z\"],\n\"y\":[48.080771329816265,12.64325995997817,19.319628888484626,16.863743860287432,45.624886301619064,7.185737675095506,13.370929597962524,17.11842823358195,32.945242859741676,1.7282153902128432,10.805894124067674,28.03347280334728,15.353829361469892,26.887393123521917,31.744587957067495,15.644897216663633,1.200654902674186,36.83827542295798,28.106239767145713,28.19719847189376,24.249590685828633,5.603056212479534,9.186829179552483,2.4740767691468073,18.28269965435692,2.510460251046025]\n},\n\"sampling\":\"none\",\n\"position\":\"dodge\",\n\"geom\":\"bar\"\n}]\n};\n       var plotContainer = document.getElementById(\"V8W8ae\");\n       LetsPlot.buildPlotFromProcessedSpecs(plotSpec, -1, -1, plotContainer);\n   </script>            \n        <svg id=9dd926e1-3bfa-4c4f-b486-df1ddf0c3264 xmlns=\"http://www.w3.org/2000/svg\" xmlns:xlink=\"http://www.w3.org/1999/xlink\" class=\"plt-container\" width=\"600.0\" height=\"400.0\">\n  <style type=\"text/css\">\n  .plt-container {\n   font-family: Lucida Grande, sans-serif;\n   user-select: none;\n   -webkit-user-select: none;\n   -moz-user-select: none;\n   -ms-user-select: none;\n}\ntext {\n   text-rendering: optimizeLegibility;\n}\n#pxbawsK .plot-title {\n   fill: #474747;\n   font-family: Lucida Grande, sans-serif;\n   font-size: 16.0px;\n   font-weight: normal;\n   font-style: normal;   \n}\n#pxbawsK .plot-subtitle {\n   fill: #474747;\n   font-family: Lucida Grande, sans-serif;\n   font-size: 15.0px;\n   font-weight: normal;\n   font-style: normal;   \n}\n#pxbawsK .plot-caption {\n   fill: #474747;\n   font-family: Lucida Grande, sans-serif;\n   font-size: 13.0px;\n   font-weight: normal;\n   font-style: normal;   \n}\n#pxbawsK .legend-title {\n   fill: #474747;\n   font-family: Lucida Grande, sans-serif;\n   font-size: 15.0px;\n   font-weight: normal;\n   font-style: normal;   \n}\n#pxbawsK .legend-item {\n   fill: #474747;\n   font-family: Lucida Grande, sans-serif;\n   font-size: 13.0px;\n   font-weight: normal;\n   font-style: normal;   \n}\n#pxbawsK .axis-title-x {\n   fill: #474747;\n   font-family: Lucida Grande, sans-serif;\n   font-size: 15.0px;\n   font-weight: normal;\n   font-style: normal;   \n}\n#pxbawsK .axis-text-x {\n   fill: #474747;\n   font-family: Lucida Grande, sans-serif;\n   font-size: 13.0px;\n   font-weight: normal;\n   font-style: normal;   \n}\n#dIpGMaD .axis-tooltip-text-x {\n   fill: #ffffff;\n   font-family: Lucida Grande, sans-serif;\n   font-size: 13.0px;\n   font-weight: normal;\n   font-style: normal;   \n}\n#pxbawsK .axis-title-y {\n   fill: #474747;\n   font-family: Lucida Grande, sans-serif;\n   font-size: 15.0px;\n   font-weight: normal;\n   font-style: normal;   \n}\n#pxbawsK .axis-text-y {\n   fill: #474747;\n   font-family: Lucida Grande, sans-serif;\n   font-size: 13.0px;\n   font-weight: normal;\n   font-style: normal;   \n}\n#dIpGMaD .axis-tooltip-text-y {\n   fill: #ffffff;\n   font-family: Lucida Grande, sans-serif;\n   font-size: 13.0px;\n   font-weight: normal;\n   font-style: normal;   \n}\n#pxbawsK .facet-strip-text-x {\n   fill: #474747;\n   font-family: Lucida Grande, sans-serif;\n   font-size: 13.0px;\n   font-weight: normal;\n   font-style: normal;   \n}\n#pxbawsK .facet-strip-text-y {\n   fill: #474747;\n   font-family: Lucida Grande, sans-serif;\n   font-size: 13.0px;\n   font-weight: normal;\n   font-style: normal;   \n}\n#dIpGMaD .tooltip-text {\n   fill: #474747;\n   font-family: Lucida Grande, sans-serif;\n   font-size: 13.0px;\n   font-weight: normal;\n   font-style: normal;   \n}\n#dIpGMaD .tooltip-title {\n   fill: #474747;\n   font-family: Lucida Grande, sans-serif;\n   font-size: 13.0px;\n   font-weight: bold;\n   font-style: normal;   \n}\n#dIpGMaD .tooltip-label {\n   fill: #474747;\n   font-family: Lucida Grande, sans-serif;\n   font-size: 13.0px;\n   font-weight: bold;\n   font-style: normal;   \n}\n\n  </style>\n  <g id=\"pxbawsK\">\n    <rect x=\"0.0\" y=\"0.0\" height=\"400.0\" width=\"600.0\" stroke=\"rgb(71,71,71)\" stroke-opacity=\"1.0\" stroke-width=\"0.0\" fill=\"rgb(255,255,255)\" fill-opacity=\"1.0\">\n    </rect>\n    <g transform=\"translate(23.0 10.0 ) \">\n      <g transform=\"translate(21.961210910936405 344.0 ) \">\n        <line x1=\"13.470540414748722\" y1=\"-0.0\" x2=\"13.470540414748722\" y2=\"-344.0\" stroke=\"rgb(233,233,233)\" stroke-opacity=\"1.0\" stroke-width=\"1.0\">\n        </line>\n        <line x1=\"34.19444874513137\" y1=\"-0.0\" x2=\"34.19444874513137\" y2=\"-344.0\" stroke=\"rgb(233,233,233)\" stroke-opacity=\"1.0\" stroke-width=\"1.0\">\n        </line>\n        <line x1=\"54.918357075514024\" y1=\"-0.0\" x2=\"54.918357075514024\" y2=\"-344.0\" stroke=\"rgb(233,233,233)\" stroke-opacity=\"1.0\" stroke-width=\"1.0\">\n        </line>\n        <line x1=\"75.64226540589667\" y1=\"-0.0\" x2=\"75.64226540589667\" y2=\"-344.0\" stroke=\"rgb(233,233,233)\" stroke-opacity=\"1.0\" stroke-width=\"1.0\">\n        </line>\n        <line x1=\"96.36617373627932\" y1=\"-0.0\" x2=\"96.36617373627932\" y2=\"-344.0\" stroke=\"rgb(233,233,233)\" stroke-opacity=\"1.0\" stroke-width=\"1.0\">\n        </line>\n        <line x1=\"117.09008206666196\" y1=\"-0.0\" x2=\"117.09008206666196\" y2=\"-344.0\" stroke=\"rgb(233,233,233)\" stroke-opacity=\"1.0\" stroke-width=\"1.0\">\n        </line>\n        <line x1=\"137.81399039704462\" y1=\"-0.0\" x2=\"137.81399039704462\" y2=\"-344.0\" stroke=\"rgb(233,233,233)\" stroke-opacity=\"1.0\" stroke-width=\"1.0\">\n        </line>\n        <line x1=\"158.53789872742726\" y1=\"-0.0\" x2=\"158.53789872742726\" y2=\"-344.0\" stroke=\"rgb(233,233,233)\" stroke-opacity=\"1.0\" stroke-width=\"1.0\">\n        </line>\n        <line x1=\"179.2618070578099\" y1=\"-0.0\" x2=\"179.2618070578099\" y2=\"-344.0\" stroke=\"rgb(233,233,233)\" stroke-opacity=\"1.0\" stroke-width=\"1.0\">\n        </line>\n        <line x1=\"199.98571538819255\" y1=\"-0.0\" x2=\"199.98571538819255\" y2=\"-344.0\" stroke=\"rgb(233,233,233)\" stroke-opacity=\"1.0\" stroke-width=\"1.0\">\n        </line>\n        <line x1=\"220.7096237185752\" y1=\"-0.0\" x2=\"220.7096237185752\" y2=\"-344.0\" stroke=\"rgb(233,233,233)\" stroke-opacity=\"1.0\" stroke-width=\"1.0\">\n        </line>\n        <line x1=\"241.43353204895786\" y1=\"-0.0\" x2=\"241.43353204895786\" y2=\"-344.0\" stroke=\"rgb(233,233,233)\" stroke-opacity=\"1.0\" stroke-width=\"1.0\">\n        </line>\n        <line x1=\"262.1574403793405\" y1=\"-0.0\" x2=\"262.1574403793405\" y2=\"-344.0\" stroke=\"rgb(233,233,233)\" stroke-opacity=\"1.0\" stroke-width=\"1.0\">\n        </line>\n        <line x1=\"282.88134870972317\" y1=\"-0.0\" x2=\"282.88134870972317\" y2=\"-344.0\" stroke=\"rgb(233,233,233)\" stroke-opacity=\"1.0\" stroke-width=\"1.0\">\n        </line>\n        <line x1=\"303.6052570401058\" y1=\"-0.0\" x2=\"303.6052570401058\" y2=\"-344.0\" stroke=\"rgb(233,233,233)\" stroke-opacity=\"1.0\" stroke-width=\"1.0\">\n        </line>\n        <line x1=\"324.32916537048845\" y1=\"-0.0\" x2=\"324.32916537048845\" y2=\"-344.0\" stroke=\"rgb(233,233,233)\" stroke-opacity=\"1.0\" stroke-width=\"1.0\">\n        </line>\n        <line x1=\"345.0530737008711\" y1=\"-0.0\" x2=\"345.0530737008711\" y2=\"-344.0\" stroke=\"rgb(233,233,233)\" stroke-opacity=\"1.0\" stroke-width=\"1.0\">\n        </line>\n        <line x1=\"365.77698203125374\" y1=\"-0.0\" x2=\"365.77698203125374\" y2=\"-344.0\" stroke=\"rgb(233,233,233)\" stroke-opacity=\"1.0\" stroke-width=\"1.0\">\n        </line>\n        <line x1=\"386.5008903616364\" y1=\"-0.0\" x2=\"386.5008903616364\" y2=\"-344.0\" stroke=\"rgb(233,233,233)\" stroke-opacity=\"1.0\" stroke-width=\"1.0\">\n        </line>\n        <line x1=\"407.224798692019\" y1=\"-0.0\" x2=\"407.224798692019\" y2=\"-344.0\" stroke=\"rgb(233,233,233)\" stroke-opacity=\"1.0\" stroke-width=\"1.0\">\n        </line>\n        <line x1=\"427.94870702240166\" y1=\"-0.0\" x2=\"427.94870702240166\" y2=\"-344.0\" stroke=\"rgb(233,233,233)\" stroke-opacity=\"1.0\" stroke-width=\"1.0\">\n        </line>\n        <line x1=\"448.67261535278436\" y1=\"-0.0\" x2=\"448.67261535278436\" y2=\"-344.0\" stroke=\"rgb(233,233,233)\" stroke-opacity=\"1.0\" stroke-width=\"1.0\">\n        </line>\n        <line x1=\"469.396523683167\" y1=\"-0.0\" x2=\"469.396523683167\" y2=\"-344.0\" stroke=\"rgb(233,233,233)\" stroke-opacity=\"1.0\" stroke-width=\"1.0\">\n        </line>\n        <line x1=\"490.12043201354965\" y1=\"-0.0\" x2=\"490.12043201354965\" y2=\"-344.0\" stroke=\"rgb(233,233,233)\" stroke-opacity=\"1.0\" stroke-width=\"1.0\">\n        </line>\n        <line x1=\"510.8443403439323\" y1=\"-0.0\" x2=\"510.8443403439323\" y2=\"-344.0\" stroke=\"rgb(233,233,233)\" stroke-opacity=\"1.0\" stroke-width=\"1.0\">\n        </line>\n        <line x1=\"531.568248674315\" y1=\"-0.0\" x2=\"531.568248674315\" y2=\"-344.0\" stroke=\"rgb(233,233,233)\" stroke-opacity=\"1.0\" stroke-width=\"1.0\">\n        </line>\n        <g transform=\"translate(13.470540414748722 0.0 ) \">\n          <line stroke-width=\"1.0\" stroke=\"rgb(71,71,71)\" stroke-opacity=\"1.0\" x2=\"0.0\" y2=\"4.0\">\n          </line>\n          <g transform=\"translate(0.0 7.0 ) \">\n            <text class=\"axis-text-x\" text-anchor=\"middle\" dy=\"0.7em\">\n            a\n            </text>\n          </g>\n        </g>\n        <g transform=\"translate(34.19444874513137 0.0 ) \">\n          <line stroke-width=\"1.0\" stroke=\"rgb(71,71,71)\" stroke-opacity=\"1.0\" x2=\"0.0\" y2=\"4.0\">\n          </line>\n          <g transform=\"translate(0.0 7.0 ) \">\n            <text class=\"axis-text-x\" text-anchor=\"middle\" dy=\"0.7em\">\n            b\n            </text>\n          </g>\n        </g>\n        <g transform=\"translate(54.918357075514024 0.0 ) \">\n          <line stroke-width=\"1.0\" stroke=\"rgb(71,71,71)\" stroke-opacity=\"1.0\" x2=\"0.0\" y2=\"4.0\">\n          </line>\n          <g transform=\"translate(0.0 7.0 ) \">\n            <text class=\"axis-text-x\" text-anchor=\"middle\" dy=\"0.7em\">\n            c\n            </text>\n          </g>\n        </g>\n        <g transform=\"translate(75.64226540589667 0.0 ) \">\n          <line stroke-width=\"1.0\" stroke=\"rgb(71,71,71)\" stroke-opacity=\"1.0\" x2=\"0.0\" y2=\"4.0\">\n          </line>\n          <g transform=\"translate(0.0 7.0 ) \">\n            <text class=\"axis-text-x\" text-anchor=\"middle\" dy=\"0.7em\">\n            d\n            </text>\n          </g>\n        </g>\n        <g transform=\"translate(96.36617373627932 0.0 ) \">\n          <line stroke-width=\"1.0\" stroke=\"rgb(71,71,71)\" stroke-opacity=\"1.0\" x2=\"0.0\" y2=\"4.0\">\n          </line>\n          <g transform=\"translate(0.0 7.0 ) \">\n            <text class=\"axis-text-x\" text-anchor=\"middle\" dy=\"0.7em\">\n            e\n            </text>\n          </g>\n        </g>\n        <g transform=\"translate(117.09008206666196 0.0 ) \">\n          <line stroke-width=\"1.0\" stroke=\"rgb(71,71,71)\" stroke-opacity=\"1.0\" x2=\"0.0\" y2=\"4.0\">\n          </line>\n          <g transform=\"translate(0.0 7.0 ) \">\n            <text class=\"axis-text-x\" text-anchor=\"middle\" dy=\"0.7em\">\n            f\n            </text>\n          </g>\n        </g>\n        <g transform=\"translate(137.81399039704462 0.0 ) \">\n          <line stroke-width=\"1.0\" stroke=\"rgb(71,71,71)\" stroke-opacity=\"1.0\" x2=\"0.0\" y2=\"4.0\">\n          </line>\n          <g transform=\"translate(0.0 7.0 ) \">\n            <text class=\"axis-text-x\" text-anchor=\"middle\" dy=\"0.7em\">\n            g\n            </text>\n          </g>\n        </g>\n        <g transform=\"translate(158.53789872742726 0.0 ) \">\n          <line stroke-width=\"1.0\" stroke=\"rgb(71,71,71)\" stroke-opacity=\"1.0\" x2=\"0.0\" y2=\"4.0\">\n          </line>\n          <g transform=\"translate(0.0 7.0 ) \">\n            <text class=\"axis-text-x\" text-anchor=\"middle\" dy=\"0.7em\">\n            h\n            </text>\n          </g>\n        </g>\n        <g transform=\"translate(179.2618070578099 0.0 ) \">\n          <line stroke-width=\"1.0\" stroke=\"rgb(71,71,71)\" stroke-opacity=\"1.0\" x2=\"0.0\" y2=\"4.0\">\n          </line>\n          <g transform=\"translate(0.0 7.0 ) \">\n            <text class=\"axis-text-x\" text-anchor=\"middle\" dy=\"0.7em\">\n            i\n            </text>\n          </g>\n        </g>\n        <g transform=\"translate(199.98571538819255 0.0 ) \">\n          <line stroke-width=\"1.0\" stroke=\"rgb(71,71,71)\" stroke-opacity=\"1.0\" x2=\"0.0\" y2=\"4.0\">\n          </line>\n          <g transform=\"translate(0.0 7.0 ) \">\n            <text class=\"axis-text-x\" text-anchor=\"middle\" dy=\"0.7em\">\n            j\n            </text>\n          </g>\n        </g>\n        <g transform=\"translate(220.7096237185752 0.0 ) \">\n          <line stroke-width=\"1.0\" stroke=\"rgb(71,71,71)\" stroke-opacity=\"1.0\" x2=\"0.0\" y2=\"4.0\">\n          </line>\n          <g transform=\"translate(0.0 7.0 ) \">\n            <text class=\"axis-text-x\" text-anchor=\"middle\" dy=\"0.7em\">\n            k\n            </text>\n          </g>\n        </g>\n        <g transform=\"translate(241.43353204895786 0.0 ) \">\n          <line stroke-width=\"1.0\" stroke=\"rgb(71,71,71)\" stroke-opacity=\"1.0\" x2=\"0.0\" y2=\"4.0\">\n          </line>\n          <g transform=\"translate(0.0 7.0 ) \">\n            <text class=\"axis-text-x\" text-anchor=\"middle\" dy=\"0.7em\">\n            l\n            </text>\n          </g>\n        </g>\n        <g transform=\"translate(262.1574403793405 0.0 ) \">\n          <line stroke-width=\"1.0\" stroke=\"rgb(71,71,71)\" stroke-opacity=\"1.0\" x2=\"0.0\" y2=\"4.0\">\n          </line>\n          <g transform=\"translate(0.0 7.0 ) \">\n            <text class=\"axis-text-x\" text-anchor=\"middle\" dy=\"0.7em\">\n            m\n            </text>\n          </g>\n        </g>\n        <g transform=\"translate(282.88134870972317 0.0 ) \">\n          <line stroke-width=\"1.0\" stroke=\"rgb(71,71,71)\" stroke-opacity=\"1.0\" x2=\"0.0\" y2=\"4.0\">\n          </line>\n          <g transform=\"translate(0.0 7.0 ) \">\n            <text class=\"axis-text-x\" text-anchor=\"middle\" dy=\"0.7em\">\n            n\n            </text>\n          </g>\n        </g>\n        <g transform=\"translate(303.6052570401058 0.0 ) \">\n          <line stroke-width=\"1.0\" stroke=\"rgb(71,71,71)\" stroke-opacity=\"1.0\" x2=\"0.0\" y2=\"4.0\">\n          </line>\n          <g transform=\"translate(0.0 7.0 ) \">\n            <text class=\"axis-text-x\" text-anchor=\"middle\" dy=\"0.7em\">\n            o\n            </text>\n          </g>\n        </g>\n        <g transform=\"translate(324.32916537048845 0.0 ) \">\n          <line stroke-width=\"1.0\" stroke=\"rgb(71,71,71)\" stroke-opacity=\"1.0\" x2=\"0.0\" y2=\"4.0\">\n          </line>\n          <g transform=\"translate(0.0 7.0 ) \">\n            <text class=\"axis-text-x\" text-anchor=\"middle\" dy=\"0.7em\">\n            p\n            </text>\n          </g>\n        </g>\n        <g transform=\"translate(345.0530737008711 0.0 ) \">\n          <line stroke-width=\"1.0\" stroke=\"rgb(71,71,71)\" stroke-opacity=\"1.0\" x2=\"0.0\" y2=\"4.0\">\n          </line>\n          <g transform=\"translate(0.0 7.0 ) \">\n            <text class=\"axis-text-x\" text-anchor=\"middle\" dy=\"0.7em\">\n            q\n            </text>\n          </g>\n        </g>\n        <g transform=\"translate(365.77698203125374 0.0 ) \">\n          <line stroke-width=\"1.0\" stroke=\"rgb(71,71,71)\" stroke-opacity=\"1.0\" x2=\"0.0\" y2=\"4.0\">\n          </line>\n          <g transform=\"translate(0.0 7.0 ) \">\n            <text class=\"axis-text-x\" text-anchor=\"middle\" dy=\"0.7em\">\n            r\n            </text>\n          </g>\n        </g>\n        <g transform=\"translate(386.5008903616364 0.0 ) \">\n          <line stroke-width=\"1.0\" stroke=\"rgb(71,71,71)\" stroke-opacity=\"1.0\" x2=\"0.0\" y2=\"4.0\">\n          </line>\n          <g transform=\"translate(0.0 7.0 ) \">\n            <text class=\"axis-text-x\" text-anchor=\"middle\" dy=\"0.7em\">\n            s\n            </text>\n          </g>\n        </g>\n        <g transform=\"translate(407.224798692019 0.0 ) \">\n          <line stroke-width=\"1.0\" stroke=\"rgb(71,71,71)\" stroke-opacity=\"1.0\" x2=\"0.0\" y2=\"4.0\">\n          </line>\n          <g transform=\"translate(0.0 7.0 ) \">\n            <text class=\"axis-text-x\" text-anchor=\"middle\" dy=\"0.7em\">\n            t\n            </text>\n          </g>\n        </g>\n        <g transform=\"translate(427.94870702240166 0.0 ) \">\n          <line stroke-width=\"1.0\" stroke=\"rgb(71,71,71)\" stroke-opacity=\"1.0\" x2=\"0.0\" y2=\"4.0\">\n          </line>\n          <g transform=\"translate(0.0 7.0 ) \">\n            <text class=\"axis-text-x\" text-anchor=\"middle\" dy=\"0.7em\">\n            u\n            </text>\n          </g>\n        </g>\n        <g transform=\"translate(448.67261535278436 0.0 ) \">\n          <line stroke-width=\"1.0\" stroke=\"rgb(71,71,71)\" stroke-opacity=\"1.0\" x2=\"0.0\" y2=\"4.0\">\n          </line>\n          <g transform=\"translate(0.0 7.0 ) \">\n            <text class=\"axis-text-x\" text-anchor=\"middle\" dy=\"0.7em\">\n            v\n            </text>\n          </g>\n        </g>\n        <g transform=\"translate(469.396523683167 0.0 ) \">\n          <line stroke-width=\"1.0\" stroke=\"rgb(71,71,71)\" stroke-opacity=\"1.0\" x2=\"0.0\" y2=\"4.0\">\n          </line>\n          <g transform=\"translate(0.0 7.0 ) \">\n            <text class=\"axis-text-x\" text-anchor=\"middle\" dy=\"0.7em\">\n            w\n            </text>\n          </g>\n        </g>\n        <g transform=\"translate(490.12043201354965 0.0 ) \">\n          <line stroke-width=\"1.0\" stroke=\"rgb(71,71,71)\" stroke-opacity=\"1.0\" x2=\"0.0\" y2=\"4.0\">\n          </line>\n          <g transform=\"translate(0.0 7.0 ) \">\n            <text class=\"axis-text-x\" text-anchor=\"middle\" dy=\"0.7em\">\n            x\n            </text>\n          </g>\n        </g>\n        <g transform=\"translate(510.8443403439323 0.0 ) \">\n          <line stroke-width=\"1.0\" stroke=\"rgb(71,71,71)\" stroke-opacity=\"1.0\" x2=\"0.0\" y2=\"4.0\">\n          </line>\n          <g transform=\"translate(0.0 7.0 ) \">\n            <text class=\"axis-text-x\" text-anchor=\"middle\" dy=\"0.7em\">\n            y\n            </text>\n          </g>\n        </g>\n        <g transform=\"translate(531.568248674315 0.0 ) \">\n          <line stroke-width=\"1.0\" stroke=\"rgb(71,71,71)\" stroke-opacity=\"1.0\" x2=\"0.0\" y2=\"4.0\">\n          </line>\n          <g transform=\"translate(0.0 7.0 ) \">\n            <text class=\"axis-text-x\" text-anchor=\"middle\" dy=\"0.7em\">\n            z\n            </text>\n          </g>\n        </g>\n        <line x1=\"0.0\" y1=\"0.0\" x2=\"545.0387890890636\" y2=\"0.0\" stroke-width=\"1.0\" stroke=\"rgb(71,71,71)\" stroke-opacity=\"1.0\">\n        </line>\n      </g>\n      <g transform=\"translate(21.961210910936405 0.0 ) \">\n        <line x1=\"0.0\" y1=\"275.86069221483524\" x2=\"545.0387890890636\" y2=\"275.86069221483524\" stroke=\"rgb(233,233,233)\" stroke-opacity=\"1.0\" stroke-width=\"1.0\">\n        </line>\n        <line x1=\"0.0\" y1=\"207.72138442967048\" x2=\"545.0387890890636\" y2=\"207.72138442967048\" stroke=\"rgb(233,233,233)\" stroke-opacity=\"1.0\" stroke-width=\"1.0\">\n        </line>\n        <line x1=\"0.0\" y1=\"139.58207664450572\" x2=\"545.0387890890636\" y2=\"139.58207664450572\" stroke=\"rgb(233,233,233)\" stroke-opacity=\"1.0\" stroke-width=\"1.0\">\n        </line>\n        <line x1=\"0.0\" y1=\"71.44276885934096\" x2=\"545.0387890890636\" y2=\"71.44276885934096\" stroke=\"rgb(233,233,233)\" stroke-opacity=\"1.0\" stroke-width=\"1.0\">\n        </line>\n        <g transform=\"translate(0.0 344.0 ) \">\n          <g transform=\"translate(-3.0 0.0 ) \">\n            <text class=\"axis-text-y\" text-anchor=\"end\" dy=\"0.35em\">\n            0\n            </text>\n          </g>\n        </g>\n        <g transform=\"translate(0.0 275.86069221483524 ) \">\n          <g transform=\"translate(-3.0 0.0 ) \">\n            <text class=\"axis-text-y\" text-anchor=\"end\" dy=\"0.35em\">\n            10\n            </text>\n          </g>\n        </g>\n        <g transform=\"translate(0.0 207.72138442967048 ) \">\n          <g transform=\"translate(-3.0 0.0 ) \">\n            <text class=\"axis-text-y\" text-anchor=\"end\" dy=\"0.35em\">\n            20\n            </text>\n          </g>\n        </g>\n        <g transform=\"translate(0.0 139.58207664450572 ) \">\n          <g transform=\"translate(-3.0 0.0 ) \">\n            <text class=\"axis-text-y\" text-anchor=\"end\" dy=\"0.35em\">\n            30\n            </text>\n          </g>\n        </g>\n        <g transform=\"translate(0.0 71.44276885934096 ) \">\n          <g transform=\"translate(-3.0 0.0 ) \">\n            <text class=\"axis-text-y\" text-anchor=\"end\" dy=\"0.35em\">\n            40\n            </text>\n          </g>\n        </g>\n        <g transform=\"translate(0.0 3.303461074176198 ) \">\n          <g transform=\"translate(-3.0 0.0 ) \">\n            <text class=\"axis-text-y\" text-anchor=\"end\" dy=\"0.35em\">\n            50\n            </text>\n          </g>\n        </g>\n      </g>\n      <g transform=\"translate(21.961210910936405 0.0 ) \" clip-path=\"url(#cNSHEWK)\" clip-bounds-jfx=\"[rect (0.0, 0.0), (545.0387890890636, 344.0)]\">\n        <defs>\n          <clipPath id=\"cNSHEWK\">\n            <rect x=\"0.0\" y=\"0.0\" width=\"545.0387890890636\" height=\"344.0\">\n            </rect>\n          </clipPath>\n        </defs>\n        <rect x=\"522.2424899256428\" y=\"326.8938976271553\" height=\"17.106102372844703\" width=\"18.651517497344344\" stroke=\"rgb(0,0,0)\" stroke-opacity=\"0.0\" fill=\"rgb(17,142,216)\" fill-opacity=\"1.0\" stroke-width=\"1.0\">\n        </rect>\n        <rect x=\"501.5185815952601\" y=\"219.42295011080483\" height=\"124.57704988919517\" width=\"18.651517497344344\" stroke=\"rgb(0,0,0)\" stroke-opacity=\"0.0\" fill=\"rgb(17,142,216)\" fill-opacity=\"1.0\" stroke-width=\"1.0\">\n        </rect>\n        <rect x=\"480.7946732648775\" y=\"327.14181215429795\" height=\"16.858187845702048\" width=\"18.651517497344344\" stroke=\"rgb(0,0,0)\" stroke-opacity=\"0.0\" fill=\"rgb(17,142,216)\" fill-opacity=\"1.0\" stroke-width=\"1.0\">\n        </rect>\n        <rect x=\"460.07076493449483\" y=\"281.40158189647406\" height=\"62.598418103525944\" width=\"18.651517497344344\" stroke=\"rgb(0,0,0)\" stroke-opacity=\"0.0\" fill=\"rgb(17,142,216)\" fill-opacity=\"1.0\" stroke-width=\"1.0\">\n        </rect>\n        <rect x=\"439.3468566041122\" y=\"305.8211628200278\" height=\"38.17883717997222\" width=\"18.651517497344344\" stroke=\"rgb(0,0,0)\" stroke-opacity=\"0.0\" fill=\"rgb(17,142,216)\" fill-opacity=\"1.0\" stroke-width=\"1.0\">\n        </rect>\n        <rect x=\"418.6229482737295\" y=\"178.7649676594058\" height=\"165.2350323405942\" width=\"18.6515174973444\" stroke=\"rgb(0,0,0)\" stroke-opacity=\"0.0\" fill=\"rgb(17,142,216)\" fill-opacity=\"1.0\" stroke-width=\"1.0\">\n        </rect>\n        <rect x=\"397.89903994334685\" y=\"151.86624146442537\" height=\"192.13375853557463\" width=\"18.651517497344344\" stroke=\"rgb(0,0,0)\" stroke-opacity=\"0.0\" fill=\"rgb(17,142,216)\" fill-opacity=\"1.0\" stroke-width=\"1.0\">\n        </rect>\n        <rect x=\"377.1751316129642\" y=\"152.48602778228206\" height=\"191.51397221771794\" width=\"18.651517497344344\" stroke=\"rgb(0,0,0)\" stroke-opacity=\"0.0\" fill=\"rgb(17,142,216)\" fill-opacity=\"1.0\" stroke-width=\"1.0\">\n        </rect>\n        <rect x=\"356.45122328258157\" y=\"92.98654126803959\" height=\"251.0134587319604\" width=\"18.651517497344344\" stroke=\"rgb(0,0,0)\" stroke-opacity=\"0.0\" fill=\"rgb(17,142,216)\" fill-opacity=\"1.0\" stroke-width=\"1.0\">\n        </rect>\n        <rect x=\"335.7273149521989\" y=\"335.81882060429166\" height=\"8.181179395708341\" width=\"18.651517497344344\" stroke=\"rgb(0,0,0)\" stroke-opacity=\"0.0\" fill=\"rgb(17,142,216)\" fill-opacity=\"1.0\" stroke-width=\"1.0\">\n        </rect>\n        <rect x=\"315.0034066218163\" y=\"237.3967533286489\" height=\"106.60324667135109\" width=\"18.6515174973444\" stroke=\"rgb(0,0,0)\" stroke-opacity=\"0.0\" fill=\"rgb(17,142,216)\" fill-opacity=\"1.0\" stroke-width=\"1.0\">\n        </rect>\n        <rect x=\"294.27949829143364\" y=\"127.69457506801433\" height=\"216.30542493198567\" width=\"18.651517497344344\" stroke=\"rgb(0,0,0)\" stroke-opacity=\"0.0\" fill=\"rgb(17,142,216)\" fill-opacity=\"1.0\" stroke-width=\"1.0\">\n        </rect>\n        <rect x=\"273.555589961051\" y=\"160.79116444156176\" height=\"183.20883555843824\" width=\"18.651517497344344\" stroke=\"rgb(0,0,0)\" stroke-opacity=\"0.0\" fill=\"rgb(17,142,216)\" fill-opacity=\"1.0\" stroke-width=\"1.0\">\n        </rect>\n        <rect x=\"252.83168163066833\" y=\"239.38006954579032\" height=\"104.61993045420968\" width=\"18.651517497344372\" stroke=\"rgb(0,0,0)\" stroke-opacity=\"0.0\" fill=\"rgb(17,142,216)\" fill-opacity=\"1.0\" stroke-width=\"1.0\">\n        </rect>\n        <rect x=\"232.1077733002857\" y=\"152.9818568365674\" height=\"191.0181431634326\" width=\"18.651517497344372\" stroke=\"rgb(0,0,0)\" stroke-opacity=\"0.0\" fill=\"rgb(17,142,216)\" fill-opacity=\"1.0\" stroke-width=\"1.0\">\n        </rect>\n        <rect x=\"211.38386496990302\" y=\"270.36938543862493\" height=\"73.63061456137507\" width=\"18.6515174973444\" stroke=\"rgb(0,0,0)\" stroke-opacity=\"0.0\" fill=\"rgb(17,142,216)\" fill-opacity=\"1.0\" stroke-width=\"1.0\">\n        </rect>\n        <rect x=\"190.65995663952037\" y=\"332.22405996072285\" height=\"11.775940039277145\" width=\"18.6515174973444\" stroke=\"rgb(0,0,0)\" stroke-opacity=\"0.0\" fill=\"rgb(17,142,216)\" fill-opacity=\"1.0\" stroke-width=\"1.0\">\n        </rect>\n        <rect x=\"169.9360483091377\" y=\"119.51339567230602\" height=\"224.48660432769398\" width=\"18.651517497344372\" stroke=\"rgb(0,0,0)\" stroke-opacity=\"0.0\" fill=\"rgb(17,142,216)\" fill-opacity=\"1.0\" stroke-width=\"1.0\">\n        </rect>\n        <rect x=\"149.21213997875506\" y=\"227.35621497937052\" height=\"116.64378502062948\" width=\"18.6515174973444\" stroke=\"rgb(0,0,0)\" stroke-opacity=\"0.0\" fill=\"rgb(17,142,216)\" fill-opacity=\"1.0\" stroke-width=\"1.0\">\n        </rect>\n        <rect x=\"128.48823164837242\" y=\"252.89141127506622\" height=\"91.10858872493378\" width=\"18.651517497344372\" stroke=\"rgb(0,0,0)\" stroke-opacity=\"0.0\" fill=\"rgb(17,142,216)\" fill-opacity=\"1.0\" stroke-width=\"1.0\">\n        </rect>\n        <rect x=\"107.76432331798978\" y=\"295.0368808893213\" height=\"48.96311911067869\" width=\"18.651517497344386\" stroke=\"rgb(0,0,0)\" stroke-opacity=\"0.0\" fill=\"rgb(17,142,216)\" fill-opacity=\"1.0\" stroke-width=\"1.0\">\n        </rect>\n        <rect x=\"87.04041498760712\" y=\"33.1151829630831\" height=\"310.8848170369169\" width=\"18.6515174973444\" stroke=\"rgb(0,0,0)\" stroke-opacity=\"0.0\" fill=\"rgb(17,142,216)\" fill-opacity=\"1.0\" stroke-width=\"1.0\">\n        </rect>\n        <rect x=\"66.31650665722448\" y=\"229.09161666936922\" height=\"114.90838333063078\" width=\"18.651517497344386\" stroke=\"rgb(0,0,0)\" stroke-opacity=\"0.0\" fill=\"rgb(17,142,216)\" fill-opacity=\"1.0\" stroke-width=\"1.0\">\n        </rect>\n        <rect x=\"45.592598326841824\" y=\"212.35738608723855\" height=\"131.64261391276145\" width=\"18.651517497344386\" stroke=\"rgb(0,0,0)\" stroke-opacity=\"0.0\" fill=\"rgb(17,142,216)\" fill-opacity=\"1.0\" stroke-width=\"1.0\">\n        </rect>\n        <rect x=\"24.86868999645918\" y=\"257.84970181791977\" height=\"86.15029818208023\" width=\"18.651517497344386\" stroke=\"rgb(0,0,0)\" stroke-opacity=\"0.0\" fill=\"rgb(17,142,216)\" fill-opacity=\"1.0\" stroke-width=\"1.0\">\n        </rect>\n        <rect x=\"4.144781666076529\" y=\"16.380952380952408\" height=\"327.6190476190476\" width=\"18.651517497344386\" stroke=\"rgb(0,0,0)\" stroke-opacity=\"0.0\" fill=\"rgb(17,142,216)\" fill-opacity=\"1.0\" stroke-width=\"1.0\">\n        </rect>\n      </g>\n    </g>\n    <g transform=\"translate(14.5 182.0 ) rotate(-90.0 ) \">\n      <text class=\"axis-title-y\" y=\"0.0\" text-anchor=\"middle\">\n      y\n      </text>\n    </g>\n    <g transform=\"translate(317.4806054554682 391.5 ) \">\n      <text class=\"axis-title-x\" y=\"0.0\" text-anchor=\"middle\">\n      x\n      </text>\n    </g>\n  </g>\n  <g id=\"dIpGMaD\">\n  </g>\n</svg>\n        <script>document.getElementById(\"9dd926e1-3bfa-4c4f-b486-df1ddf0c3264\").style.display = \"none\";</script>",
      "application/plot+json": {
       "output_type": "lets_plot_spec",
       "output": {
        "mapping": {},
        "data": {},
        "kind": "plot",
        "scales": [
         {
          "aesthetic": "x",
          "discrete": true
         },
         {
          "aesthetic": "y",
          "limits": [
           null,
           null
          ]
         }
        ],
        "layers": [
         {
          "mapping": {
           "x": "x",
           "y": "y"
          },
          "stat": "identity",
          "data": {
           "x": [
            "a",
            "b",
            "c",
            "d",
            "e",
            "f",
            "g",
            "h",
            "i",
            "j",
            "k",
            "l",
            "m",
            "n",
            "o",
            "p",
            "q",
            "r",
            "s",
            "t",
            "u",
            "v",
            "w",
            "x",
            "y",
            "z"
           ],
           "y": [
            48.080772,
            12.64326,
            19.31963,
            16.863745,
            45.624886,
            7.1857376,
            13.37093,
            17.11843,
            32.945244,
            1.7282153,
            10.805894,
            28.033472,
            15.353829,
            26.887394,
            31.744589,
            15.644897,
            1.2006549,
            36.838276,
            28.10624,
            28.197199,
            24.24959,
            5.6030564,
            9.18683,
            2.4740767,
            18.2827,
            2.5104601
           ]
          },
          "sampling": "none",
          "position": "dodge",
          "geom": "bar"
         }
        ]
       },
       "apply_color_scheme": true,
       "swing_enabled": true
      }
     },
     "execution_count": 25,
     "metadata": {},
     "output_type": "execute_result"
    }
   ],
   "source": [
    "val letterFrequency = dictionary\n",
    "    .flatMap { it.toList() }\n",
    "    .groupingBy { it }\n",
    "    .eachCount()\n",
    "    .mapValues { it.value.toDouble() / dictionary.size * 100 }\n",
    "    .toSortedMap()\n",
    "\n",
    "plot {\n",
    "    bars {\n",
    "        x(letterFrequency.keys)\n",
    "        y(letterFrequency.values)\n",
    "    }\n",
    "}\n"
   ],
   "metadata": {
    "collapsed": false,
    "ExecuteTime": {
     "end_time": "2023-10-22T07:29:08.970147Z",
     "start_time": "2023-10-22T07:29:08.796025Z"
    }
   }
  },
  {
   "cell_type": "code",
   "execution_count": 26,
   "outputs": [
    {
     "data": {
      "text/html": "<table><tr><td style=\"background-color: yellow\">a</td><td style=\"background-color: red\">r</td><td style=\"background-color: red\">i</td><td style=\"background-color: red\">t</td><td style=\"background-color: green\">e</td></tr><tr><td style=\"background-color: green\">s</td><td style=\"background-color: red\">l</td><td style=\"background-color: yellow\">a</td><td style=\"background-color: red\">n</td><td style=\"background-color: green\">e</td></tr><tr><td style=\"background-color: green\">s</td><td style=\"background-color: green\">a</td><td style=\"background-color: green\">u</td><td style=\"background-color: green\">c</td><td style=\"background-color: green\">e</td></tr></table>"
     },
     "execution_count": 26,
     "metadata": {},
     "output_type": "execute_result"
    }
   ],
   "source": [
    "fun letterFrequencyGuesser(dictionary: List<String>, debug: Boolean = false): Guesser = { game ->\n",
    "    val redLetters = game.redLetters()\n",
    "    val greenLetters = game.greenLetters()\n",
    "    val yellowLetters = game.yellowLetters()\n",
    "    val usedWords = game.words()\n",
    "\n",
    "    fun Sequence<String>.f(name: String, fn: (String) -> Boolean) = filter {\n",
    "        val result = fn(it)\n",
    "        if (debug) {\n",
    "            println(\"? $name: $it -> $result\")\n",
    "        }\n",
    "        result\n",
    "    }\n",
    "\n",
    "    dictionary\n",
    "        .asSequence()\n",
    "        .f(\"used\") { word -> word !in usedWords }\n",
    "        .f(\"red($redLetters)\") { word -> word.none { it in redLetters } }\n",
    "        .f(\"green($greenLetters)\") { word -> greenLetters.all { (char, index) -> word[index] == char } }\n",
    "        .f(\"yellow($yellowLetters)\") { word ->\n",
    "            yellowLetters.all { (char, indexes) ->\n",
    "                char in word && indexes.all { index -> word[index] != char }\n",
    "            }\n",
    "        }\n",
    "        .sortedByDescending { word -> word.sumOf { letterFrequency[it] ?: 0.0 } }\n",
    "        .first()\n",
    "}\n",
    "\n",
    "// let's try the same sample word as before\n",
    "HTML(playGame(\"sauce\", letterFrequencyGuesser(dictionary)).toString())\n"
   ],
   "metadata": {
    "collapsed": false,
    "ExecuteTime": {
     "end_time": "2023-10-22T07:29:15.109042Z",
     "start_time": "2023-10-22T07:29:14.755874Z"
    }
   }
  },
  {
   "cell_type": "markdown",
   "source": [
    "Three guesses is definitely an improvement over the previous two guessers. Let's benchmark it.\n"
   ],
   "metadata": {
    "collapsed": false
   }
  },
  {
   "cell_type": "code",
   "execution_count": 27,
   "outputs": [
    {
     "name": "stdout",
     "output_type": "stream",
     "text": [
      "Letter Frequency Guesser won 91.00% of games!\n",
      "Guess Frequency:\n",
      "2: 2.00%\n",
      "3: 31.00%\n",
      "4: 36.00%\n",
      "5: 22.00%\n"
     ]
    },
    {
     "data": {
      "text/html": "            <script type=\"text/javascript\" data-lets-plot-script=\"library\" src=\"https://cdn.jsdelivr.net/gh/JetBrains/lets-plot@v3.1.0/js-package/distr/lets-plot.min.js\"></script>    \n               <div id=\"HxYieU\"></div>\n   <script type=\"text/javascript\" data-lets-plot-script=\"plot\">\n       var plotSpec={\n\"mapping\":{\n},\n\"data\":{\n},\n\"kind\":\"plot\",\n\"scales\":[{\n\"aesthetic\":\"x\",\n\"limits\":[null,null]\n},{\n\"aesthetic\":\"y\",\n\"limits\":[null,null]\n}],\n\"layers\":[{\n\"mapping\":{\n\"x\":\"x\",\n\"y\":\"y\"\n},\n\"stat\":\"identity\",\n\"data\":{\n\"x\":[2.0,3.0,4.0,5.0],\n\"y\":[2.0,31.0,36.0,22.0]\n},\n\"sampling\":\"none\",\n\"position\":\"dodge\",\n\"geom\":\"bar\"\n}]\n};\n       var plotContainer = document.getElementById(\"HxYieU\");\n       LetsPlot.buildPlotFromProcessedSpecs(plotSpec, -1, -1, plotContainer);\n   </script>            \n        <svg id=5fa8c61b-a434-450f-9a11-1270a002ca04 xmlns=\"http://www.w3.org/2000/svg\" xmlns:xlink=\"http://www.w3.org/1999/xlink\" class=\"plt-container\" width=\"600.0\" height=\"400.0\">\n  <style type=\"text/css\">\n  .plt-container {\n   font-family: Lucida Grande, sans-serif;\n   user-select: none;\n   -webkit-user-select: none;\n   -moz-user-select: none;\n   -ms-user-select: none;\n}\ntext {\n   text-rendering: optimizeLegibility;\n}\n#p7gTJr5 .plot-title {\n   fill: #474747;\n   font-family: Lucida Grande, sans-serif;\n   font-size: 16.0px;\n   font-weight: normal;\n   font-style: normal;   \n}\n#p7gTJr5 .plot-subtitle {\n   fill: #474747;\n   font-family: Lucida Grande, sans-serif;\n   font-size: 15.0px;\n   font-weight: normal;\n   font-style: normal;   \n}\n#p7gTJr5 .plot-caption {\n   fill: #474747;\n   font-family: Lucida Grande, sans-serif;\n   font-size: 13.0px;\n   font-weight: normal;\n   font-style: normal;   \n}\n#p7gTJr5 .legend-title {\n   fill: #474747;\n   font-family: Lucida Grande, sans-serif;\n   font-size: 15.0px;\n   font-weight: normal;\n   font-style: normal;   \n}\n#p7gTJr5 .legend-item {\n   fill: #474747;\n   font-family: Lucida Grande, sans-serif;\n   font-size: 13.0px;\n   font-weight: normal;\n   font-style: normal;   \n}\n#p7gTJr5 .axis-title-x {\n   fill: #474747;\n   font-family: Lucida Grande, sans-serif;\n   font-size: 15.0px;\n   font-weight: normal;\n   font-style: normal;   \n}\n#p7gTJr5 .axis-text-x {\n   fill: #474747;\n   font-family: Lucida Grande, sans-serif;\n   font-size: 13.0px;\n   font-weight: normal;\n   font-style: normal;   \n}\n#dyeH8E6 .axis-tooltip-text-x {\n   fill: #ffffff;\n   font-family: Lucida Grande, sans-serif;\n   font-size: 13.0px;\n   font-weight: normal;\n   font-style: normal;   \n}\n#p7gTJr5 .axis-title-y {\n   fill: #474747;\n   font-family: Lucida Grande, sans-serif;\n   font-size: 15.0px;\n   font-weight: normal;\n   font-style: normal;   \n}\n#p7gTJr5 .axis-text-y {\n   fill: #474747;\n   font-family: Lucida Grande, sans-serif;\n   font-size: 13.0px;\n   font-weight: normal;\n   font-style: normal;   \n}\n#dyeH8E6 .axis-tooltip-text-y {\n   fill: #ffffff;\n   font-family: Lucida Grande, sans-serif;\n   font-size: 13.0px;\n   font-weight: normal;\n   font-style: normal;   \n}\n#p7gTJr5 .facet-strip-text-x {\n   fill: #474747;\n   font-family: Lucida Grande, sans-serif;\n   font-size: 13.0px;\n   font-weight: normal;\n   font-style: normal;   \n}\n#p7gTJr5 .facet-strip-text-y {\n   fill: #474747;\n   font-family: Lucida Grande, sans-serif;\n   font-size: 13.0px;\n   font-weight: normal;\n   font-style: normal;   \n}\n#dyeH8E6 .tooltip-text {\n   fill: #474747;\n   font-family: Lucida Grande, sans-serif;\n   font-size: 13.0px;\n   font-weight: normal;\n   font-style: normal;   \n}\n#dyeH8E6 .tooltip-title {\n   fill: #474747;\n   font-family: Lucida Grande, sans-serif;\n   font-size: 13.0px;\n   font-weight: bold;\n   font-style: normal;   \n}\n#dyeH8E6 .tooltip-label {\n   fill: #474747;\n   font-family: Lucida Grande, sans-serif;\n   font-size: 13.0px;\n   font-weight: bold;\n   font-style: normal;   \n}\n\n  </style>\n  <g id=\"p7gTJr5\">\n    <rect x=\"0.0\" y=\"0.0\" height=\"400.0\" width=\"600.0\" stroke=\"rgb(71,71,71)\" stroke-opacity=\"1.0\" stroke-width=\"0.0\" fill=\"rgb(255,255,255)\" fill-opacity=\"1.0\">\n    </rect>\n    <g transform=\"translate(23.0 10.0 ) \">\n      <g transform=\"translate(21.961210910936405 344.0 ) \">\n        <line x1=\"18.42205697387277\" y1=\"-0.0\" x2=\"18.42205697387277\" y2=\"-344.0\" stroke=\"rgb(233,233,233)\" stroke-opacity=\"1.0\" stroke-width=\"1.0\">\n        </line>\n        <line x1=\"81.94639136653751\" y1=\"-0.0\" x2=\"81.94639136653751\" y2=\"-344.0\" stroke=\"rgb(233,233,233)\" stroke-opacity=\"1.0\" stroke-width=\"1.0\">\n        </line>\n        <line x1=\"145.47072575920225\" y1=\"-0.0\" x2=\"145.47072575920225\" y2=\"-344.0\" stroke=\"rgb(233,233,233)\" stroke-opacity=\"1.0\" stroke-width=\"1.0\">\n        </line>\n        <line x1=\"208.995060151867\" y1=\"-0.0\" x2=\"208.995060151867\" y2=\"-344.0\" stroke=\"rgb(233,233,233)\" stroke-opacity=\"1.0\" stroke-width=\"1.0\">\n        </line>\n        <line x1=\"272.51939454453174\" y1=\"-0.0\" x2=\"272.51939454453174\" y2=\"-344.0\" stroke=\"rgb(233,233,233)\" stroke-opacity=\"1.0\" stroke-width=\"1.0\">\n        </line>\n        <line x1=\"336.0437289371965\" y1=\"-0.0\" x2=\"336.0437289371965\" y2=\"-344.0\" stroke=\"rgb(233,233,233)\" stroke-opacity=\"1.0\" stroke-width=\"1.0\">\n        </line>\n        <line x1=\"399.5680633298612\" y1=\"-0.0\" x2=\"399.5680633298612\" y2=\"-344.0\" stroke=\"rgb(233,233,233)\" stroke-opacity=\"1.0\" stroke-width=\"1.0\">\n        </line>\n        <line x1=\"463.09239772252596\" y1=\"-0.0\" x2=\"463.09239772252596\" y2=\"-344.0\" stroke=\"rgb(233,233,233)\" stroke-opacity=\"1.0\" stroke-width=\"1.0\">\n        </line>\n        <line x1=\"526.6167321151906\" y1=\"-0.0\" x2=\"526.6167321151906\" y2=\"-344.0\" stroke=\"rgb(233,233,233)\" stroke-opacity=\"1.0\" stroke-width=\"1.0\">\n        </line>\n        <g transform=\"translate(18.42205697387277 0.0 ) \">\n          <line stroke-width=\"1.0\" stroke=\"rgb(71,71,71)\" stroke-opacity=\"1.0\" x2=\"0.0\" y2=\"4.0\">\n          </line>\n          <g transform=\"translate(0.0 7.0 ) \">\n            <text class=\"axis-text-x\" text-anchor=\"middle\" dy=\"0.7em\">\n            1.5\n            </text>\n          </g>\n        </g>\n        <g transform=\"translate(81.94639136653751 0.0 ) \">\n          <line stroke-width=\"1.0\" stroke=\"rgb(71,71,71)\" stroke-opacity=\"1.0\" x2=\"0.0\" y2=\"4.0\">\n          </line>\n          <g transform=\"translate(0.0 7.0 ) \">\n            <text class=\"axis-text-x\" text-anchor=\"middle\" dy=\"0.7em\">\n            2.0\n            </text>\n          </g>\n        </g>\n        <g transform=\"translate(145.47072575920225 0.0 ) \">\n          <line stroke-width=\"1.0\" stroke=\"rgb(71,71,71)\" stroke-opacity=\"1.0\" x2=\"0.0\" y2=\"4.0\">\n          </line>\n          <g transform=\"translate(0.0 7.0 ) \">\n            <text class=\"axis-text-x\" text-anchor=\"middle\" dy=\"0.7em\">\n            2.5\n            </text>\n          </g>\n        </g>\n        <g transform=\"translate(208.995060151867 0.0 ) \">\n          <line stroke-width=\"1.0\" stroke=\"rgb(71,71,71)\" stroke-opacity=\"1.0\" x2=\"0.0\" y2=\"4.0\">\n          </line>\n          <g transform=\"translate(0.0 7.0 ) \">\n            <text class=\"axis-text-x\" text-anchor=\"middle\" dy=\"0.7em\">\n            3.0\n            </text>\n          </g>\n        </g>\n        <g transform=\"translate(272.51939454453174 0.0 ) \">\n          <line stroke-width=\"1.0\" stroke=\"rgb(71,71,71)\" stroke-opacity=\"1.0\" x2=\"0.0\" y2=\"4.0\">\n          </line>\n          <g transform=\"translate(0.0 7.0 ) \">\n            <text class=\"axis-text-x\" text-anchor=\"middle\" dy=\"0.7em\">\n            3.5\n            </text>\n          </g>\n        </g>\n        <g transform=\"translate(336.0437289371965 0.0 ) \">\n          <line stroke-width=\"1.0\" stroke=\"rgb(71,71,71)\" stroke-opacity=\"1.0\" x2=\"0.0\" y2=\"4.0\">\n          </line>\n          <g transform=\"translate(0.0 7.0 ) \">\n            <text class=\"axis-text-x\" text-anchor=\"middle\" dy=\"0.7em\">\n            4.0\n            </text>\n          </g>\n        </g>\n        <g transform=\"translate(399.5680633298612 0.0 ) \">\n          <line stroke-width=\"1.0\" stroke=\"rgb(71,71,71)\" stroke-opacity=\"1.0\" x2=\"0.0\" y2=\"4.0\">\n          </line>\n          <g transform=\"translate(0.0 7.0 ) \">\n            <text class=\"axis-text-x\" text-anchor=\"middle\" dy=\"0.7em\">\n            4.5\n            </text>\n          </g>\n        </g>\n        <g transform=\"translate(463.09239772252596 0.0 ) \">\n          <line stroke-width=\"1.0\" stroke=\"rgb(71,71,71)\" stroke-opacity=\"1.0\" x2=\"0.0\" y2=\"4.0\">\n          </line>\n          <g transform=\"translate(0.0 7.0 ) \">\n            <text class=\"axis-text-x\" text-anchor=\"middle\" dy=\"0.7em\">\n            5.0\n            </text>\n          </g>\n        </g>\n        <g transform=\"translate(526.6167321151906 0.0 ) \">\n          <line stroke-width=\"1.0\" stroke=\"rgb(71,71,71)\" stroke-opacity=\"1.0\" x2=\"0.0\" y2=\"4.0\">\n          </line>\n          <g transform=\"translate(0.0 7.0 ) \">\n            <text class=\"axis-text-x\" text-anchor=\"middle\" dy=\"0.7em\">\n            5.5\n            </text>\n          </g>\n        </g>\n        <line x1=\"0.0\" y1=\"0.0\" x2=\"545.0387890890636\" y2=\"0.0\" stroke-width=\"1.0\" stroke=\"rgb(71,71,71)\" stroke-opacity=\"1.0\">\n        </line>\n      </g>\n      <g transform=\"translate(21.961210910936405 0.0 ) \">\n        <line x1=\"0.0\" y1=\"298.4973544973545\" x2=\"545.0387890890636\" y2=\"298.4973544973545\" stroke=\"rgb(233,233,233)\" stroke-opacity=\"1.0\" stroke-width=\"1.0\">\n        </line>\n        <line x1=\"0.0\" y1=\"252.994708994709\" x2=\"545.0387890890636\" y2=\"252.994708994709\" stroke=\"rgb(233,233,233)\" stroke-opacity=\"1.0\" stroke-width=\"1.0\">\n        </line>\n        <line x1=\"0.0\" y1=\"207.4920634920635\" x2=\"545.0387890890636\" y2=\"207.4920634920635\" stroke=\"rgb(233,233,233)\" stroke-opacity=\"1.0\" stroke-width=\"1.0\">\n        </line>\n        <line x1=\"0.0\" y1=\"161.98941798941797\" x2=\"545.0387890890636\" y2=\"161.98941798941797\" stroke=\"rgb(233,233,233)\" stroke-opacity=\"1.0\" stroke-width=\"1.0\">\n        </line>\n        <line x1=\"0.0\" y1=\"116.48677248677245\" x2=\"545.0387890890636\" y2=\"116.48677248677245\" stroke=\"rgb(233,233,233)\" stroke-opacity=\"1.0\" stroke-width=\"1.0\">\n        </line>\n        <line x1=\"0.0\" y1=\"70.98412698412699\" x2=\"545.0387890890636\" y2=\"70.98412698412699\" stroke=\"rgb(233,233,233)\" stroke-opacity=\"1.0\" stroke-width=\"1.0\">\n        </line>\n        <line x1=\"0.0\" y1=\"25.481481481481467\" x2=\"545.0387890890636\" y2=\"25.481481481481467\" stroke=\"rgb(233,233,233)\" stroke-opacity=\"1.0\" stroke-width=\"1.0\">\n        </line>\n        <g transform=\"translate(0.0 344.0 ) \">\n          <g transform=\"translate(-3.0 0.0 ) \">\n            <text class=\"axis-text-y\" text-anchor=\"end\" dy=\"0.35em\">\n            0\n            </text>\n          </g>\n        </g>\n        <g transform=\"translate(0.0 298.4973544973545 ) \">\n          <g transform=\"translate(-3.0 0.0 ) \">\n            <text class=\"axis-text-y\" text-anchor=\"end\" dy=\"0.35em\">\n            5\n            </text>\n          </g>\n        </g>\n        <g transform=\"translate(0.0 252.994708994709 ) \">\n          <g transform=\"translate(-3.0 0.0 ) \">\n            <text class=\"axis-text-y\" text-anchor=\"end\" dy=\"0.35em\">\n            10\n            </text>\n          </g>\n        </g>\n        <g transform=\"translate(0.0 207.4920634920635 ) \">\n          <g transform=\"translate(-3.0 0.0 ) \">\n            <text class=\"axis-text-y\" text-anchor=\"end\" dy=\"0.35em\">\n            15\n            </text>\n          </g>\n        </g>\n        <g transform=\"translate(0.0 161.98941798941797 ) \">\n          <g transform=\"translate(-3.0 0.0 ) \">\n            <text class=\"axis-text-y\" text-anchor=\"end\" dy=\"0.35em\">\n            20\n            </text>\n          </g>\n        </g>\n        <g transform=\"translate(0.0 116.48677248677245 ) \">\n          <g transform=\"translate(-3.0 0.0 ) \">\n            <text class=\"axis-text-y\" text-anchor=\"end\" dy=\"0.35em\">\n            25\n            </text>\n          </g>\n        </g>\n        <g transform=\"translate(0.0 70.98412698412699 ) \">\n          <g transform=\"translate(-3.0 0.0 ) \">\n            <text class=\"axis-text-y\" text-anchor=\"end\" dy=\"0.35em\">\n            30\n            </text>\n          </g>\n        </g>\n        <g transform=\"translate(0.0 25.481481481481467 ) \">\n          <g transform=\"translate(-3.0 0.0 ) \">\n            <text class=\"axis-text-y\" text-anchor=\"end\" dy=\"0.35em\">\n            35\n            </text>\n          </g>\n        </g>\n      </g>\n      <g transform=\"translate(21.961210910936405 0.0 ) \" clip-path=\"url(#cqOicb4)\" clip-bounds-jfx=\"[rect (0.0, 0.0), (545.0387890890636, 344.0)]\">\n        <defs>\n          <clipPath id=\"cqOicb4\">\n            <rect x=\"0.0\" y=\"0.0\" width=\"545.0387890890636\" height=\"344.0\">\n            </rect>\n          </clipPath>\n        </defs>\n        <rect x=\"405.9204967691276\" y=\"143.78835978835977\" height=\"200.21164021164023\" width=\"114.34380190679661\" stroke=\"rgb(0,0,0)\" stroke-opacity=\"0.0\" fill=\"rgb(17,142,216)\" fill-opacity=\"1.0\" stroke-width=\"1.0\">\n        </rect>\n        <rect x=\"278.8718279837982\" y=\"16.38095238095235\" height=\"327.61904761904765\" width=\"114.34380190679661\" stroke=\"rgb(0,0,0)\" stroke-opacity=\"0.0\" fill=\"rgb(17,142,216)\" fill-opacity=\"1.0\" stroke-width=\"1.0\">\n        </rect>\n        <rect x=\"151.82315919846872\" y=\"61.88359788359787\" height=\"282.1164021164021\" width=\"114.3438019067965\" stroke=\"rgb(0,0,0)\" stroke-opacity=\"0.0\" fill=\"rgb(17,142,216)\" fill-opacity=\"1.0\" stroke-width=\"1.0\">\n        </rect>\n        <rect x=\"24.77449041313926\" y=\"325.79894179894177\" height=\"18.20105820105823\" width=\"114.34380190679653\" stroke=\"rgb(0,0,0)\" stroke-opacity=\"0.0\" fill=\"rgb(17,142,216)\" fill-opacity=\"1.0\" stroke-width=\"1.0\">\n        </rect>\n      </g>\n    </g>\n    <g transform=\"translate(14.5 182.0 ) rotate(-90.0 ) \">\n      <text class=\"axis-title-y\" y=\"0.0\" text-anchor=\"middle\">\n      y\n      </text>\n    </g>\n    <g transform=\"translate(317.4806054554682 391.5 ) \">\n      <text class=\"axis-title-x\" y=\"0.0\" text-anchor=\"middle\">\n      x\n      </text>\n    </g>\n  </g>\n  <g id=\"dyeH8E6\">\n  </g>\n</svg>\n        <script>document.getElementById(\"5fa8c61b-a434-450f-9a11-1270a002ca04\").style.display = \"none\";</script>",
      "application/plot+json": {
       "output_type": "lets_plot_spec",
       "output": {
        "mapping": {},
        "data": {},
        "kind": "plot",
        "scales": [
         {
          "aesthetic": "x",
          "limits": [
           null,
           null
          ]
         },
         {
          "aesthetic": "y",
          "limits": [
           null,
           null
          ]
         }
        ],
        "layers": [
         {
          "mapping": {
           "x": "x",
           "y": "y"
          },
          "stat": "identity",
          "data": {
           "x": [
            2.0,
            3.0,
            4.0,
            5.0
           ],
           "y": [
            2.0,
            31.0,
            36.0,
            22.0
           ]
          },
          "sampling": "none",
          "position": "dodge",
          "geom": "bar"
         }
        ]
       },
       "apply_color_scheme": true,
       "swing_enabled": true
      }
     },
     "execution_count": 27,
     "metadata": {},
     "output_type": "execute_result"
    }
   ],
   "source": [
    "val letterFrequencyGuesserStats = benchmark(letterFrequencyGuesser(dictionary))\n",
    "println(\"Letter Frequency Guesser won ${letterFrequencyGuesserStats.percentWon}% of games!\")\n",
    "println(\"Guess Frequency:\")\n",
    "letterFrequencyGuesserStats.guessFrequency.forEach { (guess, frequency) ->\n",
    "    println(\"$guess: $frequency%\")\n",
    "}\n",
    "\n",
    "plot{\n",
    "    bars {\n",
    "        x(letterFrequencyGuesserStats.guessFrequency.keys)\n",
    "        y(letterFrequencyGuesserStats.guessFrequency.values)\n",
    "    }\n",
    "}\n"
   ],
   "metadata": {
    "collapsed": false,
    "ExecuteTime": {
     "end_time": "2023-10-22T07:29:23.160678Z",
     "start_time": "2023-10-22T07:29:21.242154Z"
    }
   }
  },
  {
   "cell_type": "markdown",
   "source": [
    "That's a nice improvement! The letter frequency guesser wins over 90% of games and over third of them in three guesses or fewer!\n",
    "\n",
    "Can we do better? I think so. Notice how all the guessers above, once they find green or yellow letters, they only select words that match those letters. Consider the case where you guessed `light` on the first attempt and got a red `l` followed by 4 greens. There are so many words that end in `ight` e.g. `bight`, `right`, `eight`, `wight`, `sight` and more. If you only guessed words ending with `ight` you'd probably run out of chances before you find the one. You're far better off guessing a word like `brews` because if any of those letters match, then you know exactly which word it is.\n",
    "\n",
    "In a sense the guesser has to operate in two modes: start in an _exploration_ mode where the goal is to find as many green and yellow letters as possible, then switch to a _confirmation_ mode where the goal is to confirm the word. Firstly, it's hard to define how _exploration_ works, but we can define _confirmation_ quite easily: that's what the guessers above are doing. Secondly, we need to define when to switch from _exploration_ to _confirmation_ mode.\n",
    "\n",
    "I might come back to that some other day, this will have to do for now. Would love to hear your thoughts on this.\n"
   ],
   "metadata": {
    "collapsed": false
   }
  },
  {
   "cell_type": "code",
   "execution_count": null,
   "outputs": [],
   "source": [],
   "metadata": {
    "collapsed": false
   }
  }
 ],
 "metadata": {
  "kernelspec": {
   "display_name": "Kotlin",
   "language": "kotlin",
   "name": "kotlin"
  },
  "language_info": {
   "name": "kotlin",
   "version": "1.8.20",
   "mimetype": "text/x-kotlin",
   "file_extension": ".kt",
   "pygments_lexer": "kotlin",
   "codemirror_mode": "text/x-kotlin",
   "nbconvert_exporter": ""
  },
  "ktnbPluginMetadata": {
   "isAddProjectLibrariesToClasspath": false
  }
 },
 "nbformat": 4,
 "nbformat_minor": 0
}
