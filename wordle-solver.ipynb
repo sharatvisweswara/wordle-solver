{
 "cells": [
  {
   "cell_type": "markdown",
   "source": [
    "# Wordle Solver\n",
    "\n",
    "We'll start with a dumb solver and work out way up to something nicer.\n",
    "\n",
    "Let's start with some dependencies we need to make this work."
   ],
   "metadata": {
    "collapsed": false
   }
  },
  {
   "cell_type": "code",
   "execution_count": 74,
   "outputs": [],
   "source": [
    "USE {\n",
    "    dependencies {\n",
    "    }\n",
    "}"
   ],
   "metadata": {
    "collapsed": false,
    "ExecuteTime": {
     "end_time": "2023-09-06T07:51:46.408019Z",
     "start_time": "2023-09-06T07:51:46.117944Z"
    }
   }
  },
  {
   "cell_type": "markdown",
   "source": [
    "First we need to \"model\" the game. The game state is a list of guesses, where each guess is a five-letter word and each letter is colored yellow, green or red depending on whether the letter is in the word, in the right place, or not in the word at all. We'll represent this as a list of tuples, where each tuple is a letter and a color.\n",
    "\n",
    "Sealed classes seem like a nice way to model colored letters, let's also write some `toString` implementations so we can print them out nicely."
   ],
   "metadata": {
    "collapsed": false
   }
  },
  {
   "cell_type": "code",
   "execution_count": 75,
   "metadata": {
    "collapsed": true,
    "ExecuteTime": {
     "end_time": "2023-09-06T07:51:46.428678Z",
     "start_time": "2023-09-06T07:51:46.157901Z"
    }
   },
   "outputs": [],
   "source": [
    "sealed class Letter {\n",
    "    abstract val char: Char\n",
    "\n",
    "    protected fun toString(color: String) = \"<td style=\\\"background-color: $color\\\">$char</td>\"\n",
    "\n",
    "    data class Yellow(override val char: Char) : Letter() {\n",
    "        override fun toString() = toString(\"yellow\")\n",
    "    }\n",
    "\n",
    "    data class Green(override val char: Char) : Letter() {\n",
    "        override fun toString() = toString(\"green\")\n",
    "    }\n",
    "\n",
    "    data class Red(override val char: Char) : Letter() {\n",
    "        override fun toString() = toString(\"red\")\n",
    "    }\n",
    "}"
   ]
  },
  {
   "cell_type": "markdown",
   "source": [
    "Let's test it out"
   ],
   "metadata": {
    "collapsed": false
   }
  },
  {
   "cell_type": "code",
   "execution_count": 76,
   "outputs": [
    {
     "data": {
      "text/html": "<table><tr><td style=\"background-color: green\">a</td><td style=\"background-color: yellow\">b</td><td style=\"background-color: red\">c</td></tr></table>"
     },
     "execution_count": 76,
     "metadata": {},
     "output_type": "execute_result"
    }
   ],
   "source": [
    "HTML(\"<table><tr>${listOf(Letter.Green('a'), Letter.Yellow('b'), Letter.Red('c')).joinToString(\"\")}</tr></table>\")"
   ],
   "metadata": {
    "collapsed": false,
    "ExecuteTime": {
     "end_time": "2023-09-06T07:51:46.445964Z",
     "start_time": "2023-09-06T07:51:46.224366Z"
    }
   }
  },
  {
   "cell_type": "markdown",
   "source": [
    "Excellent, now let's model the game state\n"
   ],
   "metadata": {
    "collapsed": false
   }
  },
  {
   "cell_type": "code",
   "execution_count": 77,
   "outputs": [],
   "source": [
    "data class Game(val guesses: List<List<Letter>>) {\n",
    "    init {\n",
    "        require(guesses.size <= 5) { \"Game must have 5 guesses at most\" }\n",
    "        require(guesses.all { it.size == 5 }) { \"Each guess must have 5 letters\" }\n",
    "    }\n",
    "\n",
    "    override fun toString() = \"<table>${guesses.joinToString(\"\") { \"<tr>${it.joinToString(\"\")}</tr>\" }}</table>\"\n",
    "}"
   ],
   "metadata": {
    "collapsed": false,
    "ExecuteTime": {
     "end_time": "2023-09-06T07:51:46.471857Z",
     "start_time": "2023-09-06T07:51:46.276138Z"
    }
   }
  },
  {
   "cell_type": "markdown",
   "source": [
    "Let's test it out"
   ],
   "metadata": {
    "collapsed": false
   }
  },
  {
   "cell_type": "code",
   "execution_count": 78,
   "outputs": [
    {
     "data": {
      "text/html": "<table><tr><td style=\"background-color: green\">a</td><td style=\"background-color: yellow\">b</td><td style=\"background-color: red\">c</td><td style=\"background-color: green\">d</td><td style=\"background-color: yellow\">e</td></tr><tr><td style=\"background-color: green\">v</td><td style=\"background-color: yellow\">w</td><td style=\"background-color: red\">x</td><td style=\"background-color: green\">y</td><td style=\"background-color: yellow\">z</td></tr></table>"
     },
     "execution_count": 78,
     "metadata": {},
     "output_type": "execute_result"
    }
   ],
   "source": [
    "HTML(\n",
    "    Game(\n",
    "        listOf(\n",
    "            listOf(Letter.Green('a'), Letter.Yellow('b'), Letter.Red('c'), Letter.Green('d'), Letter.Yellow('e')),\n",
    "            listOf(Letter.Green('v'), Letter.Yellow('w'), Letter.Red('x'), Letter.Green('y'), Letter.Yellow('z'))\n",
    "        )\n",
    "    ).toString()\n",
    ")"
   ],
   "metadata": {
    "collapsed": false,
    "ExecuteTime": {
     "end_time": "2023-09-06T07:51:46.491700Z",
     "start_time": "2023-09-06T07:51:46.358547Z"
    }
   }
  },
  {
   "cell_type": "markdown",
   "source": [
    "Let's define a \"guesser\" abstraction and a dummy implementation so we can write a game driver around it."
   ],
   "metadata": {
    "collapsed": false
   }
  },
  {
   "cell_type": "code",
   "execution_count": 79,
   "outputs": [],
   "source": [
    "typealias Guesser = (Game) -> String\n",
    "\n",
    "val staticGuesser: Guesser = { \"abcde\" }"
   ],
   "metadata": {
    "collapsed": false,
    "ExecuteTime": {
     "end_time": "2023-09-06T07:51:46.493614Z",
     "start_time": "2023-09-06T07:51:46.431446Z"
    }
   }
  },
  {
   "cell_type": "markdown",
   "source": [
    "Let's write a game driver that takes a guesser and runs a game until it's over."
   ],
   "metadata": {
    "collapsed": false
   }
  },
  {
   "cell_type": "code",
   "execution_count": 80,
   "outputs": [],
   "source": [
    "fun playGame(actualWord: String, guesser: Guesser): Game {\n",
    "    var game = Game(emptyList())\n",
    "    var solved = false\n",
    "    while (game.guesses.size < 5 && !solved) {\n",
    "        val guess = guesser(game)\n",
    "        check(guess.length == 5) { \"Guess must be 5 letters\" }\n",
    "\n",
    "        val letters = guess.mapIndexed { index, char ->\n",
    "            when {\n",
    "                char == actualWord[index] -> Letter.Green(char)\n",
    "                char in actualWord -> Letter.Yellow(char)\n",
    "                else -> Letter.Red(char)\n",
    "            }\n",
    "        }\n",
    "\n",
    "        game = game.copy(guesses = game.guesses + listOf(letters))\n",
    "        solved = letters.all { it is Letter.Green }\n",
    "    }\n",
    "\n",
    "    return game\n",
    "}"
   ],
   "metadata": {
    "collapsed": false,
    "ExecuteTime": {
     "end_time": "2023-09-06T07:51:46.610916Z",
     "start_time": "2023-09-06T07:51:46.465137Z"
    }
   }
  },
  {
   "cell_type": "markdown",
   "source": [
    "Let's play a game with our dummy guesser and make it win"
   ],
   "metadata": {
    "collapsed": false
   }
  },
  {
   "cell_type": "code",
   "execution_count": 81,
   "outputs": [
    {
     "data": {
      "text/html": "<table><tr><td style=\"background-color: green\">a</td><td style=\"background-color: green\">b</td><td style=\"background-color: green\">c</td><td style=\"background-color: green\">d</td><td style=\"background-color: green\">e</td></tr></table>"
     },
     "execution_count": 81,
     "metadata": {},
     "output_type": "execute_result"
    }
   ],
   "source": [
    "HTML(playGame(\"abcde\", staticGuesser).toString())"
   ],
   "metadata": {
    "collapsed": false,
    "ExecuteTime": {
     "end_time": "2023-09-06T07:51:46.630174Z",
     "start_time": "2023-09-06T07:51:46.596236Z"
    }
   }
  },
  {
   "cell_type": "markdown",
   "source": [
    "Now make it lose"
   ],
   "metadata": {
    "collapsed": false
   }
  },
  {
   "cell_type": "code",
   "execution_count": 82,
   "outputs": [
    {
     "data": {
      "text/html": "<table><tr><td style=\"background-color: green\">a</td><td style=\"background-color: red\">b</td><td style=\"background-color: green\">c</td><td style=\"background-color: red\">d</td><td style=\"background-color: green\">e</td></tr><tr><td style=\"background-color: green\">a</td><td style=\"background-color: red\">b</td><td style=\"background-color: green\">c</td><td style=\"background-color: red\">d</td><td style=\"background-color: green\">e</td></tr><tr><td style=\"background-color: green\">a</td><td style=\"background-color: red\">b</td><td style=\"background-color: green\">c</td><td style=\"background-color: red\">d</td><td style=\"background-color: green\">e</td></tr><tr><td style=\"background-color: green\">a</td><td style=\"background-color: red\">b</td><td style=\"background-color: green\">c</td><td style=\"background-color: red\">d</td><td style=\"background-color: green\">e</td></tr><tr><td style=\"background-color: green\">a</td><td style=\"background-color: red\">b</td><td style=\"background-color: green\">c</td><td style=\"background-color: red\">d</td><td style=\"background-color: green\">e</td></tr></table>"
     },
     "execution_count": 82,
     "metadata": {},
     "output_type": "execute_result"
    }
   ],
   "source": [
    "HTML(playGame(\"awcye\", staticGuesser).toString())"
   ],
   "metadata": {
    "collapsed": false,
    "ExecuteTime": {
     "end_time": "2023-09-06T07:51:46.668269Z",
     "start_time": "2023-09-06T07:51:46.629463Z"
    }
   }
  },
  {
   "cell_type": "markdown",
   "source": [
    "To write better guessers we need to know the dictionary of valid words. Let's load that up."
   ],
   "metadata": {
    "collapsed": false
   }
  },
  {
   "cell_type": "code",
   "execution_count": 83,
   "outputs": [
    {
     "name": "stdout",
     "output_type": "stream",
     "text": [
      "loaded 5497 words\n"
     ]
    }
   ],
   "source": [
    "val dictionary = java.io.File(\"/usr/share/dict/words\")\n",
    "    .readLines()\n",
    "    .filter { it.length == 5 }\n",
    "    .filter { it.all { char -> char in 'a'..'z' } }\n",
    "    .filter { it.toSet().size == 5 }\n",
    "\n",
    "println(\"loaded ${dictionary.size} words\")\n"
   ],
   "metadata": {
    "collapsed": false,
    "ExecuteTime": {
     "end_time": "2023-09-06T07:51:46.807190Z",
     "start_time": "2023-09-06T07:51:46.662785Z"
    }
   }
  },
  {
   "cell_type": "markdown",
   "source": [
    "We also need to get more useful information out of the game state, it's not easy to work with nested lists all the time, so let's write some helper functions to make it easier to work with.\n"
   ],
   "metadata": {
    "collapsed": false
   }
  },
  {
   "cell_type": "code",
   "execution_count": 84,
   "outputs": [
    {
     "name": "stdout",
     "output_type": "stream",
     "text": [
      "red: [c, f]\n",
      "green: {a=0, d=3, e=1}\n",
      "yellow: {b=[1, 2]}\n"
     ]
    }
   ],
   "source": [
    "// just the words\n",
    "fun Game.words() = guesses.map { it.joinToString(\"\") { letter -> letter.char.toString() } }\n",
    "\n",
    "// all red letters\n",
    "fun Game.redLetters() = guesses.flatMap { it.filterIsInstance<Letter.Red>() }\n",
    "    .map { it.char }\n",
    "    .toSet()\n",
    "\n",
    "// all green letters but we need to know the positions too\n",
    "fun Game.greenLetters() = guesses\n",
    "    .map { it.withIndex() }\n",
    "    .flatMap { it.filter { (_, letter) -> letter is Letter.Green } }\n",
    "    .distinctBy { it.value.char }\n",
    "    .associate { it.value.char to it.index }\n",
    "\n",
    "// all yellow letters, except those that turned out green later.\n",
    "// we also need positions for these but remember that a yellow letter can be in multiple positions\n",
    "fun Game.yellowLetters(): Map<Char, Set<Int>> = guesses\n",
    "    .map { it.withIndex() }\n",
    "    .flatMap { it.filter { (_, letter) -> letter is Letter.Yellow } }\n",
    "    .groupBy { it.value.char }\n",
    "    .mapValues { it.value.map { it.index }.toSet() }\n",
    "    .minus(greenLetters().keys)\n",
    "\n",
    "// let's see if it works\n",
    "fun gameFunctionsTest() {\n",
    "    val game = Game(\n",
    "        listOf(\n",
    "            listOf(Letter.Green('a'), Letter.Yellow('b'), Letter.Red('c'), Letter.Green('d'), Letter.Yellow('e')),\n",
    "            listOf(Letter.Green('a'), Letter.Green('e'), Letter.Yellow('b'), Letter.Green('d'), Letter.Red('f'))\n",
    "        )\n",
    "    )\n",
    "    println(\"red: ${game.redLetters()}\")\n",
    "    println(\"green: ${game.greenLetters()}\")\n",
    "    println(\"yellow: ${game.yellowLetters()}\")\n",
    "}\n",
    "\n",
    "gameFunctionsTest()"
   ],
   "metadata": {
    "collapsed": false,
    "ExecuteTime": {
     "end_time": "2023-09-06T07:51:47.122164Z",
     "start_time": "2023-09-06T07:51:46.803917Z"
    }
   }
  },
  {
   "cell_type": "markdown",
   "source": [
    "With that we can now write a better guesser that finds the first word in the dictionary that has none of the red letters, all the green letters at the same positions, and all the yellow letters in any position. For this iteration we will not take into account the positions of the yellow letters.\n"
   ],
   "metadata": {
    "collapsed": false
   }
  },
  {
   "cell_type": "code",
   "execution_count": 85,
   "outputs": [
    {
     "name": "stdout",
     "output_type": "stream",
     "text": [
      "? used: abcde -> true\n",
      "? red([]): abcde -> true\n",
      "? green({}): abcde -> true\n",
      "? yellow({}): abcde -> true\n",
      "> first guess: abcde\n",
      "? used: abcde -> false\n",
      "? used: xxxxx -> true\n",
      "? red([b, d]): xxxxx -> true\n",
      "? green({a=0, c=2, e=4}): xxxxx -> false\n",
      "? used: afcge -> true\n",
      "? red([b, d]): afcge -> true\n",
      "? green({a=0, c=2, e=4}): afcge -> true\n",
      "? yellow({}): afcge -> true\n",
      "> second guess: afcge\n",
      "? used: abcde -> false\n",
      "? used: xxxxx -> true\n",
      "? red([b, d]): xxxxx -> true\n",
      "? green({a=0, c=2, e=4}): xxxxx -> false\n",
      "? used: afcge -> false\n",
      "? used: yyyyy -> true\n",
      "? red([b, d]): yyyyy -> true\n",
      "? green({a=0, c=2, e=4}): yyyyy -> false\n",
      "? used: agcfe -> true\n",
      "? red([b, d]): agcfe -> true\n",
      "? green({a=0, c=2, e=4}): agcfe -> true\n",
      "? yellow({f=[1], g=[3]}): agcfe -> true\n",
      "> third guess: agcfe\n"
     ]
    }
   ],
   "source": [
    "fun simpleFirstMatchGuesser(dictionary: List<String>, debug: Boolean = false): Guesser = { game ->\n",
    "    val redLetters = game.redLetters()\n",
    "    val greenLetters = game.greenLetters()\n",
    "    val yellowLetters = game.yellowLetters()\n",
    "    val usedWords = game.words()\n",
    "\n",
    "    fun Sequence<String>.f(name: String, fn: (String) -> Boolean) = filter {\n",
    "        val result = fn(it)\n",
    "        if (debug) {\n",
    "            println(\"? $name: $it -> $result\")\n",
    "        }\n",
    "        result\n",
    "    }\n",
    "\n",
    "    dictionary\n",
    "        .asSequence()\n",
    "        .f(\"used\") { word -> word !in usedWords }\n",
    "        .f(\"red($redLetters)\") { word -> word.none { it in redLetters } }\n",
    "        .f(\"green($greenLetters)\") { word -> greenLetters.all { (char, index) -> word[index] == char } }\n",
    "        .f(\"yellow($yellowLetters)\") { word -> yellowLetters.all { (char, _) -> char in word } }\n",
    "        .first()\n",
    "}\n",
    "\n",
    "// let's test it out\n",
    "fun testSimpleFirstMatchGuesser() {\n",
    "    val simpleDict = listOf(\"abcde\", \"xxxxx\", \"afcge\", \"yyyyy\", \"agcfe\", \"zzzzz\")\n",
    "    val guesser = simpleFirstMatchGuesser(simpleDict, debug = true)\n",
    "\n",
    "    // shortcuts!\n",
    "    fun g(char: Char) = Letter.Green(char)\n",
    "    fun y(char: Char) = Letter.Yellow(char)\n",
    "    fun r(char: Char) = Letter.Red(char)\n",
    "    val (a, b, c, d, e) = ('a'..'e').toList()\n",
    "    val (f, g) = ('f'..'g').toList()\n",
    "\n",
    "    fun game(vararg letters: Letter) = Game(letters.toList().chunked(5))\n",
    "\n",
    "    val firstGuess = guesser(game())\n",
    "    println(\"> first guess: $firstGuess\")\n",
    "    check(firstGuess == \"abcde\") { \"first guess should be abcde, was $firstGuess\" }\n",
    "\n",
    "    val secondGuess = guesser(\n",
    "        game(\n",
    "            g(a), r(b), g(c), r(d), g(e)\n",
    "        )\n",
    "    )\n",
    "    println(\"> second guess: $secondGuess\")\n",
    "    check(secondGuess == \"afcge\") { \"second guess should be afcge, was $secondGuess\" }\n",
    "\n",
    "    val thirdGuess = guesser(\n",
    "        game(\n",
    "            g(a), r(b), g(c), r(d), y(e),\n",
    "            g(a), y(f), g(c), y(g), g(e)\n",
    "        )\n",
    "    )\n",
    "\n",
    "    println(\"> third guess: $thirdGuess\")\n",
    "    check(thirdGuess == \"agcfe\") { \"third guess should be agcfe, was $thirdGuess\" }\n",
    "}\n",
    "\n",
    "testSimpleFirstMatchGuesser()\n"
   ],
   "metadata": {
    "collapsed": false,
    "ExecuteTime": {
     "end_time": "2023-09-06T07:51:47.453024Z",
     "start_time": "2023-09-06T07:51:47.114237Z"
    }
   }
  },
  {
   "cell_type": "markdown",
   "source": [
    "Sweet, so now we have a guesser that at least makes an attempt to win the game, but we don't know how _good_ it is. Let's write a benchmark function that plays a game a bunch of times and collects statistics about the number of guesses it took to win. In order to make comparisons between guessers easier we will also make sure that the same words are used in each game.\n"
   ],
   "metadata": {
    "collapsed": false
   }
  },
  {
   "cell_type": "code",
   "execution_count": 87,
   "outputs": [],
   "source": [
    "import java.math.BigDecimal\n",
    "import java.math.RoundingMode\n",
    "\n",
    "val random = Random(0)\n",
    "val benchmarkWords = dictionary.shuffled(random).take(100)\n",
    "\n",
    "sealed class Outcome {\n",
    "    object Lost : Outcome()\n",
    "    data class Won(val guesses: Int) : Outcome()\n",
    "}\n",
    "\n",
    "fun Game.outcome() = if (guesses.last().all { it is Letter.Green }) {\n",
    "    Outcome.Won(guesses.size)\n",
    "} else {\n",
    "    Outcome.Lost\n",
    "}\n",
    "\n",
    "data class Statistics(\n",
    "    val percentWon: BigDecimal,\n",
    "    val guessFrequency: Map<Int, BigDecimal>\n",
    ")\n",
    "\n",
    "fun benchmark(guesser: Guesser, words: List<String> = benchmarkWords): Statistics {\n",
    "    val outcomes = words.map { word ->\n",
    "        playGame(word, guesser).outcome()\n",
    "    }\n",
    "\n",
    "    val total = outcomes.size\n",
    "    val numWon = outcomes.count { it is Outcome.Won }\n",
    "    val percentWon = numWon.toDouble() / total * 100\n",
    "\n",
    "    val guessFrequency = outcomes.filterIsInstance<Outcome.Won>()\n",
    "        .map { it.guesses }\n",
    "        .groupingBy { it }\n",
    "        .eachCount()\n",
    "        .mapValues { it.value.toDouble() / total * 100 }\n",
    "        .toSortedMap()\n",
    "\n",
    "    fun Double.round() = BigDecimal(this).setScale(2, RoundingMode.HALF_EVEN)\n",
    "\n",
    "    return Statistics(percentWon.round(), guessFrequency.mapValues { it.value.round() })\n",
    "}"
   ],
   "metadata": {
    "collapsed": false,
    "ExecuteTime": {
     "end_time": "2023-09-06T07:51:49.316352Z",
     "start_time": "2023-09-06T07:51:49.107276Z"
    }
   }
  },
  {
   "cell_type": "markdown",
   "source": [
    "Right, now let's benchmark the simple guesser.\n"
   ],
   "metadata": {
    "collapsed": false
   }
  },
  {
   "cell_type": "code",
   "execution_count": 91,
   "outputs": [
    {
     "name": "stdout",
     "output_type": "stream",
     "text": [
      "Simple Guesser won 55.00% of games!\n"
     ]
    },
    {
     "data": {
      "text/html": "   <div id=\"Y9wpq9\"></div>\n   <script type=\"text/javascript\" data-lets-plot-script=\"plot\">\n       (function() {\n           var plotSpec={\n\"mapping\":{\n},\n\"data\":{\n\"x\":[2.0,3.0,4.0,5.0],\n\"y\":[1.0,9.0,17.0,28.0]\n},\n\"kind\":\"plot\",\n\"scales\":[{\n\"aesthetic\":\"x\",\n\"limits\":[null,null]\n},{\n\"aesthetic\":\"y\",\n\"limits\":[null,null]\n}],\n\"layers\":[{\n\"mapping\":{\n\"x\":\"x\",\n\"y\":\"y\"\n},\n\"stat\":\"identity\",\n\"sampling\":\"none\",\n\"position\":\"dodge\",\n\"geom\":\"bar\",\n\"data\":{\n}\n}]\n};\n           var plotContainer = document.getElementById(\"Y9wpq9\");\n           window.letsPlotCall(function() {{\n               LetsPlot.buildPlotFromProcessedSpecs(plotSpec, -1, -1, plotContainer);\n           }});\n       })();    \n   </script>",
      "application/plot+json": {
       "output_type": "lets_plot_spec",
       "output": {
        "mapping": {},
        "data": {
         "x": [
          2.0,
          3.0,
          4.0,
          5.0
         ],
         "y": [
          1.0,
          9.0,
          17.0,
          28.0
         ]
        },
        "kind": "plot",
        "scales": [
         {
          "aesthetic": "x",
          "limits": [
           null,
           null
          ]
         },
         {
          "aesthetic": "y",
          "limits": [
           null,
           null
          ]
         }
        ],
        "layers": [
         {
          "mapping": {
           "x": "x",
           "y": "y"
          },
          "stat": "identity",
          "sampling": "none",
          "position": "dodge",
          "geom": "bar"
         }
        ]
       },
       "apply_color_scheme": true,
       "swing_enabled": true
      }
     },
     "execution_count": 91,
     "metadata": {},
     "output_type": "execute_result"
    }
   ],
   "source": [
    "%use kandy\n",
    "import org.w3c.dom.Document\n",
    "\n",
    "val simpleGuesserStats = benchmark(simpleFirstMatchGuesser(dictionary))\n",
    "println(\"Simple Guesser won ${simpleGuesserStats.percentWon}% of games!\")\n",
    "plot {\n",
    "    bars {\n",
    "        x(simpleGuesserStats.guessFrequency.keys)\n",
    "        y(simpleGuesserStats.guessFrequency.values)\n",
    "    }\n",
    "}\n"
   ],
   "metadata": {
    "collapsed": false,
    "ExecuteTime": {
     "end_time": "2023-09-06T07:53:01.677281Z",
     "start_time": "2023-09-06T07:52:59.992991Z"
    }
   }
  },
  {
   "cell_type": "markdown",
   "source": [
    "That's pretty cool! The simple guesser won over half the games and has a nice linear trend line on the guess frequency.\n",
    "\n",
    "We can however, do better. Note that the simple guesser does not take into account the positions of the yellow letters. Let's write a guesser that does and benchmark it.\n"
   ],
   "metadata": {
    "collapsed": false
   }
  },
  {
   "cell_type": "code",
   "execution_count": 90,
   "outputs": [
    {
     "name": "stdout",
     "output_type": "stream",
     "text": [
      "Yellow Position Aware Guesser won 82.00% of games!\n"
     ]
    },
    {
     "data": {
      "text/html": "   <div id=\"th0sbt\"></div>\n   <script type=\"text/javascript\" data-lets-plot-script=\"plot\">\n       (function() {\n           var plotSpec={\n\"mapping\":{\n},\n\"data\":{\n\"x\":[2.0,3.0,4.0,5.0],\n\"y\":[2.0,10.0,42.0,28.0]\n},\n\"kind\":\"plot\",\n\"scales\":[{\n\"aesthetic\":\"x\",\n\"limits\":[null,null]\n},{\n\"aesthetic\":\"y\",\n\"limits\":[null,null]\n}],\n\"layers\":[{\n\"mapping\":{\n\"x\":\"x\",\n\"y\":\"y\"\n},\n\"stat\":\"identity\",\n\"sampling\":\"none\",\n\"position\":\"dodge\",\n\"geom\":\"bar\",\n\"data\":{\n}\n}]\n};\n           var plotContainer = document.getElementById(\"th0sbt\");\n           window.letsPlotCall(function() {{\n               LetsPlot.buildPlotFromProcessedSpecs(plotSpec, -1, -1, plotContainer);\n           }});\n       })();    \n   </script>",
      "application/plot+json": {
       "output_type": "lets_plot_spec",
       "output": {
        "mapping": {},
        "data": {
         "x": [
          2.0,
          3.0,
          4.0,
          5.0
         ],
         "y": [
          2.0,
          10.0,
          42.0,
          28.0
         ]
        },
        "kind": "plot",
        "scales": [
         {
          "aesthetic": "x",
          "limits": [
           null,
           null
          ]
         },
         {
          "aesthetic": "y",
          "limits": [
           null,
           null
          ]
         }
        ],
        "layers": [
         {
          "mapping": {
           "x": "x",
           "y": "y"
          },
          "stat": "identity",
          "sampling": "none",
          "position": "dodge",
          "geom": "bar"
         }
        ]
       },
       "apply_color_scheme": true,
       "swing_enabled": true
      }
     },
     "execution_count": 90,
     "metadata": {},
     "output_type": "execute_result"
    }
   ],
   "source": [
    "fun yellowPostionAwareGuesser(dictionary: List<String>, debug: Boolean = false): Guesser = { game ->\n",
    "    val redLetters = game.redLetters()\n",
    "    val greenLetters = game.greenLetters()\n",
    "    val yellowLetters = game.yellowLetters()\n",
    "    val usedWords = game.words()\n",
    "\n",
    "    fun Sequence<String>.f(name: String, fn: (String) -> Boolean) = filter {\n",
    "        val result = fn(it)\n",
    "        if (debug) {\n",
    "            println(\"? $name: $it -> $result\")\n",
    "        }\n",
    "        result\n",
    "    }\n",
    "\n",
    "    dictionary\n",
    "        .asSequence()\n",
    "        .f(\"used\") { word -> word !in usedWords }\n",
    "        .f(\"red($redLetters)\") { word -> word.none { it in redLetters } }\n",
    "        .f(\"green($greenLetters)\") { word -> greenLetters.all { (char, index) -> word[index] == char } }\n",
    "        .f(\"yellow($yellowLetters)\") { word ->\n",
    "            yellowLetters.all { (char, indexes) ->\n",
    "                char in word && indexes.all { index -> word[index] != char }\n",
    "            }\n",
    "        }\n",
    "        .first()\n",
    "}\n",
    "\n",
    "val yellowPositionAwareGuesserStats = benchmark(yellowPostionAwareGuesser(dictionary))\n",
    "println(\"Yellow Position Aware Guesser won ${yellowPositionAwareGuesserStats.percentWon}% of games!\")\n",
    "\n",
    "plot {\n",
    "    bars {\n",
    "        x(yellowPositionAwareGuesserStats.guessFrequency.keys)\n",
    "        y(yellowPositionAwareGuesserStats.guessFrequency.values)\n",
    "    }\n",
    "}\n"
   ],
   "metadata": {
    "collapsed": false,
    "ExecuteTime": {
     "end_time": "2023-09-06T07:51:50.588486Z",
     "start_time": "2023-09-06T07:51:50.254962Z"
    }
   }
  },
  {
   "cell_type": "markdown",
   "source": [
    "That is a significant improvement! The yellow position aware guesser wins over 80% of games and has a much nicer guess frequency distribution: in fact it wins most games on or before the 4th guess.\n"
   ],
   "metadata": {
    "collapsed": false
   }
  }
 ],
 "metadata": {
  "kernelspec": {
   "display_name": "Kotlin",
   "language": "kotlin",
   "name": "kotlin"
  },
  "language_info": {
   "name": "kotlin",
   "version": "1.8.20",
   "mimetype": "text/x-kotlin",
   "file_extension": ".kt",
   "pygments_lexer": "kotlin",
   "codemirror_mode": "text/x-kotlin",
   "nbconvert_exporter": ""
  },
  "ktnbPluginMetadata": {
   "isAddProjectLibrariesToClasspath": false
  }
 },
 "nbformat": 4,
 "nbformat_minor": 0
}
