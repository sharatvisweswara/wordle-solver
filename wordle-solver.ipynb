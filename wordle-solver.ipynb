{
 "cells": [
  {
   "cell_type": "markdown",
   "source": [
    "# Wordle Solver\n",
    "\n",
    "We'll start with a dumb solver and work out way up to something nicer.\n",
    "\n",
    "Let's start with some dependencies we need to make this work."
   ],
   "metadata": {
    "collapsed": false
   }
  },
  {
   "cell_type": "code",
   "execution_count": 115,
   "outputs": [],
   "source": [
    "%use kandy(0.4.4)"
   ],
   "metadata": {
    "collapsed": false,
    "ExecuteTime": {
     "end_time": "2023-09-06T20:29:47.338613Z",
     "start_time": "2023-09-06T20:29:45.408669Z"
    }
   }
  },
  {
   "cell_type": "markdown",
   "source": [
    "First we need to \"model\" the game. The game state is a list of guesses, where each guess is a five-letter word and each letter is colored yellow, green or red depending on whether the letter is in the word, in the right place, or not in the word at all. We'll represent this as a list of tuples, where each tuple is a letter and a color.\n",
    "\n",
    "Sealed classes seem like a nice way to model colored letters, let's also write some `toString` implementations so we can print them out nicely."
   ],
   "metadata": {
    "collapsed": false
   }
  },
  {
   "cell_type": "code",
   "execution_count": 116,
   "metadata": {
    "collapsed": true,
    "ExecuteTime": {
     "end_time": "2023-09-06T20:29:47.446915Z",
     "start_time": "2023-09-06T20:29:47.333408Z"
    }
   },
   "outputs": [],
   "source": [
    "sealed class Letter {\n",
    "    abstract val char: Char\n",
    "\n",
    "    protected fun toString(color: String) = \"<td style=\\\"background-color: $color\\\">$char</td>\"\n",
    "\n",
    "    data class Yellow(override val char: Char) : Letter() {\n",
    "        override fun toString() = toString(\"yellow\")\n",
    "    }\n",
    "\n",
    "    data class Green(override val char: Char) : Letter() {\n",
    "        override fun toString() = toString(\"green\")\n",
    "    }\n",
    "\n",
    "    data class Red(override val char: Char) : Letter() {\n",
    "        override fun toString() = toString(\"red\")\n",
    "    }\n",
    "}"
   ]
  },
  {
   "cell_type": "markdown",
   "source": [
    "Let's test it out"
   ],
   "metadata": {
    "collapsed": false
   }
  },
  {
   "cell_type": "code",
   "execution_count": 117,
   "outputs": [
    {
     "data": {
      "text/html": "<table><tr><td style=\"background-color: green\">a</td><td style=\"background-color: yellow\">b</td><td style=\"background-color: red\">c</td></tr></table>"
     },
     "execution_count": 117,
     "metadata": {},
     "output_type": "execute_result"
    }
   ],
   "source": [
    "HTML(\"<table><tr>${listOf(Letter.Green('a'), Letter.Yellow('b'), Letter.Red('c')).joinToString(\"\")}</tr></table>\")"
   ],
   "metadata": {
    "collapsed": false,
    "ExecuteTime": {
     "end_time": "2023-09-06T20:29:47.533888Z",
     "start_time": "2023-09-06T20:29:47.445245Z"
    }
   }
  },
  {
   "cell_type": "markdown",
   "source": [
    "Excellent, now let's model the game state\n"
   ],
   "metadata": {
    "collapsed": false
   }
  },
  {
   "cell_type": "code",
   "execution_count": 118,
   "outputs": [],
   "source": [
    "data class Game(val guesses: List<List<Letter>>) {\n",
    "    init {\n",
    "        require(guesses.size <= 5) { \"Game must have 5 guesses at most\" }\n",
    "        require(guesses.all { it.size == 5 }) { \"Each guess must have 5 letters\" }\n",
    "    }\n",
    "\n",
    "    override fun toString() = \"<table>${guesses.joinToString(\"\") { \"<tr>${it.joinToString(\"\")}</tr>\" }}</table>\"\n",
    "}"
   ],
   "metadata": {
    "collapsed": false,
    "ExecuteTime": {
     "end_time": "2023-09-06T20:29:47.648804Z",
     "start_time": "2023-09-06T20:29:47.532631Z"
    }
   }
  },
  {
   "cell_type": "markdown",
   "source": [
    "Let's test it out"
   ],
   "metadata": {
    "collapsed": false
   }
  },
  {
   "cell_type": "code",
   "execution_count": 119,
   "outputs": [
    {
     "data": {
      "text/html": "<table><tr><td style=\"background-color: green\">a</td><td style=\"background-color: yellow\">b</td><td style=\"background-color: red\">c</td><td style=\"background-color: green\">d</td><td style=\"background-color: yellow\">e</td></tr><tr><td style=\"background-color: green\">v</td><td style=\"background-color: yellow\">w</td><td style=\"background-color: red\">x</td><td style=\"background-color: green\">y</td><td style=\"background-color: yellow\">z</td></tr></table>"
     },
     "execution_count": 119,
     "metadata": {},
     "output_type": "execute_result"
    }
   ],
   "source": [
    "HTML(\n",
    "    Game(\n",
    "        listOf(\n",
    "            listOf(Letter.Green('a'), Letter.Yellow('b'), Letter.Red('c'), Letter.Green('d'), Letter.Yellow('e')),\n",
    "            listOf(Letter.Green('v'), Letter.Yellow('w'), Letter.Red('x'), Letter.Green('y'), Letter.Yellow('z'))\n",
    "        )\n",
    "    ).toString()\n",
    ")"
   ],
   "metadata": {
    "collapsed": false,
    "ExecuteTime": {
     "end_time": "2023-09-06T20:29:47.736349Z",
     "start_time": "2023-09-06T20:29:47.647320Z"
    }
   }
  },
  {
   "cell_type": "markdown",
   "source": [
    "Let's define a \"guesser\" abstraction and a dummy implementation so we can write a game driver around it."
   ],
   "metadata": {
    "collapsed": false
   }
  },
  {
   "cell_type": "code",
   "execution_count": 120,
   "outputs": [],
   "source": [
    "typealias Guesser = (Game) -> String\n",
    "\n",
    "val staticGuesser: Guesser = { \"abcde\" }"
   ],
   "metadata": {
    "collapsed": false,
    "ExecuteTime": {
     "end_time": "2023-09-06T20:29:47.782051Z",
     "start_time": "2023-09-06T20:29:47.735474Z"
    }
   }
  },
  {
   "cell_type": "markdown",
   "source": [
    "Let's write a game driver that takes a guesser and runs a game until it's over."
   ],
   "metadata": {
    "collapsed": false
   }
  },
  {
   "cell_type": "code",
   "execution_count": 121,
   "outputs": [],
   "source": [
    "fun playGame(actualWord: String, guesser: Guesser): Game {\n",
    "    var game = Game(emptyList())\n",
    "    var solved = false\n",
    "    while (game.guesses.size < 5 && !solved) {\n",
    "        val guess = guesser(game)\n",
    "        check(guess.length == 5) { \"Guess must be 5 letters\" }\n",
    "\n",
    "        val letters = guess.mapIndexed { index, char ->\n",
    "            when {\n",
    "                char == actualWord[index] -> Letter.Green(char)\n",
    "                char in actualWord -> Letter.Yellow(char)\n",
    "                else -> Letter.Red(char)\n",
    "            }\n",
    "        }\n",
    "\n",
    "        game = game.copy(guesses = game.guesses + listOf(letters))\n",
    "        solved = letters.all { it is Letter.Green }\n",
    "    }\n",
    "\n",
    "    return game\n",
    "}"
   ],
   "metadata": {
    "collapsed": false,
    "ExecuteTime": {
     "end_time": "2023-09-06T20:29:47.919578Z",
     "start_time": "2023-09-06T20:29:47.772123Z"
    }
   }
  },
  {
   "cell_type": "markdown",
   "source": [
    "Let's play a game with our dummy guesser and make it win"
   ],
   "metadata": {
    "collapsed": false
   }
  },
  {
   "cell_type": "code",
   "execution_count": 122,
   "outputs": [
    {
     "data": {
      "text/html": "<table><tr><td style=\"background-color: green\">a</td><td style=\"background-color: green\">b</td><td style=\"background-color: green\">c</td><td style=\"background-color: green\">d</td><td style=\"background-color: green\">e</td></tr></table>"
     },
     "execution_count": 122,
     "metadata": {},
     "output_type": "execute_result"
    }
   ],
   "source": [
    "HTML(playGame(\"abcde\", staticGuesser).toString())"
   ],
   "metadata": {
    "collapsed": false,
    "ExecuteTime": {
     "end_time": "2023-09-06T20:29:47.964124Z",
     "start_time": "2023-09-06T20:29:47.918371Z"
    }
   }
  },
  {
   "cell_type": "markdown",
   "source": [
    "Now make it lose"
   ],
   "metadata": {
    "collapsed": false
   }
  },
  {
   "cell_type": "code",
   "execution_count": 123,
   "outputs": [
    {
     "data": {
      "text/html": "<table><tr><td style=\"background-color: green\">a</td><td style=\"background-color: red\">b</td><td style=\"background-color: green\">c</td><td style=\"background-color: red\">d</td><td style=\"background-color: green\">e</td></tr><tr><td style=\"background-color: green\">a</td><td style=\"background-color: red\">b</td><td style=\"background-color: green\">c</td><td style=\"background-color: red\">d</td><td style=\"background-color: green\">e</td></tr><tr><td style=\"background-color: green\">a</td><td style=\"background-color: red\">b</td><td style=\"background-color: green\">c</td><td style=\"background-color: red\">d</td><td style=\"background-color: green\">e</td></tr><tr><td style=\"background-color: green\">a</td><td style=\"background-color: red\">b</td><td style=\"background-color: green\">c</td><td style=\"background-color: red\">d</td><td style=\"background-color: green\">e</td></tr><tr><td style=\"background-color: green\">a</td><td style=\"background-color: red\">b</td><td style=\"background-color: green\">c</td><td style=\"background-color: red\">d</td><td style=\"background-color: green\">e</td></tr></table>"
     },
     "execution_count": 123,
     "metadata": {},
     "output_type": "execute_result"
    }
   ],
   "source": [
    "HTML(playGame(\"awcye\", staticGuesser).toString())"
   ],
   "metadata": {
    "collapsed": false,
    "ExecuteTime": {
     "end_time": "2023-09-06T20:29:48.007527Z",
     "start_time": "2023-09-06T20:29:47.954927Z"
    }
   }
  },
  {
   "cell_type": "markdown",
   "source": [
    "To write better guessers we need to know the dictionary of valid words. Let's load that up."
   ],
   "metadata": {
    "collapsed": false
   }
  },
  {
   "cell_type": "code",
   "execution_count": 124,
   "outputs": [
    {
     "name": "stdout",
     "output_type": "stream",
     "text": [
      "loaded 5497 words\n"
     ]
    }
   ],
   "source": [
    "val dictionary = java.io.File(\"/usr/share/dict/words\")\n",
    "    .readLines()\n",
    "    .filter { it.length == 5 }\n",
    "    .filter { it.all { char -> char in 'a'..'z' } }\n",
    "    .filter { it.toSet().size == 5 }\n",
    "\n",
    "println(\"loaded ${dictionary.size} words\")\n"
   ],
   "metadata": {
    "collapsed": false,
    "ExecuteTime": {
     "end_time": "2023-09-06T20:29:48.170665Z",
     "start_time": "2023-09-06T20:29:47.994622Z"
    }
   }
  },
  {
   "cell_type": "markdown",
   "source": [
    "We also need to get more useful information out of the game state, it's not easy to work with nested lists all the time, so let's write some helper functions to make it easier to work with.\n"
   ],
   "metadata": {
    "collapsed": false
   }
  },
  {
   "cell_type": "code",
   "execution_count": 125,
   "outputs": [
    {
     "name": "stdout",
     "output_type": "stream",
     "text": [
      "red: [c, f]\n",
      "green: {a=0, d=3, e=1}\n",
      "yellow: {b=[1, 2]}\n"
     ]
    }
   ],
   "source": [
    "// just the words\n",
    "fun Game.words() = guesses.map { it.joinToString(\"\") { letter -> letter.char.toString() } }\n",
    "\n",
    "// all red letters\n",
    "fun Game.redLetters() = guesses.flatMap { it.filterIsInstance<Letter.Red>() }\n",
    "    .map { it.char }\n",
    "    .toSet()\n",
    "\n",
    "// all green letters but we need to know the positions too\n",
    "fun Game.greenLetters() = guesses\n",
    "    .map { it.withIndex() }\n",
    "    .flatMap { it.filter { (_, letter) -> letter is Letter.Green } }\n",
    "    .distinctBy { it.value.char }\n",
    "    .associate { it.value.char to it.index }\n",
    "\n",
    "// all yellow letters, except those that turned out green later.\n",
    "// we also need positions for these but remember that a yellow letter can be in multiple positions\n",
    "fun Game.yellowLetters(): Map<Char, Set<Int>> = guesses\n",
    "    .map { it.withIndex() }\n",
    "    .flatMap { it.filter { (_, letter) -> letter is Letter.Yellow } }\n",
    "    .groupBy { it.value.char }\n",
    "    .mapValues { it.value.map { it.index }.toSet() }\n",
    "    .minus(greenLetters().keys)\n",
    "\n",
    "// let's see if it works\n",
    "fun gameFunctionsTest() {\n",
    "    val game = Game(\n",
    "        listOf(\n",
    "            listOf(Letter.Green('a'), Letter.Yellow('b'), Letter.Red('c'), Letter.Green('d'), Letter.Yellow('e')),\n",
    "            listOf(Letter.Green('a'), Letter.Green('e'), Letter.Yellow('b'), Letter.Green('d'), Letter.Red('f'))\n",
    "        )\n",
    "    )\n",
    "    println(\"red: ${game.redLetters()}\")\n",
    "    println(\"green: ${game.greenLetters()}\")\n",
    "    println(\"yellow: ${game.yellowLetters()}\")\n",
    "}\n",
    "\n",
    "gameFunctionsTest()"
   ],
   "metadata": {
    "collapsed": false,
    "ExecuteTime": {
     "end_time": "2023-09-06T20:29:48.498372Z",
     "start_time": "2023-09-06T20:29:48.160460Z"
    }
   }
  },
  {
   "cell_type": "markdown",
   "source": [
    "With that we can now write a better guesser that finds the first word in the dictionary that has none of the red letters, all the green letters at the same positions, and all the yellow letters in any position. For this iteration we will not take into account the positions of the yellow letters.\n"
   ],
   "metadata": {
    "collapsed": false
   }
  },
  {
   "cell_type": "code",
   "execution_count": 126,
   "outputs": [
    {
     "name": "stdout",
     "output_type": "stream",
     "text": [
      "? used: abcde -> true\n",
      "? red([]): abcde -> true\n",
      "? green({}): abcde -> true\n",
      "? yellow({}): abcde -> true\n",
      "> first guess: abcde\n",
      "? used: abcde -> false\n",
      "? used: xxxxx -> true\n",
      "? red([b, d]): xxxxx -> true\n",
      "? green({a=0, c=2, e=4}): xxxxx -> false\n",
      "? used: afcge -> true\n",
      "? red([b, d]): afcge -> true\n",
      "? green({a=0, c=2, e=4}): afcge -> true\n",
      "? yellow({}): afcge -> true\n",
      "> second guess: afcge\n",
      "? used: abcde -> false\n",
      "? used: xxxxx -> true\n",
      "? red([b, d]): xxxxx -> true\n",
      "? green({a=0, c=2, e=4}): xxxxx -> false\n",
      "? used: afcge -> false\n",
      "? used: yyyyy -> true\n",
      "? red([b, d]): yyyyy -> true\n",
      "? green({a=0, c=2, e=4}): yyyyy -> false\n",
      "? used: agcfe -> true\n",
      "? red([b, d]): agcfe -> true\n",
      "? green({a=0, c=2, e=4}): agcfe -> true\n",
      "? yellow({f=[1], g=[3]}): agcfe -> true\n",
      "> third guess: agcfe\n"
     ]
    }
   ],
   "source": [
    "fun simpleFirstMatchGuesser(dictionary: List<String>, debug: Boolean = false): Guesser = { game ->\n",
    "    val redLetters = game.redLetters()\n",
    "    val greenLetters = game.greenLetters()\n",
    "    val yellowLetters = game.yellowLetters()\n",
    "    val usedWords = game.words()\n",
    "\n",
    "    fun Sequence<String>.f(name: String, fn: (String) -> Boolean) = filter {\n",
    "        val result = fn(it)\n",
    "        if (debug) {\n",
    "            println(\"? $name: $it -> $result\")\n",
    "        }\n",
    "        result\n",
    "    }\n",
    "\n",
    "    dictionary\n",
    "        .asSequence()\n",
    "        .f(\"used\") { word -> word !in usedWords }\n",
    "        .f(\"red($redLetters)\") { word -> word.none { it in redLetters } }\n",
    "        .f(\"green($greenLetters)\") { word -> greenLetters.all { (char, index) -> word[index] == char } }\n",
    "        .f(\"yellow($yellowLetters)\") { word -> yellowLetters.all { (char, _) -> char in word } }\n",
    "        .first()\n",
    "}\n",
    "\n",
    "// let's test it out\n",
    "fun testSimpleFirstMatchGuesser() {\n",
    "    val simpleDict = listOf(\"abcde\", \"xxxxx\", \"afcge\", \"yyyyy\", \"agcfe\", \"zzzzz\")\n",
    "    val guesser = simpleFirstMatchGuesser(simpleDict, debug = true)\n",
    "\n",
    "    // shortcuts!\n",
    "    fun g(char: Char) = Letter.Green(char)\n",
    "    fun y(char: Char) = Letter.Yellow(char)\n",
    "    fun r(char: Char) = Letter.Red(char)\n",
    "    val (a, b, c, d, e) = ('a'..'e').toList()\n",
    "    val (f, g) = ('f'..'g').toList()\n",
    "\n",
    "    fun game(vararg letters: Letter) = Game(letters.toList().chunked(5))\n",
    "\n",
    "    val firstGuess = guesser(game())\n",
    "    println(\"> first guess: $firstGuess\")\n",
    "    check(firstGuess == \"abcde\") { \"first guess should be abcde, was $firstGuess\" }\n",
    "\n",
    "    val secondGuess = guesser(\n",
    "        game(\n",
    "            g(a), r(b), g(c), r(d), g(e)\n",
    "        )\n",
    "    )\n",
    "    println(\"> second guess: $secondGuess\")\n",
    "    check(secondGuess == \"afcge\") { \"second guess should be afcge, was $secondGuess\" }\n",
    "\n",
    "    val thirdGuess = guesser(\n",
    "        game(\n",
    "            g(a), r(b), g(c), r(d), y(e),\n",
    "            g(a), y(f), g(c), y(g), g(e)\n",
    "        )\n",
    "    )\n",
    "\n",
    "    println(\"> third guess: $thirdGuess\")\n",
    "    check(thirdGuess == \"agcfe\") { \"third guess should be agcfe, was $thirdGuess\" }\n",
    "}\n",
    "\n",
    "testSimpleFirstMatchGuesser()\n"
   ],
   "metadata": {
    "collapsed": false,
    "ExecuteTime": {
     "end_time": "2023-09-06T20:29:48.939596Z",
     "start_time": "2023-09-06T20:29:48.493869Z"
    }
   }
  },
  {
   "cell_type": "markdown",
   "source": [
    "Now let's play a real game with our guesser. Here's a word it should be able to guess:"
   ],
   "metadata": {
    "collapsed": false
   }
  },
  {
   "cell_type": "code",
   "execution_count": 127,
   "outputs": [
    {
     "data": {
      "text/html": "<table><tr><td style=\"background-color: yellow\">a</td><td style=\"background-color: red\">b</td><td style=\"background-color: red\">h</td><td style=\"background-color: red\">o</td><td style=\"background-color: red\">r</td></tr><tr><td style=\"background-color: yellow\">a</td><td style=\"background-color: yellow\">c</td><td style=\"background-color: yellow\">e</td><td style=\"background-color: red\">d</td><td style=\"background-color: red\">y</td></tr><tr><td style=\"background-color: yellow\">a</td><td style=\"background-color: yellow\">c</td><td style=\"background-color: green\">u</td><td style=\"background-color: red\">t</td><td style=\"background-color: green\">e</td></tr><tr><td style=\"background-color: yellow\">c</td><td style=\"background-color: green\">a</td><td style=\"background-color: green\">u</td><td style=\"background-color: yellow\">s</td><td style=\"background-color: green\">e</td></tr><tr><td style=\"background-color: green\">s</td><td style=\"background-color: green\">a</td><td style=\"background-color: green\">u</td><td style=\"background-color: green\">c</td><td style=\"background-color: green\">e</td></tr></table>"
     },
     "execution_count": 127,
     "metadata": {},
     "output_type": "execute_result"
    }
   ],
   "source": [
    "HTML(playGame(\"sauce\", simpleFirstMatchGuesser(dictionary)).toString())"
   ],
   "metadata": {
    "collapsed": false,
    "ExecuteTime": {
     "end_time": "2023-09-06T20:29:48.982854Z",
     "start_time": "2023-09-06T20:29:48.927008Z"
    }
   }
  },
  {
   "cell_type": "markdown",
   "source": [
    "Sweet, so now we have a guesser that at least makes an attempt to win the game, but we don't know _how_ good it is. Let's write a benchmark function that plays a game a bunch of times and collects statistics about the number of guesses it took to win. In order to make comparisons between guessers easier we will also make sure that the same words are used in each benchmark run.\n"
   ],
   "metadata": {
    "collapsed": false
   }
  },
  {
   "cell_type": "code",
   "execution_count": 128,
   "outputs": [],
   "source": [
    "import java.math.BigDecimal\n",
    "import java.math.RoundingMode\n",
    "\n",
    "val random = Random(0)\n",
    "val benchmarkWords = dictionary.shuffled(random).take(100)\n",
    "\n",
    "sealed class Outcome {\n",
    "    object Lost : Outcome()\n",
    "    data class Won(val guesses: Int) : Outcome()\n",
    "}\n",
    "\n",
    "fun Game.outcome() = if (guesses.last().all { it is Letter.Green }) {\n",
    "    Outcome.Won(guesses.size)\n",
    "} else {\n",
    "    Outcome.Lost\n",
    "}\n",
    "\n",
    "data class Statistics(\n",
    "    val percentWon: BigDecimal,\n",
    "    val guessFrequency: Map<Int, BigDecimal>\n",
    ")\n",
    "\n",
    "fun benchmark(guesser: Guesser, words: List<String> = benchmarkWords): Statistics {\n",
    "    val outcomes = words.map { word ->\n",
    "        val outcome = playGame(word, guesser).outcome()\n",
    "        if (outcome is Outcome.Won) {\n",
    "            println(\"$word: won in ${outcome.guesses} guesses\")\n",
    "        } else {\n",
    "            println(\"$word: lost\")\n",
    "        }\n",
    "        outcome\n",
    "    }\n",
    "\n",
    "    val total = outcomes.size\n",
    "    val numWon = outcomes.count { it is Outcome.Won }\n",
    "    val percentWon = numWon.toDouble() / total * 100\n",
    "\n",
    "    val guessFrequency = outcomes.filterIsInstance<Outcome.Won>()\n",
    "        .map { it.guesses }\n",
    "        .groupingBy { it }\n",
    "        .eachCount()\n",
    "        .mapValues { it.value.toDouble() / total * 100 }\n",
    "        .toSortedMap()\n",
    "\n",
    "    fun Double.round() = BigDecimal(this).setScale(2, RoundingMode.HALF_EVEN)\n",
    "\n",
    "    return Statistics(percentWon.round(), guessFrequency.mapValues { it.value.round() })\n",
    "}"
   ],
   "metadata": {
    "collapsed": false,
    "ExecuteTime": {
     "end_time": "2023-09-06T20:29:49.217569Z",
     "start_time": "2023-09-06T20:29:48.967476Z"
    }
   }
  },
  {
   "cell_type": "markdown",
   "source": [
    "Right, now let's benchmark the simple guesser.\n"
   ],
   "metadata": {
    "collapsed": false
   }
  },
  {
   "cell_type": "code",
   "execution_count": 129,
   "outputs": [
    {
     "name": "stdout",
     "output_type": "stream",
     "text": [
      "boric: won in 3 guesses\n",
      "oscin: lost\n",
      "royal: lost\n",
      "ovate: lost\n",
      "sneck: won in 5 guesses\n",
      "singe: lost\n",
      "mould: won in 5 guesses\n",
      "gotch: lost\n",
      "wrong: lost\n",
      "vibex: won in 5 guesses\n",
      "rudge: won in 4 guesses\n",
      "ouphe: won in 4 guesses\n",
      "zymin: won in 4 guesses\n",
      "trank: lost\n",
      "wiste: lost\n",
      "khvat: won in 5 guesses\n",
      "woald: lost\n",
      "staio: lost\n",
      "wingy: lost\n",
      "unbed: lost\n",
      "withy: lost\n",
      "dicky: won in 4 guesses\n",
      "sexto: won in 3 guesses\n",
      "sutor: won in 3 guesses\n",
      "zoned: won in 4 guesses\n",
      "calor: won in 3 guesses\n",
      "nidor: won in 5 guesses\n",
      "pucka: won in 5 guesses\n",
      "riley: lost\n",
      "tharf: lost\n",
      "enhat: won in 4 guesses\n",
      "godet: won in 5 guesses\n",
      "whisk: won in 4 guesses\n",
      "neuma: won in 5 guesses\n",
      "surfy: won in 4 guesses\n",
      "locus: won in 5 guesses\n",
      "speal: won in 5 guesses\n",
      "maugh: won in 5 guesses\n",
      "trade: lost\n",
      "reask: lost\n",
      "shirk: won in 3 guesses\n",
      "antic: won in 4 guesses\n",
      "furan: lost\n",
      "uckia: won in 4 guesses\n",
      "cloit: won in 3 guesses\n",
      "besan: lost\n",
      "batik: won in 5 guesses\n",
      "squad: lost\n",
      "quoit: lost\n",
      "spoky: won in 5 guesses\n",
      "yomer: lost\n",
      "sauce: won in 5 guesses\n",
      "dusio: won in 3 guesses\n",
      "utchy: lost\n",
      "arvel: lost\n",
      "lardy: lost\n",
      "straw: lost\n",
      "cymba: won in 5 guesses\n",
      "crony: won in 5 guesses\n",
      "coder: won in 3 guesses\n",
      "fairy: won in 5 guesses\n",
      "choli: won in 4 guesses\n",
      "bodhi: won in 2 guesses\n",
      "tepid: lost\n",
      "taled: won in 5 guesses\n",
      "grown: won in 5 guesses\n",
      "vergi: won in 5 guesses\n",
      "yojan: lost\n",
      "onset: lost\n",
      "ticul: won in 5 guesses\n",
      "purse: lost\n",
      "smack: won in 5 guesses\n",
      "kotal: lost\n",
      "clang: won in 5 guesses\n",
      "dunch: won in 5 guesses\n",
      "rebag: lost\n",
      "limsy: won in 5 guesses\n",
      "drate: lost\n",
      "dorty: won in 4 guesses\n",
      "unbid: won in 5 guesses\n",
      "kitar: won in 4 guesses\n",
      "rouse: lost\n",
      "baize: won in 3 guesses\n",
      "flute: won in 5 guesses\n",
      "krone: lost\n",
      "corta: won in 4 guesses\n",
      "pouce: lost\n",
      "metra: lost\n",
      "gulch: lost\n",
      "legua: won in 4 guesses\n",
      "tozer: lost\n",
      "gaunt: lost\n",
      "rance: lost\n",
      "lucet: won in 4 guesses\n",
      "rapid: won in 4 guesses\n",
      "copei: won in 5 guesses\n",
      "scrab: lost\n",
      "tuism: lost\n",
      "match: lost\n",
      "tomin: lost\n"
     ]
    }
   ],
   "source": [
    "val simpleGuesserStats = benchmark(simpleFirstMatchGuesser(dictionary))"
   ],
   "metadata": {
    "collapsed": false,
    "ExecuteTime": {
     "end_time": "2023-09-06T20:29:49.351644Z",
     "start_time": "2023-09-06T20:29:49.215432Z"
    }
   }
  },
  {
   "cell_type": "code",
   "execution_count": 130,
   "outputs": [
    {
     "name": "stdout",
     "output_type": "stream",
     "text": [
      "Simple Guesser won 55.00% of games!\n",
      "Guess frequency:\n",
      "2: 1.00%\n",
      "3: 9.00%\n",
      "4: 17.00%\n",
      "5: 28.00%\n"
     ]
    }
   ],
   "source": [
    "println(\"Simple Guesser won ${simpleGuesserStats.percentWon}% of games!\")\n",
    "println(\"Guess frequency:\")\n",
    "simpleGuesserStats.guessFrequency.forEach { (guesses, percent) ->\n",
    "    println(\"$guesses: $percent%\")\n",
    "}"
   ],
   "metadata": {
    "collapsed": false,
    "ExecuteTime": {
     "end_time": "2023-09-06T20:29:49.411088Z",
     "start_time": "2023-09-06T20:29:49.330722Z"
    }
   }
  },
  {
   "cell_type": "code",
   "execution_count": 131,
   "outputs": [
    {
     "data": {
      "text/html": "   <div id=\"w0kRp1\"></div>\n   <script type=\"text/javascript\" data-lets-plot-script=\"plot\">\n       (function() {\n           var plotSpec={\n\"mapping\":{\n},\n\"data\":{\n\"x\":[2.0,3.0,4.0,5.0],\n\"y\":[1.0,9.0,17.0,28.0]\n},\n\"kind\":\"plot\",\n\"scales\":[{\n\"aesthetic\":\"x\",\n\"limits\":[null,null]\n},{\n\"aesthetic\":\"y\",\n\"limits\":[null,null]\n}],\n\"layers\":[{\n\"mapping\":{\n\"x\":\"x\",\n\"y\":\"y\"\n},\n\"stat\":\"identity\",\n\"sampling\":\"none\",\n\"position\":\"dodge\",\n\"geom\":\"bar\",\n\"data\":{\n}\n}]\n};\n           var plotContainer = document.getElementById(\"w0kRp1\");\n           window.letsPlotCall(function() {{\n               LetsPlot.buildPlotFromProcessedSpecs(plotSpec, -1, -1, plotContainer);\n           }});\n       })();    \n   </script>",
      "application/plot+json": {
       "output_type": "lets_plot_spec",
       "output": {
        "mapping": {},
        "data": {
         "x": [
          2.0,
          3.0,
          4.0,
          5.0
         ],
         "y": [
          1.0,
          9.0,
          17.0,
          28.0
         ]
        },
        "kind": "plot",
        "scales": [
         {
          "aesthetic": "x",
          "limits": [
           null,
           null
          ]
         },
         {
          "aesthetic": "y",
          "limits": [
           null,
           null
          ]
         }
        ],
        "layers": [
         {
          "mapping": {
           "x": "x",
           "y": "y"
          },
          "stat": "identity",
          "sampling": "none",
          "position": "dodge",
          "geom": "bar"
         }
        ]
       },
       "apply_color_scheme": true,
       "swing_enabled": true
      }
     },
     "execution_count": 131,
     "metadata": {},
     "output_type": "execute_result"
    }
   ],
   "source": [
    "plot {\n",
    "    bars {\n",
    "        x(simpleGuesserStats.guessFrequency.keys)\n",
    "        y(simpleGuesserStats.guessFrequency.values)\n",
    "    }\n",
    "}"
   ],
   "metadata": {
    "collapsed": false,
    "ExecuteTime": {
     "end_time": "2023-09-06T20:29:49.476028Z",
     "start_time": "2023-09-06T20:29:49.406892Z"
    }
   }
  },
  {
   "cell_type": "markdown",
   "source": [
    "That's pretty cool! The simple guesser won over half the games and has a nice linear trend line on the guess frequency.\n",
    "\n",
    "We can however, do better. Note that the simple guesser does not take into account the positions of the yellow letters. Let's write a guesser that does and benchmark it.\n"
   ],
   "metadata": {
    "collapsed": false
   }
  },
  {
   "cell_type": "code",
   "execution_count": 132,
   "outputs": [],
   "source": [
    "fun yellowPostionAwareGuesser(dictionary: List<String>, debug: Boolean = false): Guesser = { game ->\n",
    "    val redLetters = game.redLetters()\n",
    "    val greenLetters = game.greenLetters()\n",
    "    val yellowLetters = game.yellowLetters()\n",
    "    val usedWords = game.words()\n",
    "\n",
    "    fun Sequence<String>.f(name: String, fn: (String) -> Boolean) = filter {\n",
    "        val result = fn(it)\n",
    "        if (debug) {\n",
    "            println(\"? $name: $it -> $result\")\n",
    "        }\n",
    "        result\n",
    "    }\n",
    "\n",
    "    dictionary\n",
    "        .asSequence()\n",
    "        .f(\"used\") { word -> word !in usedWords }\n",
    "        .f(\"red($redLetters)\") { word -> word.none { it in redLetters } }\n",
    "        .f(\"green($greenLetters)\") { word -> greenLetters.all { (char, index) -> word[index] == char } }\n",
    "        .f(\"yellow($yellowLetters)\") { word ->\n",
    "            yellowLetters.all { (char, indexes) ->\n",
    "                char in word && indexes.all { index -> word[index] != char }\n",
    "            }\n",
    "        }\n",
    "        .first()\n",
    "}"
   ],
   "metadata": {
    "collapsed": false,
    "ExecuteTime": {
     "end_time": "2023-09-06T20:29:49.655458Z",
     "start_time": "2023-09-06T20:29:49.474224Z"
    }
   }
  },
  {
   "cell_type": "markdown",
   "source": [
    "Let's check if it can guess the same word as before:"
   ],
   "metadata": {
    "collapsed": false
   }
  },
  {
   "cell_type": "code",
   "execution_count": 133,
   "outputs": [
    {
     "data": {
      "text/html": "<table><tr><td style=\"background-color: yellow\">a</td><td style=\"background-color: red\">b</td><td style=\"background-color: red\">h</td><td style=\"background-color: red\">o</td><td style=\"background-color: red\">r</td></tr><tr><td style=\"background-color: yellow\">c</td><td style=\"background-color: green\">a</td><td style=\"background-color: red\">d</td><td style=\"background-color: yellow\">e</td><td style=\"background-color: red\">t</td></tr><tr><td style=\"background-color: red\">l</td><td style=\"background-color: green\">a</td><td style=\"background-color: red\">n</td><td style=\"background-color: green\">c</td><td style=\"background-color: green\">e</td></tr><tr><td style=\"background-color: green\">s</td><td style=\"background-color: green\">a</td><td style=\"background-color: green\">u</td><td style=\"background-color: green\">c</td><td style=\"background-color: green\">e</td></tr></table>"
     },
     "execution_count": 133,
     "metadata": {},
     "output_type": "execute_result"
    }
   ],
   "source": [
    "HTML(playGame(\"sauce\", yellowPostionAwareGuesser(dictionary)).toString())"
   ],
   "metadata": {
    "collapsed": false,
    "ExecuteTime": {
     "end_time": "2023-09-06T20:29:49.717584Z",
     "start_time": "2023-09-06T20:29:49.653098Z"
    }
   }
  },
  {
   "cell_type": "markdown",
   "source": [
    "Sweet, it can! Now let's benchmark it."
   ],
   "metadata": {
    "collapsed": false
   }
  },
  {
   "cell_type": "code",
   "execution_count": 134,
   "outputs": [
    {
     "name": "stdout",
     "output_type": "stream",
     "text": [
      "boric: won in 3 guesses\n",
      "oscin: won in 4 guesses\n",
      "royal: lost\n",
      "ovate: won in 4 guesses\n",
      "sneck: won in 4 guesses\n",
      "singe: lost\n",
      "mould: won in 4 guesses\n",
      "gotch: won in 5 guesses\n",
      "wrong: won in 5 guesses\n",
      "vibex: won in 4 guesses\n",
      "rudge: won in 4 guesses\n",
      "ouphe: won in 4 guesses\n",
      "zymin: won in 4 guesses\n",
      "trank: lost\n",
      "wiste: lost\n",
      "khvat: won in 4 guesses\n",
      "woald: won in 5 guesses\n",
      "staio: won in 5 guesses\n",
      "wingy: lost\n",
      "unbed: won in 5 guesses\n",
      "withy: lost\n",
      "dicky: won in 3 guesses\n",
      "sexto: won in 3 guesses\n",
      "sutor: won in 3 guesses\n",
      "zoned: won in 4 guesses\n",
      "calor: won in 2 guesses\n",
      "nidor: won in 5 guesses\n",
      "pucka: won in 4 guesses\n",
      "riley: won in 4 guesses\n",
      "tharf: won in 5 guesses\n",
      "enhat: won in 4 guesses\n",
      "godet: won in 4 guesses\n",
      "whisk: won in 4 guesses\n",
      "neuma: won in 5 guesses\n",
      "surfy: won in 4 guesses\n",
      "locus: won in 5 guesses\n",
      "speal: lost\n",
      "maugh: won in 5 guesses\n",
      "trade: lost\n",
      "reask: won in 5 guesses\n",
      "shirk: won in 3 guesses\n",
      "antic: won in 5 guesses\n",
      "furan: won in 5 guesses\n",
      "uckia: won in 5 guesses\n",
      "cloit: won in 3 guesses\n",
      "besan: lost\n",
      "batik: won in 4 guesses\n",
      "squad: won in 5 guesses\n",
      "quoit: won in 4 guesses\n",
      "spoky: won in 5 guesses\n",
      "yomer: lost\n",
      "sauce: won in 4 guesses\n",
      "dusio: won in 3 guesses\n",
      "utchy: won in 4 guesses\n",
      "arvel: lost\n",
      "lardy: won in 5 guesses\n",
      "straw: lost\n",
      "cymba: won in 4 guesses\n",
      "crony: won in 5 guesses\n",
      "coder: won in 3 guesses\n",
      "fairy: won in 4 guesses\n",
      "choli: won in 4 guesses\n",
      "bodhi: won in 2 guesses\n",
      "tepid: won in 5 guesses\n",
      "taled: won in 4 guesses\n",
      "grown: won in 5 guesses\n",
      "vergi: won in 4 guesses\n",
      "yojan: lost\n",
      "onset: won in 4 guesses\n",
      "ticul: won in 4 guesses\n",
      "purse: lost\n",
      "smack: won in 5 guesses\n",
      "kotal: won in 4 guesses\n",
      "clang: won in 4 guesses\n",
      "dunch: won in 4 guesses\n",
      "rebag: won in 3 guesses\n",
      "limsy: won in 5 guesses\n",
      "drate: won in 5 guesses\n",
      "dorty: won in 4 guesses\n",
      "unbid: won in 4 guesses\n",
      "kitar: won in 4 guesses\n",
      "rouse: won in 5 guesses\n",
      "baize: won in 3 guesses\n",
      "flute: lost\n",
      "krone: lost\n",
      "corta: won in 4 guesses\n",
      "pouce: won in 4 guesses\n",
      "metra: won in 4 guesses\n",
      "gulch: won in 4 guesses\n",
      "legua: won in 5 guesses\n",
      "tozer: lost\n",
      "gaunt: won in 4 guesses\n",
      "rance: won in 4 guesses\n",
      "lucet: won in 4 guesses\n",
      "rapid: won in 5 guesses\n",
      "copei: won in 5 guesses\n",
      "scrab: won in 4 guesses\n",
      "tuism: won in 5 guesses\n",
      "match: lost\n",
      "tomin: won in 4 guesses\n"
     ]
    }
   ],
   "source": [
    "val yellowPositionAwareGuesserStats = benchmark(yellowPostionAwareGuesser(dictionary))"
   ],
   "metadata": {
    "collapsed": false,
    "ExecuteTime": {
     "end_time": "2023-09-06T20:29:49.874459Z",
     "start_time": "2023-09-06T20:29:49.702295Z"
    }
   }
  },
  {
   "cell_type": "code",
   "execution_count": 135,
   "outputs": [
    {
     "name": "stdout",
     "output_type": "stream",
     "text": [
      "Yellow Position Aware Guesser won 82.00% of games!\n",
      "Guess Frequency\n",
      "2: 2.00%\n",
      "3: 10.00%\n",
      "4: 42.00%\n",
      "5: 28.00%\n"
     ]
    }
   ],
   "source": [
    "println(\"Yellow Position Aware Guesser won ${yellowPositionAwareGuesserStats.percentWon}% of games!\")\n",
    "println(\"Guess Frequency\")\n",
    "yellowPositionAwareGuesserStats.guessFrequency.forEach { (guess, frequency) ->\n",
    "    println(\"$guess: $frequency%\")\n",
    "}"
   ],
   "metadata": {
    "collapsed": false,
    "ExecuteTime": {
     "end_time": "2023-09-06T20:29:49.943984Z",
     "start_time": "2023-09-06T20:29:49.862431Z"
    }
   }
  },
  {
   "cell_type": "code",
   "execution_count": 136,
   "outputs": [
    {
     "data": {
      "text/html": "   <div id=\"NLfCXq\"></div>\n   <script type=\"text/javascript\" data-lets-plot-script=\"plot\">\n       (function() {\n           var plotSpec={\n\"mapping\":{\n},\n\"data\":{\n\"x\":[2.0,3.0,4.0,5.0],\n\"y\":[2.0,10.0,42.0,28.0]\n},\n\"kind\":\"plot\",\n\"scales\":[{\n\"aesthetic\":\"x\",\n\"limits\":[null,null]\n},{\n\"aesthetic\":\"y\",\n\"limits\":[null,null]\n}],\n\"layers\":[{\n\"mapping\":{\n\"x\":\"x\",\n\"y\":\"y\"\n},\n\"stat\":\"identity\",\n\"sampling\":\"none\",\n\"position\":\"dodge\",\n\"geom\":\"bar\",\n\"data\":{\n}\n}]\n};\n           var plotContainer = document.getElementById(\"NLfCXq\");\n           window.letsPlotCall(function() {{\n               LetsPlot.buildPlotFromProcessedSpecs(plotSpec, -1, -1, plotContainer);\n           }});\n       })();    \n   </script>",
      "application/plot+json": {
       "output_type": "lets_plot_spec",
       "output": {
        "mapping": {},
        "data": {
         "x": [
          2.0,
          3.0,
          4.0,
          5.0
         ],
         "y": [
          2.0,
          10.0,
          42.0,
          28.0
         ]
        },
        "kind": "plot",
        "scales": [
         {
          "aesthetic": "x",
          "limits": [
           null,
           null
          ]
         },
         {
          "aesthetic": "y",
          "limits": [
           null,
           null
          ]
         }
        ],
        "layers": [
         {
          "mapping": {
           "x": "x",
           "y": "y"
          },
          "stat": "identity",
          "sampling": "none",
          "position": "dodge",
          "geom": "bar"
         }
        ]
       },
       "apply_color_scheme": true,
       "swing_enabled": true
      }
     },
     "execution_count": 136,
     "metadata": {},
     "output_type": "execute_result"
    }
   ],
   "source": [
    "plot {\n",
    "    bars {\n",
    "        x(yellowPositionAwareGuesserStats.guessFrequency.keys)\n",
    "        y(yellowPositionAwareGuesserStats.guessFrequency.values)\n",
    "    }\n",
    "}"
   ],
   "metadata": {
    "collapsed": false,
    "ExecuteTime": {
     "end_time": "2023-09-06T20:29:50.000231Z",
     "start_time": "2023-09-06T20:29:49.939989Z"
    }
   }
  },
  {
   "cell_type": "markdown",
   "source": [
    "That is a significant improvement! The yellow position aware guesser wins over 80% of games and has a much nicer guess frequency distribution: in fact it wins most games on or before the 4th guess.\n"
   ],
   "metadata": {
    "collapsed": false
   }
  }
 ],
 "metadata": {
  "kernelspec": {
   "display_name": "Kotlin",
   "language": "kotlin",
   "name": "kotlin"
  },
  "language_info": {
   "name": "kotlin",
   "version": "1.8.20",
   "mimetype": "text/x-kotlin",
   "file_extension": ".kt",
   "pygments_lexer": "kotlin",
   "codemirror_mode": "text/x-kotlin",
   "nbconvert_exporter": ""
  },
  "ktnbPluginMetadata": {
   "isAddProjectLibrariesToClasspath": false
  }
 },
 "nbformat": 4,
 "nbformat_minor": 0
}
